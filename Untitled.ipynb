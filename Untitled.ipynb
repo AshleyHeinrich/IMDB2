{
 "cells": [
  {
   "cell_type": "markdown",
   "id": "bc34e40b",
   "metadata": {},
   "source": [
    "# IMDB2 CORE"
   ]
  },
  {
   "cell_type": "markdown",
   "id": "80b34d3e",
   "metadata": {},
   "source": [
    "## Import and Load Data"
   ]
  },
  {
   "cell_type": "code",
   "execution_count": 1,
   "id": "98aa7af8",
   "metadata": {},
   "outputs": [],
   "source": [
    "import pandas as pd\n",
    "import numpy as np"
   ]
  },
  {
   "cell_type": "code",
   "execution_count": 3,
   "id": "cfa59c17",
   "metadata": {},
   "outputs": [],
   "source": [
    "# Load basics dataset\n",
    "basics_url = ('https://datasets.imdbws.com/title.basics.tsv.gz')\n",
    "df_basics = pd.read_csv(basics_url, sep='\\t', low_memory=False)\n",
    "\n",
    "#Load ratings dataset\n",
    "ratings_url = ('https://datasets.imdbws.com/title.ratings.tsv.gz')\n",
    "df_ratings = pd.read_csv(ratings_url, sep='\\t', low_memory=False)\n",
    "\n",
    "# Load akas dataset\n",
    "akas_url = ('https://datasets.imdbws.com/title.akas.tsv.gz')\n",
    "df_akas = pd.read_csv(akas_url, sep='\\t', low_memory=False)"
   ]
  },
  {
   "cell_type": "markdown",
   "id": "dadb1c55",
   "metadata": {},
   "source": [
    "## Exploring and Cleaning"
   ]
  },
  {
   "cell_type": "markdown",
   "id": "1f79aeb0",
   "metadata": {},
   "source": [
    "**AKAS Dataset**"
   ]
  },
  {
   "cell_type": "code",
   "execution_count": 5,
   "id": "1099456b",
   "metadata": {},
   "outputs": [
    {
     "data": {
      "text/html": [
       "<div>\n",
       "<style scoped>\n",
       "    .dataframe tbody tr th:only-of-type {\n",
       "        vertical-align: middle;\n",
       "    }\n",
       "\n",
       "    .dataframe tbody tr th {\n",
       "        vertical-align: top;\n",
       "    }\n",
       "\n",
       "    .dataframe thead th {\n",
       "        text-align: right;\n",
       "    }\n",
       "</style>\n",
       "<table border=\"1\" class=\"dataframe\">\n",
       "  <thead>\n",
       "    <tr style=\"text-align: right;\">\n",
       "      <th></th>\n",
       "      <th>titleId</th>\n",
       "      <th>ordering</th>\n",
       "      <th>title</th>\n",
       "      <th>region</th>\n",
       "      <th>language</th>\n",
       "      <th>types</th>\n",
       "      <th>attributes</th>\n",
       "      <th>isOriginalTitle</th>\n",
       "    </tr>\n",
       "  </thead>\n",
       "  <tbody>\n",
       "    <tr>\n",
       "      <th>0</th>\n",
       "      <td>tt0000001</td>\n",
       "      <td>1</td>\n",
       "      <td>Карменсіта</td>\n",
       "      <td>UA</td>\n",
       "      <td>\\N</td>\n",
       "      <td>imdbDisplay</td>\n",
       "      <td>\\N</td>\n",
       "      <td>0</td>\n",
       "    </tr>\n",
       "    <tr>\n",
       "      <th>1</th>\n",
       "      <td>tt0000001</td>\n",
       "      <td>2</td>\n",
       "      <td>Carmencita</td>\n",
       "      <td>DE</td>\n",
       "      <td>\\N</td>\n",
       "      <td>\\N</td>\n",
       "      <td>literal title</td>\n",
       "      <td>0</td>\n",
       "    </tr>\n",
       "    <tr>\n",
       "      <th>2</th>\n",
       "      <td>tt0000001</td>\n",
       "      <td>3</td>\n",
       "      <td>Carmencita - spanyol tánc</td>\n",
       "      <td>HU</td>\n",
       "      <td>\\N</td>\n",
       "      <td>imdbDisplay</td>\n",
       "      <td>\\N</td>\n",
       "      <td>0</td>\n",
       "    </tr>\n",
       "    <tr>\n",
       "      <th>3</th>\n",
       "      <td>tt0000001</td>\n",
       "      <td>4</td>\n",
       "      <td>Καρμενσίτα</td>\n",
       "      <td>GR</td>\n",
       "      <td>\\N</td>\n",
       "      <td>imdbDisplay</td>\n",
       "      <td>\\N</td>\n",
       "      <td>0</td>\n",
       "    </tr>\n",
       "    <tr>\n",
       "      <th>4</th>\n",
       "      <td>tt0000001</td>\n",
       "      <td>5</td>\n",
       "      <td>Карменсита</td>\n",
       "      <td>RU</td>\n",
       "      <td>\\N</td>\n",
       "      <td>imdbDisplay</td>\n",
       "      <td>\\N</td>\n",
       "      <td>0</td>\n",
       "    </tr>\n",
       "  </tbody>\n",
       "</table>\n",
       "</div>"
      ],
      "text/plain": [
       "     titleId  ordering                      title region language  \\\n",
       "0  tt0000001         1                 Карменсіта     UA       \\N   \n",
       "1  tt0000001         2                 Carmencita     DE       \\N   \n",
       "2  tt0000001         3  Carmencita - spanyol tánc     HU       \\N   \n",
       "3  tt0000001         4                 Καρμενσίτα     GR       \\N   \n",
       "4  tt0000001         5                 Карменсита     RU       \\N   \n",
       "\n",
       "         types     attributes isOriginalTitle  \n",
       "0  imdbDisplay             \\N               0  \n",
       "1           \\N  literal title               0  \n",
       "2  imdbDisplay             \\N               0  \n",
       "3  imdbDisplay             \\N               0  \n",
       "4  imdbDisplay             \\N               0  "
      ]
     },
     "execution_count": 5,
     "metadata": {},
     "output_type": "execute_result"
    }
   ],
   "source": [
    "df_akas.head()"
   ]
  },
  {
   "cell_type": "code",
   "execution_count": 7,
   "id": "8144c9c2",
   "metadata": {},
   "outputs": [
    {
     "name": "stdout",
     "output_type": "stream",
     "text": [
      "<class 'pandas.core.frame.DataFrame'>\n",
      "RangeIndex: 35723981 entries, 0 to 35723980\n",
      "Data columns (total 8 columns):\n",
      " #   Column           Dtype \n",
      "---  ------           ----- \n",
      " 0   titleId          object\n",
      " 1   ordering         int64 \n",
      " 2   title            object\n",
      " 3   region           object\n",
      " 4   language         object\n",
      " 5   types            object\n",
      " 6   attributes       object\n",
      " 7   isOriginalTitle  object\n",
      "dtypes: int64(1), object(7)\n",
      "memory usage: 2.1+ GB\n"
     ]
    }
   ],
   "source": [
    "df_akas.info()"
   ]
  },
  {
   "cell_type": "code",
   "execution_count": 9,
   "id": "22e68257",
   "metadata": {},
   "outputs": [],
   "source": [
    "df_akas = df_akas.replace({'\\\\N':np.nan})"
   ]
  },
  {
   "cell_type": "code",
   "execution_count": 11,
   "id": "93e7222e",
   "metadata": {},
   "outputs": [
    {
     "data": {
      "text/plain": [
       "titleId                   0\n",
       "ordering                  0\n",
       "title                     5\n",
       "region              1888398\n",
       "language            6583607\n",
       "types              30184309\n",
       "attributes         35465560\n",
       "isOriginalTitle        2109\n",
       "dtype: int64"
      ]
     },
     "execution_count": 11,
     "metadata": {},
     "output_type": "execute_result"
    }
   ],
   "source": [
    "df_akas.isna().sum()"
   ]
  },
  {
   "cell_type": "code",
   "execution_count": 13,
   "id": "8bf7723b",
   "metadata": {},
   "outputs": [],
   "source": [
    "# Keeping only US movies\n",
    "df_akas.drop(df_akas.loc[df_akas['region'] != 'US'].index, inplace =True)"
   ]
  },
  {
   "cell_type": "code",
   "execution_count": 15,
   "id": "9a2eb0f7",
   "metadata": {},
   "outputs": [
    {
     "data": {
      "text/plain": [
       "US    1432658\n",
       "Name: region, dtype: int64"
      ]
     },
     "execution_count": 15,
     "metadata": {},
     "output_type": "execute_result"
    }
   ],
   "source": [
    "df_akas['region'].value_counts()"
   ]
  },
  {
   "cell_type": "markdown",
   "id": "934aef52",
   "metadata": {},
   "source": [
    "**BASIC DATASET**"
   ]
  },
  {
   "cell_type": "code",
   "execution_count": 68,
   "id": "e6396ecf",
   "metadata": {},
   "outputs": [
    {
     "data": {
      "text/html": [
       "<div>\n",
       "<style scoped>\n",
       "    .dataframe tbody tr th:only-of-type {\n",
       "        vertical-align: middle;\n",
       "    }\n",
       "\n",
       "    .dataframe tbody tr th {\n",
       "        vertical-align: top;\n",
       "    }\n",
       "\n",
       "    .dataframe thead th {\n",
       "        text-align: right;\n",
       "    }\n",
       "</style>\n",
       "<table border=\"1\" class=\"dataframe\">\n",
       "  <thead>\n",
       "    <tr style=\"text-align: right;\">\n",
       "      <th></th>\n",
       "      <th>tconst</th>\n",
       "      <th>titleType</th>\n",
       "      <th>primaryTitle</th>\n",
       "      <th>originalTitle</th>\n",
       "      <th>isAdult</th>\n",
       "      <th>startYear</th>\n",
       "      <th>endYear</th>\n",
       "      <th>runtimeMinutes</th>\n",
       "      <th>genres</th>\n",
       "    </tr>\n",
       "  </thead>\n",
       "  <tbody>\n",
       "    <tr>\n",
       "      <th>13082</th>\n",
       "      <td>tt0013274</td>\n",
       "      <td>movie</td>\n",
       "      <td>Istoriya grazhdanskoy voyny</td>\n",
       "      <td>Istoriya grazhdanskoy voyny</td>\n",
       "      <td>0</td>\n",
       "      <td>2021</td>\n",
       "      <td>NaN</td>\n",
       "      <td>94</td>\n",
       "      <td>Documentary</td>\n",
       "    </tr>\n",
       "    <tr>\n",
       "      <th>34803</th>\n",
       "      <td>tt0035423</td>\n",
       "      <td>movie</td>\n",
       "      <td>Kate &amp; Leopold</td>\n",
       "      <td>Kate &amp; Leopold</td>\n",
       "      <td>0</td>\n",
       "      <td>2001</td>\n",
       "      <td>NaN</td>\n",
       "      <td>118</td>\n",
       "      <td>Comedy,Fantasy,Romance</td>\n",
       "    </tr>\n",
       "    <tr>\n",
       "      <th>61116</th>\n",
       "      <td>tt0062336</td>\n",
       "      <td>movie</td>\n",
       "      <td>The Tango of the Widower and Its Distorting Mi...</td>\n",
       "      <td>El tango del viudo y su espejo deformante</td>\n",
       "      <td>0</td>\n",
       "      <td>2020</td>\n",
       "      <td>NaN</td>\n",
       "      <td>70</td>\n",
       "      <td>Drama</td>\n",
       "    </tr>\n",
       "    <tr>\n",
       "      <th>67669</th>\n",
       "      <td>tt0069049</td>\n",
       "      <td>movie</td>\n",
       "      <td>The Other Side of the Wind</td>\n",
       "      <td>The Other Side of the Wind</td>\n",
       "      <td>0</td>\n",
       "      <td>2018</td>\n",
       "      <td>NaN</td>\n",
       "      <td>122</td>\n",
       "      <td>Drama</td>\n",
       "    </tr>\n",
       "    <tr>\n",
       "      <th>76059</th>\n",
       "      <td>tt0077684</td>\n",
       "      <td>movie</td>\n",
       "      <td>Histórias de Combóios em Portugal</td>\n",
       "      <td>Histórias de Combóios em Portugal</td>\n",
       "      <td>0</td>\n",
       "      <td>2022</td>\n",
       "      <td>NaN</td>\n",
       "      <td>46</td>\n",
       "      <td>Documentary</td>\n",
       "    </tr>\n",
       "  </tbody>\n",
       "</table>\n",
       "</div>"
      ],
      "text/plain": [
       "          tconst titleType                                       primaryTitle  \\\n",
       "13082  tt0013274     movie                        Istoriya grazhdanskoy voyny   \n",
       "34803  tt0035423     movie                                     Kate & Leopold   \n",
       "61116  tt0062336     movie  The Tango of the Widower and Its Distorting Mi...   \n",
       "67669  tt0069049     movie                         The Other Side of the Wind   \n",
       "76059  tt0077684     movie                  Histórias de Combóios em Portugal   \n",
       "\n",
       "                                   originalTitle isAdult  startYear endYear  \\\n",
       "13082                Istoriya grazhdanskoy voyny       0       2021     NaN   \n",
       "34803                             Kate & Leopold       0       2001     NaN   \n",
       "61116  El tango del viudo y su espejo deformante       0       2020     NaN   \n",
       "67669                 The Other Side of the Wind       0       2018     NaN   \n",
       "76059          Histórias de Combóios em Portugal       0       2022     NaN   \n",
       "\n",
       "      runtimeMinutes                  genres  \n",
       "13082             94             Documentary  \n",
       "34803            118  Comedy,Fantasy,Romance  \n",
       "61116             70                   Drama  \n",
       "67669            122                   Drama  \n",
       "76059             46             Documentary  "
      ]
     },
     "execution_count": 68,
     "metadata": {},
     "output_type": "execute_result"
    }
   ],
   "source": [
    "df_basics.head()"
   ]
  },
  {
   "cell_type": "code",
   "execution_count": 69,
   "id": "ebedc3b0",
   "metadata": {},
   "outputs": [
    {
     "name": "stdout",
     "output_type": "stream",
     "text": [
      "<class 'pandas.core.frame.DataFrame'>\n",
      "Int64Index: 223079 entries, 13082 to 9806247\n",
      "Data columns (total 9 columns):\n",
      " #   Column          Non-Null Count   Dtype \n",
      "---  ------          --------------   ----- \n",
      " 0   tconst          223079 non-null  object\n",
      " 1   titleType       223079 non-null  object\n",
      " 2   primaryTitle    223079 non-null  object\n",
      " 3   originalTitle   223079 non-null  object\n",
      " 4   isAdult         223079 non-null  object\n",
      " 5   startYear       223079 non-null  int64 \n",
      " 6   endYear         0 non-null       object\n",
      " 7   runtimeMinutes  223079 non-null  object\n",
      " 8   genres          223079 non-null  object\n",
      "dtypes: int64(1), object(8)\n",
      "memory usage: 17.0+ MB\n"
     ]
    }
   ],
   "source": [
    "df_basics.info()"
   ]
  },
  {
   "cell_type": "code",
   "execution_count": 70,
   "id": "90c38485",
   "metadata": {},
   "outputs": [],
   "source": [
    "df_basics = df_basics.replace({'\\\\N':np.nan})"
   ]
  },
  {
   "cell_type": "code",
   "execution_count": 71,
   "id": "d1cd20c0",
   "metadata": {},
   "outputs": [
    {
     "data": {
      "text/plain": [
       "tconst                 0\n",
       "titleType              0\n",
       "primaryTitle           0\n",
       "originalTitle          0\n",
       "isAdult                0\n",
       "startYear              0\n",
       "endYear           223079\n",
       "runtimeMinutes         0\n",
       "genres                 0\n",
       "dtype: int64"
      ]
     },
     "execution_count": 71,
     "metadata": {},
     "output_type": "execute_result"
    }
   ],
   "source": [
    "df_basics.isna().sum()"
   ]
  },
  {
   "cell_type": "code",
   "execution_count": 72,
   "id": "3a6d664f",
   "metadata": {},
   "outputs": [],
   "source": [
    "# Eliminate movies that are null for runtimeMinutes and genres (Basics)\n",
    "\n",
    "df_basics = df_basics.dropna(axis = 0, subset =['runtimeMinutes', 'genres'])"
   ]
  },
  {
   "cell_type": "code",
   "execution_count": 73,
   "id": "7ea563e5",
   "metadata": {},
   "outputs": [
    {
     "data": {
      "text/plain": [
       "tconst                 0\n",
       "titleType              0\n",
       "primaryTitle           0\n",
       "originalTitle          0\n",
       "isAdult                0\n",
       "startYear              0\n",
       "endYear           223079\n",
       "runtimeMinutes         0\n",
       "genres                 0\n",
       "dtype: int64"
      ]
     },
     "execution_count": 73,
     "metadata": {},
     "output_type": "execute_result"
    }
   ],
   "source": [
    "df_basics.isna().sum()"
   ]
  },
  {
   "cell_type": "code",
   "execution_count": 74,
   "id": "110b4a8d",
   "metadata": {},
   "outputs": [
    {
     "data": {
      "text/plain": [
       "movie    223079\n",
       "Name: titleType, dtype: int64"
      ]
     },
     "execution_count": 74,
     "metadata": {},
     "output_type": "execute_result"
    }
   ],
   "source": [
    "df_basics['titleType'].value_counts()"
   ]
  },
  {
   "cell_type": "code",
   "execution_count": 75,
   "id": "6a170cf0",
   "metadata": {},
   "outputs": [],
   "source": [
    "# keep only titleType==Movie\n",
    "df_basics.drop(df_basics.loc[df_basics['titleType'] != 'movie'].index, inplace =True)"
   ]
  },
  {
   "cell_type": "code",
   "execution_count": 76,
   "id": "a7944584",
   "metadata": {},
   "outputs": [
    {
     "data": {
      "text/plain": [
       "movie    223079\n",
       "Name: titleType, dtype: int64"
      ]
     },
     "execution_count": 76,
     "metadata": {},
     "output_type": "execute_result"
    }
   ],
   "source": [
    "# Verifying Drop\n",
    "df_basics['titleType'].value_counts()"
   ]
  },
  {
   "cell_type": "code",
   "execution_count": 77,
   "id": "ee4584d1",
   "metadata": {},
   "outputs": [
    {
     "data": {
      "text/plain": [
       "2017    14366\n",
       "2018    14321\n",
       "2019    14054\n",
       "2016    13949\n",
       "2015    13475\n",
       "2014    13100\n",
       "2022    12730\n",
       "2013    12380\n",
       "2021    12327\n",
       "2012    11625\n",
       "2020    11561\n",
       "2011    10773\n",
       "2010    10200\n",
       "2009     9351\n",
       "2008     8147\n",
       "2007     6962\n",
       "2006     6512\n",
       "2005     5828\n",
       "2004     5201\n",
       "2003     4587\n",
       "2002     4131\n",
       "2001     3861\n",
       "2000     3638\n",
       "Name: startYear, dtype: int64"
      ]
     },
     "execution_count": 77,
     "metadata": {},
     "output_type": "execute_result"
    }
   ],
   "source": [
    "pd.set_option(\"display.max_rows\", None)\n",
    "df_basics['startYear'].value_counts()"
   ]
  },
  {
   "cell_type": "code",
   "execution_count": 78,
   "id": "18058093",
   "metadata": {},
   "outputs": [],
   "source": [
    "df_basics = df_basics.dropna(axis = 0, subset =['startYear'])"
   ]
  },
  {
   "cell_type": "code",
   "execution_count": 79,
   "id": "32c27f17",
   "metadata": {},
   "outputs": [
    {
     "data": {
      "text/plain": [
       "tconst                 0\n",
       "titleType              0\n",
       "primaryTitle           0\n",
       "originalTitle          0\n",
       "isAdult                0\n",
       "startYear              0\n",
       "endYear           223079\n",
       "runtimeMinutes         0\n",
       "genres                 0\n",
       "dtype: int64"
      ]
     },
     "execution_count": 79,
     "metadata": {},
     "output_type": "execute_result"
    }
   ],
   "source": [
    "df_basics.isna().sum()"
   ]
  },
  {
   "cell_type": "code",
   "execution_count": 80,
   "id": "58f1c1ea",
   "metadata": {},
   "outputs": [],
   "source": [
    "df_basics['startYear'] = df_basics['startYear'].astype('int64')"
   ]
  },
  {
   "cell_type": "code",
   "execution_count": 81,
   "id": "5378b6df",
   "metadata": {},
   "outputs": [],
   "source": [
    "# keep startYear 2000-2022\n",
    "## THIS ISN\"T WORKING *****\n",
    "df_basics.drop(df_basics.loc[df_basics['startYear'] > 2022].index, inplace =True)\n"
   ]
  },
  {
   "cell_type": "code",
   "execution_count": 82,
   "id": "17725226",
   "metadata": {},
   "outputs": [],
   "source": [
    "df_basics.drop(df_basics.loc[df_basics['startYear'] < 2000].index, inplace =True)"
   ]
  },
  {
   "cell_type": "code",
   "execution_count": 83,
   "id": "4b1a18a3",
   "metadata": {},
   "outputs": [
    {
     "data": {
      "text/plain": [
       "2017    14366\n",
       "2018    14321\n",
       "2019    14054\n",
       "2016    13949\n",
       "2015    13475\n",
       "2014    13100\n",
       "2022    12730\n",
       "2013    12380\n",
       "2021    12327\n",
       "2012    11625\n",
       "2020    11561\n",
       "2011    10773\n",
       "2010    10200\n",
       "2009     9351\n",
       "2008     8147\n",
       "2007     6962\n",
       "2006     6512\n",
       "2005     5828\n",
       "2004     5201\n",
       "2003     4587\n",
       "2002     4131\n",
       "2001     3861\n",
       "2000     3638\n",
       "Name: startYear, dtype: int64"
      ]
     },
     "execution_count": 83,
     "metadata": {},
     "output_type": "execute_result"
    }
   ],
   "source": [
    "pd.set_option(\"display.max_rows\", None)\n",
    "df_basics['startYear'].value_counts()"
   ]
  },
  {
   "cell_type": "code",
   "execution_count": null,
   "id": "8b36cf19",
   "metadata": {},
   "outputs": [],
   "source": []
  }
 ],
 "metadata": {
  "kernelspec": {
   "display_name": "Python (dojo-env)",
   "language": "python",
   "name": "dojo-env"
  },
  "language_info": {
   "codemirror_mode": {
    "name": "ipython",
    "version": 3
   },
   "file_extension": ".py",
   "mimetype": "text/x-python",
   "name": "python",
   "nbconvert_exporter": "python",
   "pygments_lexer": "ipython3",
   "version": "3.9.15"
  },
  "toc": {
   "base_numbering": 1,
   "nav_menu": {},
   "number_sections": false,
   "sideBar": true,
   "skip_h1_title": false,
   "title_cell": "Table of Contents",
   "title_sidebar": "Contents",
   "toc_cell": false,
   "toc_position": {},
   "toc_section_display": true,
   "toc_window_display": false
  }
 },
 "nbformat": 4,
 "nbformat_minor": 5
}
