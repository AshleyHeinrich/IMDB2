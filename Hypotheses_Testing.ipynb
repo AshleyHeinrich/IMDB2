{
 "cells": [
  {
   "cell_type": "code",
   "execution_count": 51,
   "id": "c59ee710",
   "metadata": {},
   "outputs": [],
   "source": [
    "import pandas as pd\n",
    "import numpy as np\n",
    "import json\n",
    "from scipy import stats\n",
    "import seaborn as sns\n",
    "import matplotlib.pyplot as plt\n",
    "from matplotlib.ticker import FormatStrFormatter, StrMethodFormatter"
   ]
  },
  {
   "cell_type": "code",
   "execution_count": 52,
   "id": "d29040c2",
   "metadata": {},
   "outputs": [
    {
     "data": {
      "text/plain": [
       "['final_tmdb_data_2000.csv.gz',\n",
       " 'final_tmdb_data_2001.csv.gz',\n",
       " 'final_tmdb_data_2002.csv.gz',\n",
       " 'final_tmdb_data_2003.csv.gz',\n",
       " 'final_tmdb_data_2004.csv.gz',\n",
       " 'final_tmdb_data_2005.csv.gz',\n",
       " 'final_tmdb_data_2006.csv.gz',\n",
       " 'final_tmdb_data_2007.csv.gz',\n",
       " 'final_tmdb_data_2008.csv.gz',\n",
       " 'final_tmdb_data_2009.csv.gz',\n",
       " 'final_tmdb_data_2010.csv.gz',\n",
       " 'final_tmdb_data_2011.csv.gz',\n",
       " 'final_tmdb_data_2012.csv.gz',\n",
       " 'final_tmdb_data_2013.csv.gz',\n",
       " 'final_tmdb_data_2014.csv.gz',\n",
       " 'final_tmdb_data_2015.csv.gz',\n",
       " 'final_tmdb_data_2016.csv.gz',\n",
       " 'final_tmdb_data_2017.csv.gz',\n",
       " 'final_tmdb_data_2018.csv.gz',\n",
       " 'final_tmdb_data_2019.csv.gz',\n",
       " 'final_tmdb_data_2020.csv.gz',\n",
       " 'final_tmdb_data_2021.csv.gz']"
      ]
     },
     "execution_count": 52,
     "metadata": {},
     "output_type": "execute_result"
    }
   ],
   "source": [
    "import os\n",
    "FOLDER = 'Data_2/'\n",
    "file_list = sorted(os.listdir(FOLDER))\n",
    "file_list"
   ]
  },
  {
   "cell_type": "code",
   "execution_count": 53,
   "id": "3c67fdcd",
   "metadata": {},
   "outputs": [
    {
     "name": "stdout",
     "output_type": "stream",
     "text": [
      "Data_2/*.csv.gz\n"
     ]
    }
   ],
   "source": [
    "import glob\n",
    "## Make a filepath query\n",
    "q = FOLDER + \"*.csv.gz\"\n",
    "print(q)"
   ]
  },
  {
   "cell_type": "code",
   "execution_count": 54,
   "id": "85c40b3c",
   "metadata": {},
   "outputs": [
    {
     "data": {
      "text/plain": [
       "['Data_2/final_tmdb_data_2006.csv.gz',\n",
       " 'Data_2/final_tmdb_data_2018.csv.gz',\n",
       " 'Data_2/final_tmdb_data_2014.csv.gz',\n",
       " 'Data_2/final_tmdb_data_2008.csv.gz',\n",
       " 'Data_2/final_tmdb_data_2016.csv.gz',\n",
       " 'Data_2/final_tmdb_data_2004.csv.gz',\n",
       " 'Data_2/final_tmdb_data_2020.csv.gz',\n",
       " 'Data_2/final_tmdb_data_2000.csv.gz',\n",
       " 'Data_2/final_tmdb_data_2012.csv.gz',\n",
       " 'Data_2/final_tmdb_data_2010.csv.gz',\n",
       " 'Data_2/final_tmdb_data_2002.csv.gz',\n",
       " 'Data_2/final_tmdb_data_2019.csv.gz',\n",
       " 'Data_2/final_tmdb_data_2007.csv.gz',\n",
       " 'Data_2/final_tmdb_data_2015.csv.gz',\n",
       " 'Data_2/final_tmdb_data_2021.csv.gz',\n",
       " 'Data_2/final_tmdb_data_2017.csv.gz',\n",
       " 'Data_2/final_tmdb_data_2009.csv.gz',\n",
       " 'Data_2/final_tmdb_data_2005.csv.gz',\n",
       " 'Data_2/final_tmdb_data_2001.csv.gz',\n",
       " 'Data_2/final_tmdb_data_2013.csv.gz',\n",
       " 'Data_2/final_tmdb_data_2011.csv.gz',\n",
       " 'Data_2/final_tmdb_data_2003.csv.gz']"
      ]
     },
     "execution_count": 54,
     "metadata": {},
     "output_type": "execute_result"
    }
   ],
   "source": [
    "# Use glob.glob to get complete filepaths\n",
    "file_list = glob.glob(q)\n",
    "file_list"
   ]
  },
  {
   "cell_type": "code",
   "execution_count": 55,
   "id": "47301d42",
   "metadata": {},
   "outputs": [
    {
     "name": "stdout",
     "output_type": "stream",
     "text": [
      "Data_2/final_*.csv.gz\n"
     ]
    },
    {
     "data": {
      "text/plain": [
       "['Data_2/final_tmdb_data_2000.csv.gz',\n",
       " 'Data_2/final_tmdb_data_2001.csv.gz',\n",
       " 'Data_2/final_tmdb_data_2002.csv.gz',\n",
       " 'Data_2/final_tmdb_data_2003.csv.gz',\n",
       " 'Data_2/final_tmdb_data_2004.csv.gz',\n",
       " 'Data_2/final_tmdb_data_2005.csv.gz',\n",
       " 'Data_2/final_tmdb_data_2006.csv.gz',\n",
       " 'Data_2/final_tmdb_data_2007.csv.gz',\n",
       " 'Data_2/final_tmdb_data_2008.csv.gz',\n",
       " 'Data_2/final_tmdb_data_2009.csv.gz',\n",
       " 'Data_2/final_tmdb_data_2010.csv.gz',\n",
       " 'Data_2/final_tmdb_data_2011.csv.gz',\n",
       " 'Data_2/final_tmdb_data_2012.csv.gz',\n",
       " 'Data_2/final_tmdb_data_2013.csv.gz',\n",
       " 'Data_2/final_tmdb_data_2014.csv.gz',\n",
       " 'Data_2/final_tmdb_data_2015.csv.gz',\n",
       " 'Data_2/final_tmdb_data_2016.csv.gz',\n",
       " 'Data_2/final_tmdb_data_2017.csv.gz',\n",
       " 'Data_2/final_tmdb_data_2018.csv.gz',\n",
       " 'Data_2/final_tmdb_data_2019.csv.gz',\n",
       " 'Data_2/final_tmdb_data_2020.csv.gz',\n",
       " 'Data_2/final_tmdb_data_2021.csv.gz']"
      ]
     },
     "execution_count": 55,
     "metadata": {},
     "output_type": "execute_result"
    }
   ],
   "source": [
    "# Use glob.glo0b to get complete filepaths and sort\n",
    "q = FOLDER + \"final_*.csv.gz\"\n",
    "print(q)\n",
    "file_list = sorted(glob.glob(q))\n",
    "file_list"
   ]
  },
  {
   "cell_type": "code",
   "execution_count": 56,
   "id": "d92dfaba",
   "metadata": {},
   "outputs": [
    {
     "data": {
      "text/html": [
       "<div>\n",
       "<style scoped>\n",
       "    .dataframe tbody tr th:only-of-type {\n",
       "        vertical-align: middle;\n",
       "    }\n",
       "\n",
       "    .dataframe tbody tr th {\n",
       "        vertical-align: top;\n",
       "    }\n",
       "\n",
       "    .dataframe thead th {\n",
       "        text-align: right;\n",
       "    }\n",
       "</style>\n",
       "<table border=\"1\" class=\"dataframe\">\n",
       "  <thead>\n",
       "    <tr style=\"text-align: right;\">\n",
       "      <th></th>\n",
       "      <th>imdb_id</th>\n",
       "      <th>adult</th>\n",
       "      <th>backdrop_path</th>\n",
       "      <th>belongs_to_collection</th>\n",
       "      <th>budget</th>\n",
       "      <th>genres</th>\n",
       "      <th>homepage</th>\n",
       "      <th>id</th>\n",
       "      <th>original_language</th>\n",
       "      <th>original_title</th>\n",
       "      <th>...</th>\n",
       "      <th>revenue</th>\n",
       "      <th>runtime</th>\n",
       "      <th>spoken_languages</th>\n",
       "      <th>status</th>\n",
       "      <th>tagline</th>\n",
       "      <th>title</th>\n",
       "      <th>video</th>\n",
       "      <th>vote_average</th>\n",
       "      <th>vote_count</th>\n",
       "      <th>certification</th>\n",
       "    </tr>\n",
       "  </thead>\n",
       "  <tbody>\n",
       "    <tr>\n",
       "      <th>0</th>\n",
       "      <td>0</td>\n",
       "      <td>NaN</td>\n",
       "      <td>NaN</td>\n",
       "      <td>NaN</td>\n",
       "      <td>NaN</td>\n",
       "      <td>NaN</td>\n",
       "      <td>NaN</td>\n",
       "      <td>NaN</td>\n",
       "      <td>NaN</td>\n",
       "      <td>NaN</td>\n",
       "      <td>...</td>\n",
       "      <td>NaN</td>\n",
       "      <td>NaN</td>\n",
       "      <td>NaN</td>\n",
       "      <td>NaN</td>\n",
       "      <td>NaN</td>\n",
       "      <td>NaN</td>\n",
       "      <td>NaN</td>\n",
       "      <td>NaN</td>\n",
       "      <td>NaN</td>\n",
       "      <td>NaN</td>\n",
       "    </tr>\n",
       "    <tr>\n",
       "      <th>1</th>\n",
       "      <td>tt0113026</td>\n",
       "      <td>0.0</td>\n",
       "      <td>/vMFs7nw6P0bIV1jDsQpxAieAVnH.jpg</td>\n",
       "      <td>NaN</td>\n",
       "      <td>10000000.0</td>\n",
       "      <td>[{'id': 35, 'name': 'Comedy'}, {'id': 10402, '...</td>\n",
       "      <td>NaN</td>\n",
       "      <td>62127.0</td>\n",
       "      <td>en</td>\n",
       "      <td>The Fantasticks</td>\n",
       "      <td>...</td>\n",
       "      <td>0.0</td>\n",
       "      <td>86.0</td>\n",
       "      <td>[{'english_name': 'English', 'iso_639_1': 'en'...</td>\n",
       "      <td>Released</td>\n",
       "      <td>Try to remember the first time magic happened</td>\n",
       "      <td>The Fantasticks</td>\n",
       "      <td>0.0</td>\n",
       "      <td>5.4</td>\n",
       "      <td>21.0</td>\n",
       "      <td>NaN</td>\n",
       "    </tr>\n",
       "    <tr>\n",
       "      <th>2</th>\n",
       "      <td>tt0113092</td>\n",
       "      <td>0.0</td>\n",
       "      <td>NaN</td>\n",
       "      <td>NaN</td>\n",
       "      <td>0.0</td>\n",
       "      <td>[{'id': 878, 'name': 'Science Fiction'}]</td>\n",
       "      <td>NaN</td>\n",
       "      <td>110977.0</td>\n",
       "      <td>en</td>\n",
       "      <td>For the Cause</td>\n",
       "      <td>...</td>\n",
       "      <td>0.0</td>\n",
       "      <td>100.0</td>\n",
       "      <td>[{'english_name': 'English', 'iso_639_1': 'en'...</td>\n",
       "      <td>Released</td>\n",
       "      <td>The ultimate showdown on a forbidden planet.</td>\n",
       "      <td>For the Cause</td>\n",
       "      <td>0.0</td>\n",
       "      <td>4.4</td>\n",
       "      <td>7.0</td>\n",
       "      <td>NaN</td>\n",
       "    </tr>\n",
       "    <tr>\n",
       "      <th>3</th>\n",
       "      <td>tt0116391</td>\n",
       "      <td>0.0</td>\n",
       "      <td>NaN</td>\n",
       "      <td>NaN</td>\n",
       "      <td>0.0</td>\n",
       "      <td>[{'id': 18, 'name': 'Drama'}, {'id': 28, 'name...</td>\n",
       "      <td>NaN</td>\n",
       "      <td>442869.0</td>\n",
       "      <td>hi</td>\n",
       "      <td>Gang</td>\n",
       "      <td>...</td>\n",
       "      <td>0.0</td>\n",
       "      <td>152.0</td>\n",
       "      <td>[{'english_name': 'Hindi', 'iso_639_1': 'hi', ...</td>\n",
       "      <td>Released</td>\n",
       "      <td>NaN</td>\n",
       "      <td>Gang</td>\n",
       "      <td>0.0</td>\n",
       "      <td>0.0</td>\n",
       "      <td>0.0</td>\n",
       "      <td>NaN</td>\n",
       "    </tr>\n",
       "    <tr>\n",
       "      <th>4</th>\n",
       "      <td>tt0118694</td>\n",
       "      <td>0.0</td>\n",
       "      <td>/n4GJFGzsc7NinI1VeGDXIcQjtU2.jpg</td>\n",
       "      <td>NaN</td>\n",
       "      <td>150000.0</td>\n",
       "      <td>[{'id': 18, 'name': 'Drama'}, {'id': 10749, 'n...</td>\n",
       "      <td>http://www.wkw-inthemoodforlove.com/</td>\n",
       "      <td>843.0</td>\n",
       "      <td>cn</td>\n",
       "      <td>花樣年華</td>\n",
       "      <td>...</td>\n",
       "      <td>12854953.0</td>\n",
       "      <td>99.0</td>\n",
       "      <td>[{'english_name': 'Cantonese', 'iso_639_1': 'c...</td>\n",
       "      <td>Released</td>\n",
       "      <td>Feel the heat, keep the feeling burning, let t...</td>\n",
       "      <td>In the Mood for Love</td>\n",
       "      <td>0.0</td>\n",
       "      <td>8.1</td>\n",
       "      <td>1868.0</td>\n",
       "      <td>PG</td>\n",
       "    </tr>\n",
       "  </tbody>\n",
       "</table>\n",
       "<p>5 rows × 26 columns</p>\n",
       "</div>"
      ],
      "text/plain": [
       "     imdb_id  adult                     backdrop_path belongs_to_collection  \\\n",
       "0          0    NaN                               NaN                   NaN   \n",
       "1  tt0113026    0.0  /vMFs7nw6P0bIV1jDsQpxAieAVnH.jpg                   NaN   \n",
       "2  tt0113092    0.0                               NaN                   NaN   \n",
       "3  tt0116391    0.0                               NaN                   NaN   \n",
       "4  tt0118694    0.0  /n4GJFGzsc7NinI1VeGDXIcQjtU2.jpg                   NaN   \n",
       "\n",
       "       budget                                             genres  \\\n",
       "0         NaN                                                NaN   \n",
       "1  10000000.0  [{'id': 35, 'name': 'Comedy'}, {'id': 10402, '...   \n",
       "2         0.0           [{'id': 878, 'name': 'Science Fiction'}]   \n",
       "3         0.0  [{'id': 18, 'name': 'Drama'}, {'id': 28, 'name...   \n",
       "4    150000.0  [{'id': 18, 'name': 'Drama'}, {'id': 10749, 'n...   \n",
       "\n",
       "                               homepage        id original_language  \\\n",
       "0                                   NaN       NaN               NaN   \n",
       "1                                   NaN   62127.0                en   \n",
       "2                                   NaN  110977.0                en   \n",
       "3                                   NaN  442869.0                hi   \n",
       "4  http://www.wkw-inthemoodforlove.com/     843.0                cn   \n",
       "\n",
       "    original_title  ...     revenue  runtime  \\\n",
       "0              NaN  ...         NaN      NaN   \n",
       "1  The Fantasticks  ...         0.0     86.0   \n",
       "2    For the Cause  ...         0.0    100.0   \n",
       "3             Gang  ...         0.0    152.0   \n",
       "4             花樣年華  ...  12854953.0     99.0   \n",
       "\n",
       "                                    spoken_languages    status  \\\n",
       "0                                                NaN       NaN   \n",
       "1  [{'english_name': 'English', 'iso_639_1': 'en'...  Released   \n",
       "2  [{'english_name': 'English', 'iso_639_1': 'en'...  Released   \n",
       "3  [{'english_name': 'Hindi', 'iso_639_1': 'hi', ...  Released   \n",
       "4  [{'english_name': 'Cantonese', 'iso_639_1': 'c...  Released   \n",
       "\n",
       "                                             tagline                 title  \\\n",
       "0                                                NaN                   NaN   \n",
       "1      Try to remember the first time magic happened       The Fantasticks   \n",
       "2       The ultimate showdown on a forbidden planet.         For the Cause   \n",
       "3                                                NaN                  Gang   \n",
       "4  Feel the heat, keep the feeling burning, let t...  In the Mood for Love   \n",
       "\n",
       "   video  vote_average vote_count certification  \n",
       "0    NaN           NaN        NaN           NaN  \n",
       "1    0.0           5.4       21.0           NaN  \n",
       "2    0.0           4.4        7.0           NaN  \n",
       "3    0.0           0.0        0.0           NaN  \n",
       "4    0.0           8.1     1868.0            PG  \n",
       "\n",
       "[5 rows x 26 columns]"
      ]
     },
     "execution_count": 56,
     "metadata": {},
     "output_type": "execute_result"
    }
   ],
   "source": [
    "## Use list comprehension to load in all files into 1 dataframe\n",
    "df = pd.concat([pd.read_csv(f, lineterminator = '\\n') for f in file_list])\n",
    "df.head()"
   ]
  },
  {
   "cell_type": "code",
   "execution_count": 57,
   "id": "ccafd237",
   "metadata": {},
   "outputs": [
    {
     "name": "stdout",
     "output_type": "stream",
     "text": [
      "<class 'pandas.core.frame.DataFrame'>\n",
      "Int64Index: 60130 entries, 1 to 3532\n",
      "Data columns (total 26 columns):\n",
      " #   Column                 Non-Null Count  Dtype  \n",
      "---  ------                 --------------  -----  \n",
      " 0   imdb_id                60130 non-null  object \n",
      " 1   adult                  60130 non-null  float64\n",
      " 2   backdrop_path          36994 non-null  object \n",
      " 3   belongs_to_collection  3738 non-null   object \n",
      " 4   budget                 60130 non-null  float64\n",
      " 5   genres                 60130 non-null  object \n",
      " 6   homepage               14776 non-null  object \n",
      " 7   id                     60130 non-null  float64\n",
      " 8   original_language      60130 non-null  object \n",
      " 9   original_title         60130 non-null  object \n",
      " 10  overview               58761 non-null  object \n",
      " 11  popularity             60130 non-null  float64\n",
      " 12  poster_path            54382 non-null  object \n",
      " 13  production_companies   60130 non-null  object \n",
      " 14  production_countries   60130 non-null  object \n",
      " 15  release_date           59078 non-null  object \n",
      " 16  revenue                60130 non-null  float64\n",
      " 17  runtime                59298 non-null  float64\n",
      " 18  spoken_languages       60130 non-null  object \n",
      " 19  status                 60130 non-null  object \n",
      " 20  tagline                22079 non-null  object \n",
      " 21  title                  60130 non-null  object \n",
      " 22  video                  60130 non-null  float64\n",
      " 23  vote_average           60130 non-null  float64\n",
      " 24  vote_count             60130 non-null  float64\n",
      " 25  certification          14624 non-null  object \n",
      "dtypes: float64(9), object(17)\n",
      "memory usage: 12.4+ MB\n"
     ]
    },
    {
     "data": {
      "text/html": [
       "<div>\n",
       "<style scoped>\n",
       "    .dataframe tbody tr th:only-of-type {\n",
       "        vertical-align: middle;\n",
       "    }\n",
       "\n",
       "    .dataframe tbody tr th {\n",
       "        vertical-align: top;\n",
       "    }\n",
       "\n",
       "    .dataframe thead th {\n",
       "        text-align: right;\n",
       "    }\n",
       "</style>\n",
       "<table border=\"1\" class=\"dataframe\">\n",
       "  <thead>\n",
       "    <tr style=\"text-align: right;\">\n",
       "      <th></th>\n",
       "      <th>imdb_id</th>\n",
       "      <th>adult</th>\n",
       "      <th>backdrop_path</th>\n",
       "      <th>belongs_to_collection</th>\n",
       "      <th>budget</th>\n",
       "      <th>genres</th>\n",
       "      <th>homepage</th>\n",
       "      <th>id</th>\n",
       "      <th>original_language</th>\n",
       "      <th>original_title</th>\n",
       "      <th>...</th>\n",
       "      <th>revenue</th>\n",
       "      <th>runtime</th>\n",
       "      <th>spoken_languages</th>\n",
       "      <th>status</th>\n",
       "      <th>tagline</th>\n",
       "      <th>title</th>\n",
       "      <th>video</th>\n",
       "      <th>vote_average</th>\n",
       "      <th>vote_count</th>\n",
       "      <th>certification</th>\n",
       "    </tr>\n",
       "  </thead>\n",
       "  <tbody>\n",
       "    <tr>\n",
       "      <th>1</th>\n",
       "      <td>tt0113026</td>\n",
       "      <td>0.0</td>\n",
       "      <td>/vMFs7nw6P0bIV1jDsQpxAieAVnH.jpg</td>\n",
       "      <td>NaN</td>\n",
       "      <td>10000000.0</td>\n",
       "      <td>[{'id': 35, 'name': 'Comedy'}, {'id': 10402, '...</td>\n",
       "      <td>NaN</td>\n",
       "      <td>62127.0</td>\n",
       "      <td>en</td>\n",
       "      <td>The Fantasticks</td>\n",
       "      <td>...</td>\n",
       "      <td>0.0</td>\n",
       "      <td>86.0</td>\n",
       "      <td>[{'english_name': 'English', 'iso_639_1': 'en'...</td>\n",
       "      <td>Released</td>\n",
       "      <td>Try to remember the first time magic happened</td>\n",
       "      <td>The Fantasticks</td>\n",
       "      <td>0.0</td>\n",
       "      <td>5.4</td>\n",
       "      <td>21.0</td>\n",
       "      <td>NaN</td>\n",
       "    </tr>\n",
       "    <tr>\n",
       "      <th>2</th>\n",
       "      <td>tt0113092</td>\n",
       "      <td>0.0</td>\n",
       "      <td>NaN</td>\n",
       "      <td>NaN</td>\n",
       "      <td>0.0</td>\n",
       "      <td>[{'id': 878, 'name': 'Science Fiction'}]</td>\n",
       "      <td>NaN</td>\n",
       "      <td>110977.0</td>\n",
       "      <td>en</td>\n",
       "      <td>For the Cause</td>\n",
       "      <td>...</td>\n",
       "      <td>0.0</td>\n",
       "      <td>100.0</td>\n",
       "      <td>[{'english_name': 'English', 'iso_639_1': 'en'...</td>\n",
       "      <td>Released</td>\n",
       "      <td>The ultimate showdown on a forbidden planet.</td>\n",
       "      <td>For the Cause</td>\n",
       "      <td>0.0</td>\n",
       "      <td>4.4</td>\n",
       "      <td>7.0</td>\n",
       "      <td>NaN</td>\n",
       "    </tr>\n",
       "    <tr>\n",
       "      <th>3</th>\n",
       "      <td>tt0116391</td>\n",
       "      <td>0.0</td>\n",
       "      <td>NaN</td>\n",
       "      <td>NaN</td>\n",
       "      <td>0.0</td>\n",
       "      <td>[{'id': 18, 'name': 'Drama'}, {'id': 28, 'name...</td>\n",
       "      <td>NaN</td>\n",
       "      <td>442869.0</td>\n",
       "      <td>hi</td>\n",
       "      <td>Gang</td>\n",
       "      <td>...</td>\n",
       "      <td>0.0</td>\n",
       "      <td>152.0</td>\n",
       "      <td>[{'english_name': 'Hindi', 'iso_639_1': 'hi', ...</td>\n",
       "      <td>Released</td>\n",
       "      <td>NaN</td>\n",
       "      <td>Gang</td>\n",
       "      <td>0.0</td>\n",
       "      <td>0.0</td>\n",
       "      <td>0.0</td>\n",
       "      <td>NaN</td>\n",
       "    </tr>\n",
       "    <tr>\n",
       "      <th>4</th>\n",
       "      <td>tt0118694</td>\n",
       "      <td>0.0</td>\n",
       "      <td>/n4GJFGzsc7NinI1VeGDXIcQjtU2.jpg</td>\n",
       "      <td>NaN</td>\n",
       "      <td>150000.0</td>\n",
       "      <td>[{'id': 18, 'name': 'Drama'}, {'id': 10749, 'n...</td>\n",
       "      <td>http://www.wkw-inthemoodforlove.com/</td>\n",
       "      <td>843.0</td>\n",
       "      <td>cn</td>\n",
       "      <td>花樣年華</td>\n",
       "      <td>...</td>\n",
       "      <td>12854953.0</td>\n",
       "      <td>99.0</td>\n",
       "      <td>[{'english_name': 'Cantonese', 'iso_639_1': 'c...</td>\n",
       "      <td>Released</td>\n",
       "      <td>Feel the heat, keep the feeling burning, let t...</td>\n",
       "      <td>In the Mood for Love</td>\n",
       "      <td>0.0</td>\n",
       "      <td>8.1</td>\n",
       "      <td>1868.0</td>\n",
       "      <td>PG</td>\n",
       "    </tr>\n",
       "    <tr>\n",
       "      <th>5</th>\n",
       "      <td>tt0118852</td>\n",
       "      <td>0.0</td>\n",
       "      <td>NaN</td>\n",
       "      <td>NaN</td>\n",
       "      <td>0.0</td>\n",
       "      <td>[{'id': 18, 'name': 'Drama'}]</td>\n",
       "      <td>NaN</td>\n",
       "      <td>49511.0</td>\n",
       "      <td>en</td>\n",
       "      <td>Chinese Coffee</td>\n",
       "      <td>...</td>\n",
       "      <td>0.0</td>\n",
       "      <td>99.0</td>\n",
       "      <td>[{'english_name': 'English', 'iso_639_1': 'en'...</td>\n",
       "      <td>Released</td>\n",
       "      <td>There's a fine line between friendship and bet...</td>\n",
       "      <td>Chinese Coffee</td>\n",
       "      <td>0.0</td>\n",
       "      <td>6.9</td>\n",
       "      <td>46.0</td>\n",
       "      <td>R</td>\n",
       "    </tr>\n",
       "  </tbody>\n",
       "</table>\n",
       "<p>5 rows × 26 columns</p>\n",
       "</div>"
      ],
      "text/plain": [
       "     imdb_id  adult                     backdrop_path belongs_to_collection  \\\n",
       "1  tt0113026    0.0  /vMFs7nw6P0bIV1jDsQpxAieAVnH.jpg                   NaN   \n",
       "2  tt0113092    0.0                               NaN                   NaN   \n",
       "3  tt0116391    0.0                               NaN                   NaN   \n",
       "4  tt0118694    0.0  /n4GJFGzsc7NinI1VeGDXIcQjtU2.jpg                   NaN   \n",
       "5  tt0118852    0.0                               NaN                   NaN   \n",
       "\n",
       "       budget                                             genres  \\\n",
       "1  10000000.0  [{'id': 35, 'name': 'Comedy'}, {'id': 10402, '...   \n",
       "2         0.0           [{'id': 878, 'name': 'Science Fiction'}]   \n",
       "3         0.0  [{'id': 18, 'name': 'Drama'}, {'id': 28, 'name...   \n",
       "4    150000.0  [{'id': 18, 'name': 'Drama'}, {'id': 10749, 'n...   \n",
       "5         0.0                      [{'id': 18, 'name': 'Drama'}]   \n",
       "\n",
       "                               homepage        id original_language  \\\n",
       "1                                   NaN   62127.0                en   \n",
       "2                                   NaN  110977.0                en   \n",
       "3                                   NaN  442869.0                hi   \n",
       "4  http://www.wkw-inthemoodforlove.com/     843.0                cn   \n",
       "5                                   NaN   49511.0                en   \n",
       "\n",
       "    original_title  ...     revenue  runtime  \\\n",
       "1  The Fantasticks  ...         0.0     86.0   \n",
       "2    For the Cause  ...         0.0    100.0   \n",
       "3             Gang  ...         0.0    152.0   \n",
       "4             花樣年華  ...  12854953.0     99.0   \n",
       "5   Chinese Coffee  ...         0.0     99.0   \n",
       "\n",
       "                                    spoken_languages    status  \\\n",
       "1  [{'english_name': 'English', 'iso_639_1': 'en'...  Released   \n",
       "2  [{'english_name': 'English', 'iso_639_1': 'en'...  Released   \n",
       "3  [{'english_name': 'Hindi', 'iso_639_1': 'hi', ...  Released   \n",
       "4  [{'english_name': 'Cantonese', 'iso_639_1': 'c...  Released   \n",
       "5  [{'english_name': 'English', 'iso_639_1': 'en'...  Released   \n",
       "\n",
       "                                             tagline                 title  \\\n",
       "1      Try to remember the first time magic happened       The Fantasticks   \n",
       "2       The ultimate showdown on a forbidden planet.         For the Cause   \n",
       "3                                                NaN                  Gang   \n",
       "4  Feel the heat, keep the feeling burning, let t...  In the Mood for Love   \n",
       "5  There's a fine line between friendship and bet...        Chinese Coffee   \n",
       "\n",
       "   video  vote_average vote_count certification  \n",
       "1    0.0           5.4       21.0           NaN  \n",
       "2    0.0           4.4        7.0           NaN  \n",
       "3    0.0           0.0        0.0           NaN  \n",
       "4    0.0           8.1     1868.0            PG  \n",
       "5    0.0           6.9       46.0             R  \n",
       "\n",
       "[5 rows x 26 columns]"
      ]
     },
     "execution_count": 57,
     "metadata": {},
     "output_type": "execute_result"
    }
   ],
   "source": [
    "# remove ids that are 0 and then reset index\n",
    "df = df.loc[df['imdb_id']!= '0']\n",
    "df.info()\n",
    "df.head()"
   ]
  },
  {
   "cell_type": "code",
   "execution_count": 58,
   "id": "03921673",
   "metadata": {},
   "outputs": [],
   "source": [
    "# reset index and drop old index\n",
    "df = df.reset_index(drop = True)"
   ]
  },
  {
   "cell_type": "markdown",
   "id": "bdf14d0e",
   "metadata": {},
   "source": [
    "## 1st Hypothesis Test"
   ]
  },
  {
   "cell_type": "markdown",
   "id": "afdc2ea9",
   "metadata": {},
   "source": [
    "**Does the MPAA rating of a movie affect how much revenue the movie generates?**\n",
    "\n",
    "**Null Hypotheses:** \n",
    "* The certification of a movie does not affect the revenue the movie generates.\n",
    "\n",
    "\n",
    "**Alternate Hypotheses:** \n",
    "* The certification creates a statistically significant difference in the revenue a movie generates\n",
    "\n",
    "\n",
    "**Test:** \n",
    "* ANOVA (multiple groups, numeric feature)\n",
    "\n",
    "**Assumptions:**\n",
    "* Normality\n",
    "* Equal variance\n",
    "* No significant outliers\n"
   ]
  },
  {
   "cell_type": "markdown",
   "id": "0402b208",
   "metadata": {},
   "source": [
    "**Features Editing**"
   ]
  },
  {
   "cell_type": "code",
   "execution_count": 59,
   "id": "dea63c25",
   "metadata": {},
   "outputs": [
    {
     "data": {
      "text/plain": [
       "R                                  6097\n",
       "NR                                 3261\n",
       "PG-13                              3224\n",
       "PG                                 1432\n",
       "G                                   442\n",
       "NC-17                               156\n",
       "Unrated                               5\n",
       "-                                     1\n",
       "UR                                    1\n",
       "Not Rated                             1\n",
       "ScreamFest Horror Film Festival       1\n",
       "R                                     1\n",
       "PG-13                                 1\n",
       "10                                    1\n",
       "Name: certification, dtype: int64"
      ]
     },
     "execution_count": 59,
     "metadata": {},
     "output_type": "execute_result"
    }
   ],
   "source": [
    "df['certification'].value_counts()"
   ]
  },
  {
   "cell_type": "code",
   "execution_count": 60,
   "id": "4f0c5052",
   "metadata": {},
   "outputs": [
    {
     "data": {
      "text/plain": [
       "R                                  6098\n",
       "NR                                 3268\n",
       "PG-13                              3225\n",
       "PG                                 1432\n",
       "G                                   442\n",
       "NC-17                               156\n",
       "-                                     1\n",
       "ScreamFest Horror Film Festival       1\n",
       "10                                    1\n",
       "Name: certification, dtype: int64"
      ]
     },
     "execution_count": 60,
     "metadata": {},
     "output_type": "execute_result"
    }
   ],
   "source": [
    "# Features editing for certification column\n",
    "cert_map = {'G': 'G',\n",
    "           'NC-17': 'NC-17', \n",
    "           'NR': 'NR',\n",
    "           'PG': 'PG', \n",
    "           'PG-13 ': 'PG-13',\n",
    "           'PG-13': 'PG-13',\n",
    "           'R ': 'R',\n",
    "           'R': 'R',\n",
    "           'Unrated': 'NR',\n",
    "           'UR': 'NR',\n",
    "           'Not Rated': 'NR'}\n",
    "\n",
    "df['certification'] = df['certification'].replace(cert_map)\n",
    "df['certification'].value_counts()"
   ]
  },
  {
   "cell_type": "code",
   "execution_count": 61,
   "id": "f168fc23",
   "metadata": {},
   "outputs": [
    {
     "data": {
      "text/plain": [
       "R        6098\n",
       "PG-13    3225\n",
       "PG       1432\n",
       "G         442\n",
       "Name: certification, dtype: int64"
      ]
     },
     "execution_count": 61,
     "metadata": {},
     "output_type": "execute_result"
    }
   ],
   "source": [
    "# Dropping extra ratings\n",
    "df = df.loc[df['certification'].isin(['G','PG','PG-13','R'])]\n",
    "df['certification'].value_counts()"
   ]
  },
  {
   "cell_type": "code",
   "execution_count": 62,
   "id": "bfff5976",
   "metadata": {},
   "outputs": [
    {
     "data": {
      "text/plain": [
       "False    6418\n",
       "True     4779\n",
       "Name: revenue, dtype: int64"
      ]
     },
     "execution_count": 62,
     "metadata": {},
     "output_type": "execute_result"
    }
   ],
   "source": [
    "# Filter movies with revenue\n",
    "filter_financial = (df['revenue'] >0)\n",
    "filter_financial.value_counts()"
   ]
  },
  {
   "cell_type": "code",
   "execution_count": 63,
   "id": "62d6f4f5",
   "metadata": {},
   "outputs": [],
   "source": [
    "explore_df = df[filter_financial].copy()"
   ]
  },
  {
   "cell_type": "code",
   "execution_count": 64,
   "id": "db702bad",
   "metadata": {},
   "outputs": [
    {
     "data": {
      "text/plain": [
       "certification\n",
       "G         127\n",
       "PG        630\n",
       "PG-13    1717\n",
       "R        2305\n",
       "Name: certification, dtype: int64"
      ]
     },
     "execution_count": 64,
     "metadata": {},
     "output_type": "execute_result"
    }
   ],
   "source": [
    "explore_df.groupby('certification')['certification'].count()"
   ]
  },
  {
   "cell_type": "markdown",
   "id": "0da4d15b",
   "metadata": {},
   "source": [
    "**Visualization**"
   ]
  },
  {
   "cell_type": "code",
   "execution_count": 65,
   "id": "263bee8e",
   "metadata": {},
   "outputs": [
    {
     "name": "stderr",
     "output_type": "stream",
     "text": [
      "/var/folders/fp/jpcv35096h9d0ylkqvbwx2xm0000gn/T/ipykernel_89873/2776877156.py:4: UserWarning: FixedFormatter should only be used together with FixedLocator\n",
      "  plt.gca().set_yticklabels(['{:,.0f}'.format(x) for x in current_values]);\n"
     ]
    },
    {
     "data": {
      "image/png": "[encoded data removed]",
      "text/plain": [
       "<Figure size 640x480 with 1 Axes>"
      ]
     },
     "metadata": {},
     "output_type": "display_data"
    }
   ],
   "source": [
    "sns.barplot(data = explore_df, x = 'certification', y = 'revenue')\n",
    "plt.ticklabel_format(style='plain', axis='y')\n",
    "current_values = plt.gca().get_yticks()\n",
    "plt.gca().set_yticklabels(['{:,.0f}'.format(x) for x in current_values]);\n",
    "\n",
    "#https://medium.com/@jlc0512/crash-course-on-seaborn-212073af69dd"
   ]
  },
  {
   "cell_type": "code",
   "execution_count": 66,
   "id": "1d1ffd67",
   "metadata": {},
   "outputs": [
    {
     "data": {
      "text/plain": [
       "0"
      ]
     },
     "execution_count": 66,
     "metadata": {},
     "output_type": "execute_result"
    }
   ],
   "source": [
    "explore_df['certification'].isnull().sum()"
   ]
  },
  {
   "cell_type": "code",
   "execution_count": 67,
   "id": "6652f93c",
   "metadata": {},
   "outputs": [],
   "source": [
    "#explore_df.dropna(subset = ['certification'], inplace=True)"
   ]
  },
  {
   "cell_type": "code",
   "execution_count": 68,
   "id": "6c38ba9f",
   "metadata": {},
   "outputs": [],
   "source": [
    "#explore_df['certification'].isnull().sum()"
   ]
  },
  {
   "cell_type": "code",
   "execution_count": 69,
   "id": "12f41499",
   "metadata": {},
   "outputs": [
    {
     "data": {
      "text/plain": [
       "dict_keys(['PG', 'R', 'G', 'PG-13'])"
      ]
     },
     "execution_count": 69,
     "metadata": {},
     "output_type": "execute_result"
    }
   ],
   "source": [
    "## Create groups dictionary. \n",
    "groups = {}\n",
    "\n",
    "## Loop through all unique categories\n",
    "for i in explore_df['certification'].unique():\n",
    "    ## Get series for group and rename\n",
    "    data = explore_df.loc[explore_df['certification']==i,'revenue'].copy()\n",
    "    \n",
    "    # save into the dictionary\n",
    "    groups[i] = data\n",
    "groups.keys()"
   ]
  },
  {
   "cell_type": "markdown",
   "id": "a8921580",
   "metadata": {},
   "source": [
    "**Normality**"
   ]
  },
  {
   "cell_type": "code",
   "execution_count": 70,
   "id": "b8fa80ec",
   "metadata": {},
   "outputs": [
    {
     "data": {
      "text/html": [
       "<div>\n",
       "<style scoped>\n",
       "    .dataframe tbody tr th:only-of-type {\n",
       "        vertical-align: middle;\n",
       "    }\n",
       "\n",
       "    .dataframe tbody tr th {\n",
       "        vertical-align: top;\n",
       "    }\n",
       "\n",
       "    .dataframe thead th {\n",
       "        text-align: right;\n",
       "    }\n",
       "</style>\n",
       "<table border=\"1\" class=\"dataframe\">\n",
       "  <thead>\n",
       "    <tr style=\"text-align: right;\">\n",
       "      <th></th>\n",
       "      <th>n</th>\n",
       "      <th>p</th>\n",
       "      <th>test stat</th>\n",
       "    </tr>\n",
       "  </thead>\n",
       "  <tbody>\n",
       "    <tr>\n",
       "      <th>PG</th>\n",
       "      <td>630.0</td>\n",
       "      <td>4.886246e-81</td>\n",
       "      <td>369.845936</td>\n",
       "    </tr>\n",
       "    <tr>\n",
       "      <th>R</th>\n",
       "      <td>2305.0</td>\n",
       "      <td>0.000000e+00</td>\n",
       "      <td>2081.603857</td>\n",
       "    </tr>\n",
       "    <tr>\n",
       "      <th>G</th>\n",
       "      <td>127.0</td>\n",
       "      <td>3.051788e-22</td>\n",
       "      <td>99.082289</td>\n",
       "    </tr>\n",
       "    <tr>\n",
       "      <th>PG-13</th>\n",
       "      <td>1717.0</td>\n",
       "      <td>0.000000e+00</td>\n",
       "      <td>1531.897339</td>\n",
       "    </tr>\n",
       "  </tbody>\n",
       "</table>\n",
       "</div>"
      ],
      "text/plain": [
       "            n             p    test stat\n",
       "PG      630.0  4.886246e-81   369.845936\n",
       "R      2305.0  0.000000e+00  2081.603857\n",
       "G       127.0  3.051788e-22    99.082289\n",
       "PG-13  1717.0  0.000000e+00  1531.897339"
      ]
     },
     "execution_count": 70,
     "metadata": {},
     "output_type": "execute_result"
    }
   ],
   "source": [
    "## Running normal test on each group and confirming there are >20 in each group\n",
    "norm_results = {}\n",
    "for i, data in groups.items():\n",
    "    stat, p = stats.normaltest(data)\n",
    "    ## save the p val, test statistic, and the size of the group\n",
    "    norm_results[i] = {'n': len(data),\n",
    "                             'p':p,\n",
    "                             'test stat':stat,}\n",
    "## convert to a dataframe\n",
    "norm_results_df = pd.DataFrame(norm_results).T\n",
    "norm_results_df"
   ]
  },
  {
   "cell_type": "code",
   "execution_count": 71,
   "id": "1b4557e3",
   "metadata": {},
   "outputs": [
    {
     "data": {
      "text/html": [
       "<div>\n",
       "<style scoped>\n",
       "    .dataframe tbody tr th:only-of-type {\n",
       "        vertical-align: middle;\n",
       "    }\n",
       "\n",
       "    .dataframe tbody tr th {\n",
       "        vertical-align: top;\n",
       "    }\n",
       "\n",
       "    .dataframe thead th {\n",
       "        text-align: right;\n",
       "    }\n",
       "</style>\n",
       "<table border=\"1\" class=\"dataframe\">\n",
       "  <thead>\n",
       "    <tr style=\"text-align: right;\">\n",
       "      <th></th>\n",
       "      <th>n</th>\n",
       "      <th>p</th>\n",
       "      <th>test stat</th>\n",
       "      <th>sig</th>\n",
       "    </tr>\n",
       "  </thead>\n",
       "  <tbody>\n",
       "    <tr>\n",
       "      <th>PG</th>\n",
       "      <td>630.0</td>\n",
       "      <td>4.886246e-81</td>\n",
       "      <td>369.845936</td>\n",
       "      <td>True</td>\n",
       "    </tr>\n",
       "    <tr>\n",
       "      <th>R</th>\n",
       "      <td>2305.0</td>\n",
       "      <td>0.000000e+00</td>\n",
       "      <td>2081.603857</td>\n",
       "      <td>True</td>\n",
       "    </tr>\n",
       "    <tr>\n",
       "      <th>G</th>\n",
       "      <td>127.0</td>\n",
       "      <td>3.051788e-22</td>\n",
       "      <td>99.082289</td>\n",
       "      <td>True</td>\n",
       "    </tr>\n",
       "    <tr>\n",
       "      <th>PG-13</th>\n",
       "      <td>1717.0</td>\n",
       "      <td>0.000000e+00</td>\n",
       "      <td>1531.897339</td>\n",
       "      <td>True</td>\n",
       "    </tr>\n",
       "  </tbody>\n",
       "</table>\n",
       "</div>"
      ],
      "text/plain": [
       "            n             p    test stat   sig\n",
       "PG      630.0  4.886246e-81   369.845936  True\n",
       "R      2305.0  0.000000e+00  2081.603857  True\n",
       "G       127.0  3.051788e-22    99.082289  True\n",
       "PG-13  1717.0  0.000000e+00  1531.897339  True"
      ]
     },
     "execution_count": 71,
     "metadata": {},
     "output_type": "execute_result"
    }
   ],
   "source": [
    "### checking sig with pandas \n",
    "norm_results_df['sig'] = norm_results_df['p'] < .05 \n",
    "norm_results_df"
   ]
  },
  {
   "cell_type": "markdown",
   "id": "f7f9564a",
   "metadata": {},
   "source": [
    "**Results:**\n",
    "\n",
    "* P values are less than .05 so each group does not have normal distribution but the sample sizes are >20 for each group. "
   ]
  },
  {
   "cell_type": "markdown",
   "id": "c5fce536",
   "metadata": {},
   "source": [
    "**Equal Variance**"
   ]
  },
  {
   "cell_type": "code",
   "execution_count": 72,
   "id": "fd69f9dc",
   "metadata": {},
   "outputs": [
    {
     "data": {
      "text/plain": [
       "LeveneResult(statistic=94.39151913914993, pvalue=2.4030190282891305e-59)"
      ]
     },
     "execution_count": 72,
     "metadata": {},
     "output_type": "execute_result"
    }
   ],
   "source": [
    "stats.levene(*groups.values())"
   ]
  },
  {
   "cell_type": "markdown",
   "id": "cd638139",
   "metadata": {},
   "source": [
    "**Results:**\n",
    "\n",
    "* Fails equal variance with p value less than .05. Will use kruskal wallis test."
   ]
  },
  {
   "cell_type": "markdown",
   "id": "baebc24b",
   "metadata": {},
   "source": [
    "**Kruskal Wallis Test**"
   ]
  },
  {
   "cell_type": "code",
   "execution_count": 73,
   "id": "bb8a1ca7",
   "metadata": {},
   "outputs": [
    {
     "data": {
      "text/plain": [
       "KruskalResult(statistic=562.2765600028549, pvalue=1.516637292264005e-121)"
      ]
     },
     "execution_count": 73,
     "metadata": {},
     "output_type": "execute_result"
    }
   ],
   "source": [
    "kruskal_result = stats.kruskal(*groups.values())\n",
    "kruskal_result"
   ]
  },
  {
   "cell_type": "markdown",
   "id": "d459c7b5",
   "metadata": {},
   "source": [
    "**Results:**\n",
    "\n",
    "* P value is less than .05 so there is a significant difference. \n",
    "\n",
    "* Using Tukeys multiple comparison test to see between which groups there is a statistically significant difference."
   ]
  },
  {
   "cell_type": "markdown",
   "id": "cfa0fb95",
   "metadata": {},
   "source": [
    "**Tukeys Comparison Test**"
   ]
  },
  {
   "cell_type": "code",
   "execution_count": 74,
   "id": "d7ca802f",
   "metadata": {},
   "outputs": [],
   "source": [
    "from statsmodels.stats.multicomp import pairwise_tukeyhsd\n",
    "## save the values as kg_lost and the labels to the Diet\n",
    "values = explore_df['revenue']\n",
    "labels = explore_df['certification']"
   ]
  },
  {
   "cell_type": "code",
   "execution_count": 75,
   "id": "b2ad857b",
   "metadata": {},
   "outputs": [
    {
     "data": {
      "text/html": [
       "<table class=\"simpletable\">\n",
       "<caption>Multiple Comparison of Means - Tukey HSD, FWER=0.05</caption>\n",
       "<tr>\n",
       "  <th>group1</th> <th>group2</th>    <th>meandiff</th>      <th>p-adj</th>      <th>lower</th>           <th>upper</th>     <th>reject</th>\n",
       "</tr>\n",
       "<tr>\n",
       "     <td>G</td>     <td>PG</td>    <td>33983249.9815</td>  <td>0.2347</td> <td>-12356309.2156</td>   <td>80322809.1786</td>  <td>False</td>\n",
       "</tr>\n",
       "<tr>\n",
       "     <td>G</td>    <td>PG-13</td>  <td>15502943.4245</td>  <td>0.7998</td> <td>-28306682.4114</td>   <td>59312569.2603</td>  <td>False</td>\n",
       "</tr>\n",
       "<tr>\n",
       "     <td>G</td>      <td>R</td>   <td>-78528011.5921</td>    <td>0.0</td>  <td>-121951084.4885</td> <td>-35104938.6957</td>  <td>True</td> \n",
       "</tr>\n",
       "<tr>\n",
       "    <td>PG</td>    <td>PG-13</td>  <td>-18480306.557</td>  <td>0.1406</td> <td>-40671324.0726</td>   <td>3710710.9585</td>   <td>False</td>\n",
       "</tr>\n",
       "<tr>\n",
       "    <td>PG</td>      <td>R</td>   <td>-112511261.5736</td>   <td>0.0</td>  <td>-133929039.2889</td> <td>-91093483.8582</td>  <td>True</td> \n",
       "</tr>\n",
       "<tr>\n",
       "   <td>PG-13</td>    <td>R</td>   <td>-94030955.0165</td>    <td>0.0</td>   <td>-109218113.13</td>  <td>-78843796.9031</td>  <td>True</td> \n",
       "</tr>\n",
       "</table>"
      ],
      "text/plain": [
       "<class 'statsmodels.iolib.table.SimpleTable'>"
      ]
     },
     "execution_count": 75,
     "metadata": {},
     "output_type": "execute_result"
    }
   ],
   "source": [
    "## perform tukey's multiple comparison test and display the summary\n",
    "tukeys_results = pairwise_tukeyhsd(values,labels)\n",
    "tukeys_results.summary()\n"
   ]
  },
  {
   "cell_type": "markdown",
   "id": "68407264",
   "metadata": {},
   "source": [
    "**FINAL CONCLUSION:**\n",
    "\n",
    "* There are 3 significant results where reject = True above. \n",
    "\n",
    "* Between G and rated R, PG and R, PG-13 and R. \n",
    "\n",
    "* We can reject the null hypotheses in support of the alternate that there is a statistically significant difference in revenue based on certification/ratings. \n",
    "\n",
    "* Based on the visualization above, PG movies are the biggest earner followed by PG-13. R rated movies had the lowest revenue.  "
   ]
  },
  {
   "cell_type": "markdown",
   "id": "24711ee0",
   "metadata": {},
   "source": [
    "## 2nd Hypothesis Test"
   ]
  },
  {
   "cell_type": "markdown",
   "id": "91f07c17",
   "metadata": {},
   "source": [
    "**Do movies that are over 2.5 hours long earn more revenue than movies that are less than 2.5 hours?**\n",
    "\n",
    "**NULL:**\n",
    "\n",
    "* There is no significant difference in revenue between movies that are more than 2.5 hours long and those that are less than 2.5 hours. \n",
    "\n",
    "**ALTERNATE:**\n",
    "\n",
    "* There is a statistically significant difference in revenue between movies that are more than 2.5 hours long and those that are less than 2.5 hours.  \n",
    "\n",
    "**TEST:**\n",
    "\n",
    "* 2Ttest\n",
    "\n",
    "**ASSUMPTIONS:**\n",
    "\n",
    "* Normality\n",
    "* Equal Variance\n",
    "* No outliers"
   ]
  },
  {
   "cell_type": "code",
   "execution_count": 76,
   "id": "b3b8b6f5",
   "metadata": {},
   "outputs": [
    {
     "data": {
      "text/plain": [
       "False    6418\n",
       "True     4779\n",
       "Name: revenue, dtype: int64"
      ]
     },
     "execution_count": 76,
     "metadata": {},
     "output_type": "execute_result"
    }
   ],
   "source": [
    "# Filter movies with revenue\n",
    "filter_financial2 = (df['revenue'] >0)\n",
    "filter_financial2.value_counts()"
   ]
  },
  {
   "cell_type": "code",
   "execution_count": 77,
   "id": "654af44e",
   "metadata": {},
   "outputs": [],
   "source": [
    "run_df = df[filter_financial2].copy()"
   ]
  },
  {
   "cell_type": "code",
   "execution_count": 78,
   "id": "148ab76f",
   "metadata": {},
   "outputs": [
    {
     "data": {
      "text/plain": [
       "97.0     152\n",
       "90.0     152\n",
       "100.0    146\n",
       "95.0     136\n",
       "94.0     131\n",
       "        ... \n",
       "56.0       1\n",
       "183.0      1\n",
       "224.0      1\n",
       "199.0      1\n",
       "242.0      1\n",
       "Name: runtime, Length: 131, dtype: int64"
      ]
     },
     "execution_count": 78,
     "metadata": {},
     "output_type": "execute_result"
    }
   ],
   "source": [
    "# column in minutes\n",
    "run_df['runtime'].value_counts()\n"
   ]
  },
  {
   "cell_type": "code",
   "execution_count": 79,
   "id": "dc02da12",
   "metadata": {},
   "outputs": [
    {
     "data": {
      "text/plain": [
       "0"
      ]
     },
     "execution_count": 79,
     "metadata": {},
     "output_type": "execute_result"
    }
   ],
   "source": [
    "#Checking for missing values, dropping and verifying drop\n",
    "run_df['runtime'].isna().sum()"
   ]
  },
  {
   "cell_type": "code",
   "execution_count": 80,
   "id": "38643efb",
   "metadata": {},
   "outputs": [],
   "source": [
    "#run_df.dropna(subset = ['runtime'], inplace=True)"
   ]
  },
  {
   "cell_type": "code",
   "execution_count": 81,
   "id": "233afce7",
   "metadata": {},
   "outputs": [],
   "source": [
    "#run_df['runtime'].isna().sum()"
   ]
  },
  {
   "cell_type": "markdown",
   "id": "dbf38399",
   "metadata": {},
   "source": [
    "**Separating groups**"
   ]
  },
  {
   "cell_type": "code",
   "execution_count": 82,
   "id": "14264762",
   "metadata": {},
   "outputs": [
    {
     "data": {
      "text/html": [
       "<div>\n",
       "<style scoped>\n",
       "    .dataframe tbody tr th:only-of-type {\n",
       "        vertical-align: middle;\n",
       "    }\n",
       "\n",
       "    .dataframe tbody tr th {\n",
       "        vertical-align: top;\n",
       "    }\n",
       "\n",
       "    .dataframe thead th {\n",
       "        text-align: right;\n",
       "    }\n",
       "</style>\n",
       "<table border=\"1\" class=\"dataframe\">\n",
       "  <thead>\n",
       "    <tr style=\"text-align: right;\">\n",
       "      <th></th>\n",
       "      <th>imdb_id</th>\n",
       "      <th>adult</th>\n",
       "      <th>backdrop_path</th>\n",
       "      <th>belongs_to_collection</th>\n",
       "      <th>budget</th>\n",
       "      <th>genres</th>\n",
       "      <th>homepage</th>\n",
       "      <th>id</th>\n",
       "      <th>original_language</th>\n",
       "      <th>original_title</th>\n",
       "      <th>...</th>\n",
       "      <th>runtime</th>\n",
       "      <th>spoken_languages</th>\n",
       "      <th>status</th>\n",
       "      <th>tagline</th>\n",
       "      <th>title</th>\n",
       "      <th>video</th>\n",
       "      <th>vote_average</th>\n",
       "      <th>vote_count</th>\n",
       "      <th>certification</th>\n",
       "      <th>long_runtime</th>\n",
       "    </tr>\n",
       "  </thead>\n",
       "  <tbody>\n",
       "    <tr>\n",
       "      <th>3</th>\n",
       "      <td>tt0118694</td>\n",
       "      <td>0.0</td>\n",
       "      <td>/n4GJFGzsc7NinI1VeGDXIcQjtU2.jpg</td>\n",
       "      <td>NaN</td>\n",
       "      <td>150000.0</td>\n",
       "      <td>[{'id': 18, 'name': 'Drama'}, {'id': 10749, 'n...</td>\n",
       "      <td>http://www.wkw-inthemoodforlove.com/</td>\n",
       "      <td>843.0</td>\n",
       "      <td>cn</td>\n",
       "      <td>花樣年華</td>\n",
       "      <td>...</td>\n",
       "      <td>99.0</td>\n",
       "      <td>[{'english_name': 'Cantonese', 'iso_639_1': 'c...</td>\n",
       "      <td>Released</td>\n",
       "      <td>Feel the heat, keep the feeling burning, let t...</td>\n",
       "      <td>In the Mood for Love</td>\n",
       "      <td>0.0</td>\n",
       "      <td>8.1</td>\n",
       "      <td>1868.0</td>\n",
       "      <td>PG</td>\n",
       "      <td>False</td>\n",
       "    </tr>\n",
       "    <tr>\n",
       "      <th>10</th>\n",
       "      <td>tt0120467</td>\n",
       "      <td>0.0</td>\n",
       "      <td>NaN</td>\n",
       "      <td>NaN</td>\n",
       "      <td>120000.0</td>\n",
       "      <td>[{'id': 18, 'name': 'Drama'}, {'id': 27, 'name...</td>\n",
       "      <td>NaN</td>\n",
       "      <td>19085.0</td>\n",
       "      <td>en</td>\n",
       "      <td>Vulgar</td>\n",
       "      <td>...</td>\n",
       "      <td>87.0</td>\n",
       "      <td>[{'english_name': 'English', 'iso_639_1': 'en'...</td>\n",
       "      <td>Released</td>\n",
       "      <td>Everyone loves a clown... some more than others.</td>\n",
       "      <td>Vulgar</td>\n",
       "      <td>0.0</td>\n",
       "      <td>5.5</td>\n",
       "      <td>40.0</td>\n",
       "      <td>R</td>\n",
       "      <td>False</td>\n",
       "    </tr>\n",
       "    <tr>\n",
       "      <th>12</th>\n",
       "      <td>tt0120630</td>\n",
       "      <td>0.0</td>\n",
       "      <td>/t7aJ7hqsMLEoqBJk7yAXxcAVvcz.jpg</td>\n",
       "      <td>{'id': 718551, 'name': 'Chicken Run Collection...</td>\n",
       "      <td>45000000.0</td>\n",
       "      <td>[{'id': 16, 'name': 'Animation'}, {'id': 35, '...</td>\n",
       "      <td>NaN</td>\n",
       "      <td>7443.0</td>\n",
       "      <td>en</td>\n",
       "      <td>Chicken Run</td>\n",
       "      <td>...</td>\n",
       "      <td>84.0</td>\n",
       "      <td>[{'english_name': 'English', 'iso_639_1': 'en'...</td>\n",
       "      <td>Released</td>\n",
       "      <td>This ain't no chick flick. It's poultry in mot...</td>\n",
       "      <td>Chicken Run</td>\n",
       "      <td>0.0</td>\n",
       "      <td>6.7</td>\n",
       "      <td>3997.0</td>\n",
       "      <td>G</td>\n",
       "      <td>False</td>\n",
       "    </tr>\n",
       "    <tr>\n",
       "      <th>15</th>\n",
       "      <td>tt0120753</td>\n",
       "      <td>0.0</td>\n",
       "      <td>/cXXxi0j9sXFt7LbeajuFoKFqWMu.jpg</td>\n",
       "      <td>NaN</td>\n",
       "      <td>8000000.0</td>\n",
       "      <td>[{'id': 18, 'name': 'Drama'}, {'id': 53, 'name...</td>\n",
       "      <td>NaN</td>\n",
       "      <td>318.0</td>\n",
       "      <td>en</td>\n",
       "      <td>The Million Dollar Hotel</td>\n",
       "      <td>...</td>\n",
       "      <td>122.0</td>\n",
       "      <td>[{'english_name': 'English', 'iso_639_1': 'en'...</td>\n",
       "      <td>Released</td>\n",
       "      <td>Everyone has something to hide.</td>\n",
       "      <td>The Million Dollar Hotel</td>\n",
       "      <td>0.0</td>\n",
       "      <td>5.9</td>\n",
       "      <td>247.0</td>\n",
       "      <td>R</td>\n",
       "      <td>False</td>\n",
       "    </tr>\n",
       "    <tr>\n",
       "      <th>16</th>\n",
       "      <td>tt0120755</td>\n",
       "      <td>0.0</td>\n",
       "      <td>/8XaohdSqoBEWHhW40q2VTdMBrV0.jpg</td>\n",
       "      <td>{'id': 87359, 'name': 'Mission: Impossible Col...</td>\n",
       "      <td>125000000.0</td>\n",
       "      <td>[{'id': 12, 'name': 'Adventure'}, {'id': 28, '...</td>\n",
       "      <td>NaN</td>\n",
       "      <td>955.0</td>\n",
       "      <td>en</td>\n",
       "      <td>Mission: Impossible II</td>\n",
       "      <td>...</td>\n",
       "      <td>123.0</td>\n",
       "      <td>[{'english_name': 'English', 'iso_639_1': 'en'...</td>\n",
       "      <td>Released</td>\n",
       "      <td>Expect the impossible again.</td>\n",
       "      <td>Mission: Impossible II</td>\n",
       "      <td>0.0</td>\n",
       "      <td>6.1</td>\n",
       "      <td>5279.0</td>\n",
       "      <td>PG-13</td>\n",
       "      <td>False</td>\n",
       "    </tr>\n",
       "  </tbody>\n",
       "</table>\n",
       "<p>5 rows × 27 columns</p>\n",
       "</div>"
      ],
      "text/plain": [
       "      imdb_id  adult                     backdrop_path  \\\n",
       "3   tt0118694    0.0  /n4GJFGzsc7NinI1VeGDXIcQjtU2.jpg   \n",
       "10  tt0120467    0.0                               NaN   \n",
       "12  tt0120630    0.0  /t7aJ7hqsMLEoqBJk7yAXxcAVvcz.jpg   \n",
       "15  tt0120753    0.0  /cXXxi0j9sXFt7LbeajuFoKFqWMu.jpg   \n",
       "16  tt0120755    0.0  /8XaohdSqoBEWHhW40q2VTdMBrV0.jpg   \n",
       "\n",
       "                                belongs_to_collection       budget  \\\n",
       "3                                                 NaN     150000.0   \n",
       "10                                                NaN     120000.0   \n",
       "12  {'id': 718551, 'name': 'Chicken Run Collection...   45000000.0   \n",
       "15                                                NaN    8000000.0   \n",
       "16  {'id': 87359, 'name': 'Mission: Impossible Col...  125000000.0   \n",
       "\n",
       "                                               genres  \\\n",
       "3   [{'id': 18, 'name': 'Drama'}, {'id': 10749, 'n...   \n",
       "10  [{'id': 18, 'name': 'Drama'}, {'id': 27, 'name...   \n",
       "12  [{'id': 16, 'name': 'Animation'}, {'id': 35, '...   \n",
       "15  [{'id': 18, 'name': 'Drama'}, {'id': 53, 'name...   \n",
       "16  [{'id': 12, 'name': 'Adventure'}, {'id': 28, '...   \n",
       "\n",
       "                                homepage       id original_language  \\\n",
       "3   http://www.wkw-inthemoodforlove.com/    843.0                cn   \n",
       "10                                   NaN  19085.0                en   \n",
       "12                                   NaN   7443.0                en   \n",
       "15                                   NaN    318.0                en   \n",
       "16                                   NaN    955.0                en   \n",
       "\n",
       "              original_title  ... runtime  \\\n",
       "3                       花樣年華  ...    99.0   \n",
       "10                    Vulgar  ...    87.0   \n",
       "12               Chicken Run  ...    84.0   \n",
       "15  The Million Dollar Hotel  ...   122.0   \n",
       "16    Mission: Impossible II  ...   123.0   \n",
       "\n",
       "                                     spoken_languages    status  \\\n",
       "3   [{'english_name': 'Cantonese', 'iso_639_1': 'c...  Released   \n",
       "10  [{'english_name': 'English', 'iso_639_1': 'en'...  Released   \n",
       "12  [{'english_name': 'English', 'iso_639_1': 'en'...  Released   \n",
       "15  [{'english_name': 'English', 'iso_639_1': 'en'...  Released   \n",
       "16  [{'english_name': 'English', 'iso_639_1': 'en'...  Released   \n",
       "\n",
       "                                              tagline  \\\n",
       "3   Feel the heat, keep the feeling burning, let t...   \n",
       "10   Everyone loves a clown... some more than others.   \n",
       "12  This ain't no chick flick. It's poultry in mot...   \n",
       "15                    Everyone has something to hide.   \n",
       "16                       Expect the impossible again.   \n",
       "\n",
       "                       title video  vote_average  vote_count certification  \\\n",
       "3       In the Mood for Love   0.0           8.1      1868.0            PG   \n",
       "10                    Vulgar   0.0           5.5        40.0             R   \n",
       "12               Chicken Run   0.0           6.7      3997.0             G   \n",
       "15  The Million Dollar Hotel   0.0           5.9       247.0             R   \n",
       "16    Mission: Impossible II   0.0           6.1      5279.0         PG-13   \n",
       "\n",
       "   long_runtime  \n",
       "3         False  \n",
       "10        False  \n",
       "12        False  \n",
       "15        False  \n",
       "16        False  \n",
       "\n",
       "[5 rows x 27 columns]"
      ]
     },
     "execution_count": 82,
     "metadata": {},
     "output_type": "execute_result"
    }
   ],
   "source": [
    "run_df['long_runtime'] = run_df['runtime'] >= 150\n",
    "run_df.head()"
   ]
  },
  {
   "cell_type": "code",
   "execution_count": 83,
   "id": "0b624272",
   "metadata": {},
   "outputs": [
    {
     "name": "stdout",
     "output_type": "stream",
     "text": [
      "There are 133 movies that were over 2.5 hours long.\n",
      " There are 4646 movies that were under 2.5 hours.\n"
     ]
    }
   ],
   "source": [
    "# Separate the column of interest based on groups\n",
    "long_df = run_df.loc[run_df['long_runtime'] ==True, ['revenue', 'long_runtime']]\n",
    "short_df = run_df.loc[run_df['long_runtime'] == False, ['revenue', 'long_runtime']]\n",
    "print(f'There are {len(long_df)} movies that were over 2.5 hours long.')\n",
    "print(f' There are {len(short_df)} movies that were under 2.5 hours.')"
   ]
  },
  {
   "cell_type": "markdown",
   "id": "45fdd959",
   "metadata": {},
   "source": [
    "**Visualize Group Means**"
   ]
  },
  {
   "cell_type": "code",
   "execution_count": 84,
   "id": "61c23ed5",
   "metadata": {},
   "outputs": [
    {
     "data": {
      "text/html": [
       "<div>\n",
       "<style scoped>\n",
       "    .dataframe tbody tr th:only-of-type {\n",
       "        vertical-align: middle;\n",
       "    }\n",
       "\n",
       "    .dataframe tbody tr th {\n",
       "        vertical-align: top;\n",
       "    }\n",
       "\n",
       "    .dataframe thead th {\n",
       "        text-align: right;\n",
       "    }\n",
       "</style>\n",
       "<table border=\"1\" class=\"dataframe\">\n",
       "  <thead>\n",
       "    <tr style=\"text-align: right;\">\n",
       "      <th></th>\n",
       "      <th>revenue</th>\n",
       "      <th>long_runtime</th>\n",
       "    </tr>\n",
       "  </thead>\n",
       "  <tbody>\n",
       "    <tr>\n",
       "      <th>158</th>\n",
       "      <td>465361176.0</td>\n",
       "      <td>True</td>\n",
       "    </tr>\n",
       "    <tr>\n",
       "      <th>240</th>\n",
       "      <td>215294342.0</td>\n",
       "      <td>True</td>\n",
       "    </tr>\n",
       "    <tr>\n",
       "      <th>584</th>\n",
       "      <td>4900000.0</td>\n",
       "      <td>True</td>\n",
       "    </tr>\n",
       "    <tr>\n",
       "      <th>779</th>\n",
       "      <td>20908467.0</td>\n",
       "      <td>True</td>\n",
       "    </tr>\n",
       "    <tr>\n",
       "      <th>1205</th>\n",
       "      <td>871368364.0</td>\n",
       "      <td>True</td>\n",
       "    </tr>\n",
       "    <tr>\n",
       "      <th>...</th>\n",
       "      <td>...</td>\n",
       "      <td>...</td>\n",
       "    </tr>\n",
       "    <tr>\n",
       "      <th>60053</th>\n",
       "      <td>22957625.0</td>\n",
       "      <td>False</td>\n",
       "    </tr>\n",
       "    <tr>\n",
       "      <th>60058</th>\n",
       "      <td>4284903.0</td>\n",
       "      <td>False</td>\n",
       "    </tr>\n",
       "    <tr>\n",
       "      <th>60086</th>\n",
       "      <td>8756.0</td>\n",
       "      <td>False</td>\n",
       "    </tr>\n",
       "    <tr>\n",
       "      <th>60107</th>\n",
       "      <td>44888959.0</td>\n",
       "      <td>False</td>\n",
       "    </tr>\n",
       "    <tr>\n",
       "      <th>60129</th>\n",
       "      <td>4588389.0</td>\n",
       "      <td>False</td>\n",
       "    </tr>\n",
       "  </tbody>\n",
       "</table>\n",
       "<p>4779 rows × 2 columns</p>\n",
       "</div>"
      ],
      "text/plain": [
       "           revenue  long_runtime\n",
       "158    465361176.0          True\n",
       "240    215294342.0          True\n",
       "584      4900000.0          True\n",
       "779     20908467.0          True\n",
       "1205   871368364.0          True\n",
       "...            ...           ...\n",
       "60053   22957625.0         False\n",
       "60058    4284903.0         False\n",
       "60086       8756.0         False\n",
       "60107   44888959.0         False\n",
       "60129    4588389.0         False\n",
       "\n",
       "[4779 rows x 2 columns]"
      ]
     },
     "execution_count": 84,
     "metadata": {},
     "output_type": "execute_result"
    }
   ],
   "source": [
    "plot_df = pd.concat([long_df, short_df], axis = 0)\n",
    "plot_df"
   ]
  },
  {
   "cell_type": "markdown",
   "id": "da1924c4",
   "metadata": {},
   "source": [
    "**Visualization**"
   ]
  },
  {
   "cell_type": "code",
   "execution_count": 85,
   "id": "9e726e75",
   "metadata": {},
   "outputs": [
    {
     "name": "stderr",
     "output_type": "stream",
     "text": [
      "/var/folders/fp/jpcv35096h9d0ylkqvbwx2xm0000gn/T/ipykernel_89873/254965855.py:5: UserWarning: FixedFormatter should only be used together with FixedLocator\n",
      "  plt.gca().set_yticklabels(['{:,.0f}'.format(x) for x in current_values]);\n"
     ]
    },
    {
     "data": {
      "image/png": "[encoded data removed]",
      "text/plain": [
       "<Figure size 640x480 with 1 Axes>"
      ]
     },
     "metadata": {},
     "output_type": "display_data"
    }
   ],
   "source": [
    "# Visualize means\n",
    "ax = sns.barplot(data = plot_df, x = 'long_runtime', y = 'revenue')\n",
    "plt.ticklabel_format(style='plain', axis='y')\n",
    "current_values = plt.gca().get_yticks()\n",
    "plt.gca().set_yticklabels(['{:,.0f}'.format(x) for x in current_values]);"
   ]
  },
  {
   "cell_type": "code",
   "execution_count": 86,
   "id": "f6364ea7",
   "metadata": {},
   "outputs": [
    {
     "data": {
      "text/plain": [
       "158     465361176.0\n",
       "240     215294342.0\n",
       "584       4900000.0\n",
       "779      20908467.0\n",
       "1205    871368364.0\n",
       "Name: revenue, dtype: float64"
      ]
     },
     "metadata": {},
     "output_type": "display_data"
    },
    {
     "data": {
      "text/plain": [
       "3      12854953.0\n",
       "10        14904.0\n",
       "12    224834564.0\n",
       "15       105983.0\n",
       "16    546388105.0\n",
       "Name: revenue, dtype: float64"
      ]
     },
     "metadata": {},
     "output_type": "display_data"
    }
   ],
   "source": [
    "long_group = long_df['revenue']\n",
    "short_group = short_df['revenue']\n",
    "display(long_group.head(), short_group.head())"
   ]
  },
  {
   "cell_type": "markdown",
   "id": "b5ce792c",
   "metadata": {},
   "source": [
    "**Assumptions**"
   ]
  },
  {
   "cell_type": "markdown",
   "id": "e5670a95",
   "metadata": {},
   "source": [
    "**Checking for outliers**"
   ]
  },
  {
   "cell_type": "code",
   "execution_count": 87,
   "id": "4df8b3c0",
   "metadata": {},
   "outputs": [
    {
     "name": "stdout",
     "output_type": "stream",
     "text": [
      "There are 2 outliers in the longrun group out of 133\n"
     ]
    }
   ],
   "source": [
    "is_outlier_long = np.abs(stats.zscore(long_group)) >3\n",
    "print(f'There are {is_outlier_long.sum()} outliers in the longrun group out of {len(long_group)}')"
   ]
  },
  {
   "cell_type": "code",
   "execution_count": 88,
   "id": "0fbd9766",
   "metadata": {},
   "outputs": [
    {
     "data": {
      "text/html": [
       "<div>\n",
       "<style scoped>\n",
       "    .dataframe tbody tr th:only-of-type {\n",
       "        vertical-align: middle;\n",
       "    }\n",
       "\n",
       "    .dataframe tbody tr th {\n",
       "        vertical-align: top;\n",
       "    }\n",
       "\n",
       "    .dataframe thead th {\n",
       "        text-align: right;\n",
       "    }\n",
       "</style>\n",
       "<table border=\"1\" class=\"dataframe\">\n",
       "  <thead>\n",
       "    <tr style=\"text-align: right;\">\n",
       "      <th></th>\n",
       "      <th>revenue</th>\n",
       "      <th>long_runtime</th>\n",
       "    </tr>\n",
       "  </thead>\n",
       "  <tbody>\n",
       "    <tr>\n",
       "      <th>158</th>\n",
       "      <td>465361176.0</td>\n",
       "      <td>True</td>\n",
       "    </tr>\n",
       "    <tr>\n",
       "      <th>240</th>\n",
       "      <td>215294342.0</td>\n",
       "      <td>True</td>\n",
       "    </tr>\n",
       "    <tr>\n",
       "      <th>584</th>\n",
       "      <td>4900000.0</td>\n",
       "      <td>True</td>\n",
       "    </tr>\n",
       "    <tr>\n",
       "      <th>779</th>\n",
       "      <td>20908467.0</td>\n",
       "      <td>True</td>\n",
       "    </tr>\n",
       "    <tr>\n",
       "      <th>1205</th>\n",
       "      <td>871368364.0</td>\n",
       "      <td>True</td>\n",
       "    </tr>\n",
       "    <tr>\n",
       "      <th>...</th>\n",
       "      <td>...</td>\n",
       "      <td>...</td>\n",
       "    </tr>\n",
       "    <tr>\n",
       "      <th>59340</th>\n",
       "      <td>774153007.0</td>\n",
       "      <td>True</td>\n",
       "    </tr>\n",
       "    <tr>\n",
       "      <th>59381</th>\n",
       "      <td>74530532.0</td>\n",
       "      <td>True</td>\n",
       "    </tr>\n",
       "    <tr>\n",
       "      <th>59422</th>\n",
       "      <td>27000000.0</td>\n",
       "      <td>True</td>\n",
       "    </tr>\n",
       "    <tr>\n",
       "      <th>59707</th>\n",
       "      <td>39629195.0</td>\n",
       "      <td>True</td>\n",
       "    </tr>\n",
       "    <tr>\n",
       "      <th>59917</th>\n",
       "      <td>402027582.0</td>\n",
       "      <td>True</td>\n",
       "    </tr>\n",
       "  </tbody>\n",
       "</table>\n",
       "<p>131 rows × 2 columns</p>\n",
       "</div>"
      ],
      "text/plain": [
       "           revenue  long_runtime\n",
       "158    465361176.0          True\n",
       "240    215294342.0          True\n",
       "584      4900000.0          True\n",
       "779     20908467.0          True\n",
       "1205   871368364.0          True\n",
       "...            ...           ...\n",
       "59340  774153007.0          True\n",
       "59381   74530532.0          True\n",
       "59422   27000000.0          True\n",
       "59707   39629195.0          True\n",
       "59917  402027582.0          True\n",
       "\n",
       "[131 rows x 2 columns]"
      ]
     },
     "execution_count": 88,
     "metadata": {},
     "output_type": "execute_result"
    }
   ],
   "source": [
    "long_df.loc[~is_outlier_long]"
   ]
  },
  {
   "cell_type": "code",
   "execution_count": 89,
   "id": "db807190",
   "metadata": {},
   "outputs": [
    {
     "data": {
      "text/plain": [
       "158      465361176.0\n",
       "240      215294342.0\n",
       "584        4900000.0\n",
       "779       20908467.0\n",
       "1205     871368364.0\n",
       "            ...     \n",
       "59340    774153007.0\n",
       "59381     74530532.0\n",
       "59422     27000000.0\n",
       "59707     39629195.0\n",
       "59917    402027582.0\n",
       "Name: revenue, Length: 131, dtype: float64"
      ]
     },
     "execution_count": 89,
     "metadata": {},
     "output_type": "execute_result"
    }
   ],
   "source": [
    "# removing outliers\n",
    "long_group = long_group.loc[~is_outlier_long]\n",
    "long_group"
   ]
  },
  {
   "cell_type": "code",
   "execution_count": 90,
   "id": "264b6dfb",
   "metadata": {},
   "outputs": [
    {
     "name": "stdout",
     "output_type": "stream",
     "text": [
      "There are 120 outliers in the shortrun group out of 4646.\n"
     ]
    }
   ],
   "source": [
    "# Checking short run group for outliers\n",
    "is_outlier_short = np.abs(stats.zscore(short_group)) >3\n",
    "print(f\"There are {is_outlier_short.sum()} outliers in the shortrun group out of {len(short_group)}.\")\n"
   ]
  },
  {
   "cell_type": "code",
   "execution_count": 91,
   "id": "40f3aab9",
   "metadata": {},
   "outputs": [
    {
     "data": {
      "text/plain": [
       "3         12854953.0\n",
       "10           14904.0\n",
       "12       224834564.0\n",
       "15          105983.0\n",
       "16       546388105.0\n",
       "            ...     \n",
       "60053     22957625.0\n",
       "60058      4284903.0\n",
       "60086         8756.0\n",
       "60107     44888959.0\n",
       "60129      4588389.0\n",
       "Name: revenue, Length: 4526, dtype: float64"
      ]
     },
     "execution_count": 91,
     "metadata": {},
     "output_type": "execute_result"
    }
   ],
   "source": [
    "short_group = short_group.loc[~is_outlier_short]\n",
    "short_group"
   ]
  },
  {
   "cell_type": "markdown",
   "id": "f8f8b116",
   "metadata": {},
   "source": [
    "**Normality:**\n",
    "\n",
    "* There are >20 in each group so we can proceed with the assumption that it is sufficient. "
   ]
  },
  {
   "cell_type": "markdown",
   "id": "61ae963d",
   "metadata": {},
   "source": [
    "**Equal Variance**"
   ]
  },
  {
   "cell_type": "code",
   "execution_count": 92,
   "id": "5466de46",
   "metadata": {},
   "outputs": [
    {
     "name": "stdout",
     "output_type": "stream",
     "text": [
      "LeveneResult(statistic=389.7048897489815, pvalue=2.2684190899262806e-83)\n",
      "True\n"
     ]
    }
   ],
   "source": [
    "run_result = stats.levene(long_group, short_group)\n",
    "print(run_result)\n",
    "print(run_result.pvalue<.05)"
   ]
  },
  {
   "cell_type": "markdown",
   "id": "e78fa08a",
   "metadata": {},
   "source": [
    "**Result:**\n",
    "\n",
    "* P value is < .05 so our groups do not have equal variance\n",
    "\n",
    "* Will use equal_var = False with test to compensate. "
   ]
  },
  {
   "cell_type": "markdown",
   "id": "2c69f94b",
   "metadata": {},
   "source": [
    "**T-test**"
   ]
  },
  {
   "cell_type": "code",
   "execution_count": 93,
   "id": "79c5de5f",
   "metadata": {},
   "outputs": [
    {
     "name": "stdout",
     "output_type": "stream",
     "text": [
      "Ttest_indResult(statistic=6.671368320065682, pvalue=6.519080314747216e-10)\n",
      "True\n"
     ]
    }
   ],
   "source": [
    "result2 = stats.ttest_ind(long_group, short_group, equal_var = False)\n",
    "print(result2)\n",
    "print(result2.pvalue<.05)"
   ]
  },
  {
   "cell_type": "markdown",
   "id": "ef0a53e0",
   "metadata": {},
   "source": [
    "**FINAL CONCLUSIONS:** \n",
    "\n",
    "* Welch's ttest returned a P value less than .05 so we can reject the null hypotheses and support the alternate that there is a significant difference in revenue between movies greater than or equal to 2.5 hours and those less than 2.5 hours. \n",
    "\n",
    "* Based on the averages below we can see that movies over 2.5 hours had significantly higher revenue than those under 2.5 hours. "
   ]
  },
  {
   "cell_type": "code",
   "execution_count": 94,
   "id": "33479dcc",
   "metadata": {},
   "outputs": [
    {
     "name": "stdout",
     "output_type": "stream",
     "text": [
      " The average revenue for the longrun group was 268227407.88\n",
      " The average quantity for the shortrun group was 65994252.92\n"
     ]
    }
   ],
   "source": [
    "print(f\" The average revenue for the longrun group was {long_group.mean():.2f}\")\n",
    "print(f\" The average quantity for the shortrun group was {short_group.mean():.2f}\")"
   ]
  },
  {
   "cell_type": "markdown",
   "id": "d9058371",
   "metadata": {},
   "source": [
    "## 3rd Hypothesis Test"
   ]
  },
  {
   "cell_type": "markdown",
   "id": "2fede6f8",
   "metadata": {},
   "source": [
    "**???**\n",
    "\n",
    "**NULL:**\n",
    "\n",
    "**ALTERNATE:**\n",
    "\n",
    "**TEST:**\n",
    "\n",
    "**ASSUMPTIONS:**"
   ]
  },
  {
   "cell_type": "code",
   "execution_count": 95,
   "id": "d65c9e6a",
   "metadata": {},
   "outputs": [
    {
     "data": {
      "text/plain": [
       "[{'id': 18, 'name': 'Drama'}]                                                                                                           1026\n",
       "[{'id': 35, 'name': 'Comedy'}]                                                                                                           676\n",
       "[{'id': 27, 'name': 'Horror'}]                                                                                                           357\n",
       "[{'id': 35, 'name': 'Comedy'}, {'id': 18, 'name': 'Drama'}]                                                                              356\n",
       "[{'id': 35, 'name': 'Comedy'}, {'id': 10749, 'name': 'Romance'}]                                                                         334\n",
       "                                                                                                                                        ... \n",
       "[{'id': 28, 'name': 'Action'}, {'id': 35, 'name': 'Comedy'}, {'id': 10402, 'name': 'Music'}]                                               1\n",
       "[{'id': 28, 'name': 'Action'}, {'id': 27, 'name': 'Horror'}, {'id': 53, 'name': 'Thriller'}, {'id': 878, 'name': 'Science Fiction'}]       1\n",
       "[{'id': 10749, 'name': 'Romance'}, {'id': 35, 'name': 'Comedy'}, {'id': 80, 'name': 'Crime'}]                                              1\n",
       "[{'id': 28, 'name': 'Action'}, {'id': 10752, 'name': 'War'}, {'id': 27, 'name': 'Horror'}]                                                 1\n",
       "[{'id': 53, 'name': 'Thriller'}, {'id': 18, 'name': 'Drama'}, {'id': 9648, 'name': 'Mystery'}, {'id': 27, 'name': 'Horror'}]               1\n",
       "Name: genres, Length: 1920, dtype: int64"
      ]
     },
     "execution_count": 95,
     "metadata": {},
     "output_type": "execute_result"
    }
   ],
   "source": [
    "df['genres'].value_counts()"
   ]
  },
  {
   "cell_type": "code",
   "execution_count": 97,
   "id": "1b88d6ab",
   "metadata": {},
   "outputs": [
    {
     "data": {
      "text/plain": [
       "0"
      ]
     },
     "execution_count": 97,
     "metadata": {},
     "output_type": "execute_result"
    }
   ],
   "source": [
    "df['genres'].isna().sum()"
   ]
  },
  {
   "cell_type": "code",
   "execution_count": 99,
   "id": "b1d0188b",
   "metadata": {},
   "outputs": [
    {
     "ename": "TypeError",
     "evalue": "the JSON object must be str, bytes or bytearray, not float",
     "output_type": "error",
     "traceback": [
      "\u001b[0;31m---------------------------------------------------------------------------\u001b[0m",
      "\u001b[0;31mTypeError\u001b[0m                                 Traceback (most recent call last)",
      "Cell \u001b[0;32mIn [99], line 4\u001b[0m\n\u001b[1;32m      2\u001b[0m df[\u001b[38;5;124m'\u001b[39m\u001b[38;5;124mgenres_split\u001b[39m\u001b[38;5;124m'\u001b[39m] \u001b[38;5;241m=\u001b[39m df[\u001b[38;5;124m'\u001b[39m\u001b[38;5;124mgenres\u001b[39m\u001b[38;5;124m'\u001b[39m]\u001b[38;5;241m.\u001b[39mstr\u001b[38;5;241m.\u001b[39mreplace(\u001b[38;5;124m\"\u001b[39m\u001b[38;5;124m'\u001b[39m\u001b[38;5;124m\"\u001b[39m,\u001b[38;5;124m'\u001b[39m\u001b[38;5;124m\"\u001b[39m\u001b[38;5;124m'\u001b[39m)\n\u001b[1;32m      3\u001b[0m \u001b[38;5;66;03m## Apply the json.loads to the full column\u001b[39;00m\n\u001b[0;32m----> 4\u001b[0m df[\u001b[38;5;124m'\u001b[39m\u001b[38;5;124mgenres_split\u001b[39m\u001b[38;5;124m'\u001b[39m] \u001b[38;5;241m=\u001b[39m \u001b[43mdf\u001b[49m\u001b[43m[\u001b[49m\u001b[38;5;124;43m'\u001b[39;49m\u001b[38;5;124;43mgenres_split\u001b[39;49m\u001b[38;5;124;43m'\u001b[39;49m\u001b[43m]\u001b[49m\u001b[38;5;241;43m.\u001b[39;49m\u001b[43mapply\u001b[49m\u001b[43m(\u001b[49m\u001b[43mjson\u001b[49m\u001b[38;5;241;43m.\u001b[39;49m\u001b[43mloads\u001b[49m\u001b[43m)\u001b[49m\n\u001b[1;32m      5\u001b[0m df[\u001b[38;5;124m'\u001b[39m\u001b[38;5;124mgenres_split\u001b[39m\u001b[38;5;124m'\u001b[39m]\u001b[38;5;241m.\u001b[39mhead()\n",
      "File \u001b[0;32m/opt/homebrew/Caskroom/miniforge/base/envs/dojo-env/lib/python3.9/site-packages/pandas/core/series.py:4771\u001b[0m, in \u001b[0;36mSeries.apply\u001b[0;34m(self, func, convert_dtype, args, **kwargs)\u001b[0m\n\u001b[1;32m   4661\u001b[0m \u001b[38;5;28;01mdef\u001b[39;00m \u001b[38;5;21mapply\u001b[39m(\n\u001b[1;32m   4662\u001b[0m     \u001b[38;5;28mself\u001b[39m,\n\u001b[1;32m   4663\u001b[0m     func: AggFuncType,\n\u001b[0;32m   (...)\u001b[0m\n\u001b[1;32m   4666\u001b[0m     \u001b[38;5;241m*\u001b[39m\u001b[38;5;241m*\u001b[39mkwargs,\n\u001b[1;32m   4667\u001b[0m ) \u001b[38;5;241m-\u001b[39m\u001b[38;5;241m>\u001b[39m DataFrame \u001b[38;5;241m|\u001b[39m Series:\n\u001b[1;32m   4668\u001b[0m     \u001b[38;5;124;03m\"\"\"\u001b[39;00m\n\u001b[1;32m   4669\u001b[0m \u001b[38;5;124;03m    Invoke function on values of Series.\u001b[39;00m\n\u001b[1;32m   4670\u001b[0m \n\u001b[0;32m   (...)\u001b[0m\n\u001b[1;32m   4769\u001b[0m \u001b[38;5;124;03m    dtype: float64\u001b[39;00m\n\u001b[1;32m   4770\u001b[0m \u001b[38;5;124;03m    \"\"\"\u001b[39;00m\n\u001b[0;32m-> 4771\u001b[0m     \u001b[38;5;28;01mreturn\u001b[39;00m \u001b[43mSeriesApply\u001b[49m\u001b[43m(\u001b[49m\u001b[38;5;28;43mself\u001b[39;49m\u001b[43m,\u001b[49m\u001b[43m \u001b[49m\u001b[43mfunc\u001b[49m\u001b[43m,\u001b[49m\u001b[43m \u001b[49m\u001b[43mconvert_dtype\u001b[49m\u001b[43m,\u001b[49m\u001b[43m \u001b[49m\u001b[43margs\u001b[49m\u001b[43m,\u001b[49m\u001b[43m \u001b[49m\u001b[43mkwargs\u001b[49m\u001b[43m)\u001b[49m\u001b[38;5;241;43m.\u001b[39;49m\u001b[43mapply\u001b[49m\u001b[43m(\u001b[49m\u001b[43m)\u001b[49m\n",
      "File \u001b[0;32m/opt/homebrew/Caskroom/miniforge/base/envs/dojo-env/lib/python3.9/site-packages/pandas/core/apply.py:1105\u001b[0m, in \u001b[0;36mSeriesApply.apply\u001b[0;34m(self)\u001b[0m\n\u001b[1;32m   1102\u001b[0m     \u001b[38;5;28;01mreturn\u001b[39;00m \u001b[38;5;28mself\u001b[39m\u001b[38;5;241m.\u001b[39mapply_str()\n\u001b[1;32m   1104\u001b[0m \u001b[38;5;66;03m# self.f is Callable\u001b[39;00m\n\u001b[0;32m-> 1105\u001b[0m \u001b[38;5;28;01mreturn\u001b[39;00m \u001b[38;5;28;43mself\u001b[39;49m\u001b[38;5;241;43m.\u001b[39;49m\u001b[43mapply_standard\u001b[49m\u001b[43m(\u001b[49m\u001b[43m)\u001b[49m\n",
      "File \u001b[0;32m/opt/homebrew/Caskroom/miniforge/base/envs/dojo-env/lib/python3.9/site-packages/pandas/core/apply.py:1156\u001b[0m, in \u001b[0;36mSeriesApply.apply_standard\u001b[0;34m(self)\u001b[0m\n\u001b[1;32m   1154\u001b[0m     \u001b[38;5;28;01melse\u001b[39;00m:\n\u001b[1;32m   1155\u001b[0m         values \u001b[38;5;241m=\u001b[39m obj\u001b[38;5;241m.\u001b[39mastype(\u001b[38;5;28mobject\u001b[39m)\u001b[38;5;241m.\u001b[39m_values\n\u001b[0;32m-> 1156\u001b[0m         mapped \u001b[38;5;241m=\u001b[39m \u001b[43mlib\u001b[49m\u001b[38;5;241;43m.\u001b[39;49m\u001b[43mmap_infer\u001b[49m\u001b[43m(\u001b[49m\n\u001b[1;32m   1157\u001b[0m \u001b[43m            \u001b[49m\u001b[43mvalues\u001b[49m\u001b[43m,\u001b[49m\n\u001b[1;32m   1158\u001b[0m \u001b[43m            \u001b[49m\u001b[43mf\u001b[49m\u001b[43m,\u001b[49m\n\u001b[1;32m   1159\u001b[0m \u001b[43m            \u001b[49m\u001b[43mconvert\u001b[49m\u001b[38;5;241;43m=\u001b[39;49m\u001b[38;5;28;43mself\u001b[39;49m\u001b[38;5;241;43m.\u001b[39;49m\u001b[43mconvert_dtype\u001b[49m\u001b[43m,\u001b[49m\n\u001b[1;32m   1160\u001b[0m \u001b[43m        \u001b[49m\u001b[43m)\u001b[49m\n\u001b[1;32m   1162\u001b[0m \u001b[38;5;28;01mif\u001b[39;00m \u001b[38;5;28mlen\u001b[39m(mapped) \u001b[38;5;129;01mand\u001b[39;00m \u001b[38;5;28misinstance\u001b[39m(mapped[\u001b[38;5;241m0\u001b[39m], ABCSeries):\n\u001b[1;32m   1163\u001b[0m     \u001b[38;5;66;03m# GH#43986 Need to do list(mapped) in order to get treated as nested\u001b[39;00m\n\u001b[1;32m   1164\u001b[0m     \u001b[38;5;66;03m#  See also GH#25959 regarding EA support\u001b[39;00m\n\u001b[1;32m   1165\u001b[0m     \u001b[38;5;28;01mreturn\u001b[39;00m obj\u001b[38;5;241m.\u001b[39m_constructor_expanddim(\u001b[38;5;28mlist\u001b[39m(mapped), index\u001b[38;5;241m=\u001b[39mobj\u001b[38;5;241m.\u001b[39mindex)\n",
      "File \u001b[0;32m/opt/homebrew/Caskroom/miniforge/base/envs/dojo-env/lib/python3.9/site-packages/pandas/_libs/lib.pyx:2918\u001b[0m, in \u001b[0;36mpandas._libs.lib.map_infer\u001b[0;34m()\u001b[0m\n",
      "File \u001b[0;32m/opt/homebrew/Caskroom/miniforge/base/envs/dojo-env/lib/python3.9/json/__init__.py:339\u001b[0m, in \u001b[0;36mloads\u001b[0;34m(s, cls, object_hook, parse_float, parse_int, parse_constant, object_pairs_hook, **kw)\u001b[0m\n\u001b[1;32m    337\u001b[0m \u001b[38;5;28;01melse\u001b[39;00m:\n\u001b[1;32m    338\u001b[0m     \u001b[38;5;28;01mif\u001b[39;00m \u001b[38;5;129;01mnot\u001b[39;00m \u001b[38;5;28misinstance\u001b[39m(s, (\u001b[38;5;28mbytes\u001b[39m, \u001b[38;5;28mbytearray\u001b[39m)):\n\u001b[0;32m--> 339\u001b[0m         \u001b[38;5;28;01mraise\u001b[39;00m \u001b[38;5;167;01mTypeError\u001b[39;00m(\u001b[38;5;124mf\u001b[39m\u001b[38;5;124m'\u001b[39m\u001b[38;5;124mthe JSON object must be str, bytes or bytearray, \u001b[39m\u001b[38;5;124m'\u001b[39m\n\u001b[1;32m    340\u001b[0m                         \u001b[38;5;124mf\u001b[39m\u001b[38;5;124m'\u001b[39m\u001b[38;5;124mnot \u001b[39m\u001b[38;5;132;01m{\u001b[39;00ms\u001b[38;5;241m.\u001b[39m\u001b[38;5;18m__class__\u001b[39m\u001b[38;5;241m.\u001b[39m\u001b[38;5;18m__name__\u001b[39m\u001b[38;5;132;01m}\u001b[39;00m\u001b[38;5;124m'\u001b[39m)\n\u001b[1;32m    341\u001b[0m     s \u001b[38;5;241m=\u001b[39m s\u001b[38;5;241m.\u001b[39mdecode(detect_encoding(s), \u001b[38;5;124m'\u001b[39m\u001b[38;5;124msurrogatepass\u001b[39m\u001b[38;5;124m'\u001b[39m)\n\u001b[1;32m    343\u001b[0m \u001b[38;5;28;01mif\u001b[39;00m (\u001b[38;5;28mcls\u001b[39m \u001b[38;5;129;01mis\u001b[39;00m \u001b[38;5;28;01mNone\u001b[39;00m \u001b[38;5;129;01mand\u001b[39;00m object_hook \u001b[38;5;129;01mis\u001b[39;00m \u001b[38;5;28;01mNone\u001b[39;00m \u001b[38;5;129;01mand\u001b[39;00m\n\u001b[1;32m    344\u001b[0m         parse_int \u001b[38;5;129;01mis\u001b[39;00m \u001b[38;5;28;01mNone\u001b[39;00m \u001b[38;5;129;01mand\u001b[39;00m parse_float \u001b[38;5;129;01mis\u001b[39;00m \u001b[38;5;28;01mNone\u001b[39;00m \u001b[38;5;129;01mand\u001b[39;00m\n\u001b[1;32m    345\u001b[0m         parse_constant \u001b[38;5;129;01mis\u001b[39;00m \u001b[38;5;28;01mNone\u001b[39;00m \u001b[38;5;129;01mand\u001b[39;00m object_pairs_hook \u001b[38;5;129;01mis\u001b[39;00m \u001b[38;5;28;01mNone\u001b[39;00m \u001b[38;5;129;01mand\u001b[39;00m \u001b[38;5;129;01mnot\u001b[39;00m kw):\n",
      "\u001b[0;31mTypeError\u001b[0m: the JSON object must be str, bytes or bytearray, not float"
     ]
    }
   ],
   "source": [
    "## use .str.replace to replace all single quotes\n",
    "df['genres_split'] = df['genres'].str.replace(\"'\",'\"')\n",
    "## Apply the json.loads to the full column\n",
    "df['genres_split'] = df['genres_split'].apply(json.loads)\n",
    "df['genres_split'].head()"
   ]
  },
  {
   "cell_type": "code",
   "execution_count": null,
   "id": "d8559b86",
   "metadata": {},
   "outputs": [],
   "source": []
  },
  {
   "cell_type": "code",
   "execution_count": null,
   "id": "337fc3c0",
   "metadata": {},
   "outputs": [],
   "source": []
  }
 ],
 "metadata": {
  "kernelspec": {
   "display_name": "Python (dojo-env)",
   "language": "python",
   "name": "dojo-env"
  },
  "language_info": {
   "codemirror_mode": {
    "name": "ipython",
    "version": 3
   },
   "file_extension": ".py",
   "mimetype": "text/x-python",
   "name": "python",
   "nbconvert_exporter": "python",
   "pygments_lexer": "ipython3",
   "version": "3.9.15"
  },
  "toc": {
   "base_numbering": 1,
   "nav_menu": {},
   "number_sections": false,
   "sideBar": true,
   "skip_h1_title": false,
   "title_cell": "Table of Contents",
   "title_sidebar": "Contents",
   "toc_cell": false,
   "toc_position": {},
   "toc_section_display": true,
   "toc_window_display": false
  }
 },
 "nbformat": 4,
 "nbformat_minor": 5
}
