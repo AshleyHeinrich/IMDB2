{
 "cells": [
  {
   "cell_type": "code",
   "execution_count": 152,
   "id": "c59ee710",
   "metadata": {},
   "outputs": [],
   "source": [
    "import pandas as pd\n",
    "import numpy as np\n",
    "import json\n",
    "from scipy import stats\n",
    "import seaborn as sns\n",
    "import matplotlib.pyplot as plt"
   ]
  },
  {
   "cell_type": "code",
   "execution_count": 153,
   "id": "d29040c2",
   "metadata": {},
   "outputs": [
    {
     "data": {
      "text/plain": [
       "['final_tmdb_data_2000.csv.gz',\n",
       " 'final_tmdb_data_2001.csv.gz',\n",
       " 'final_tmdb_data_2002.csv.gz',\n",
       " 'final_tmdb_data_2003.csv.gz',\n",
       " 'final_tmdb_data_2004.csv.gz',\n",
       " 'final_tmdb_data_2005.csv.gz',\n",
       " 'final_tmdb_data_2006.csv.gz',\n",
       " 'final_tmdb_data_2007.csv.gz',\n",
       " 'final_tmdb_data_2008.csv.gz',\n",
       " 'final_tmdb_data_2009.csv.gz',\n",
       " 'final_tmdb_data_2010.csv.gz',\n",
       " 'final_tmdb_data_2011.csv.gz',\n",
       " 'final_tmdb_data_2012.csv.gz',\n",
       " 'final_tmdb_data_2013.csv.gz',\n",
       " 'final_tmdb_data_2014.csv.gz',\n",
       " 'final_tmdb_data_2015.csv.gz',\n",
       " 'final_tmdb_data_2016.csv.gz',\n",
       " 'final_tmdb_data_2017.csv.gz',\n",
       " 'final_tmdb_data_2018.csv.gz',\n",
       " 'final_tmdb_data_2019.csv.gz',\n",
       " 'final_tmdb_data_2020.csv.gz',\n",
       " 'final_tmdb_data_2021.csv.gz']"
      ]
     },
     "execution_count": 153,
     "metadata": {},
     "output_type": "execute_result"
    }
   ],
   "source": [
    "import os\n",
    "FOLDER = 'Data_2/'\n",
    "file_list = sorted(os.listdir(FOLDER))\n",
    "file_list"
   ]
  },
  {
   "cell_type": "code",
   "execution_count": 154,
   "id": "3c67fdcd",
   "metadata": {},
   "outputs": [
    {
     "name": "stdout",
     "output_type": "stream",
     "text": [
      "Data_2/*.csv.gz\n"
     ]
    }
   ],
   "source": [
    "import glob\n",
    "## Make a filepath query\n",
    "q = FOLDER + \"*.csv.gz\"\n",
    "print(q)"
   ]
  },
  {
   "cell_type": "code",
   "execution_count": 155,
   "id": "85c40b3c",
   "metadata": {},
   "outputs": [
    {
     "data": {
      "text/plain": [
       "['Data_2/final_tmdb_data_2006.csv.gz',\n",
       " 'Data_2/final_tmdb_data_2018.csv.gz',\n",
       " 'Data_2/final_tmdb_data_2014.csv.gz',\n",
       " 'Data_2/final_tmdb_data_2008.csv.gz',\n",
       " 'Data_2/final_tmdb_data_2016.csv.gz',\n",
       " 'Data_2/final_tmdb_data_2004.csv.gz',\n",
       " 'Data_2/final_tmdb_data_2020.csv.gz',\n",
       " 'Data_2/final_tmdb_data_2000.csv.gz',\n",
       " 'Data_2/final_tmdb_data_2012.csv.gz',\n",
       " 'Data_2/final_tmdb_data_2010.csv.gz',\n",
       " 'Data_2/final_tmdb_data_2002.csv.gz',\n",
       " 'Data_2/final_tmdb_data_2019.csv.gz',\n",
       " 'Data_2/final_tmdb_data_2007.csv.gz',\n",
       " 'Data_2/final_tmdb_data_2015.csv.gz',\n",
       " 'Data_2/final_tmdb_data_2021.csv.gz',\n",
       " 'Data_2/final_tmdb_data_2017.csv.gz',\n",
       " 'Data_2/final_tmdb_data_2009.csv.gz',\n",
       " 'Data_2/final_tmdb_data_2005.csv.gz',\n",
       " 'Data_2/final_tmdb_data_2001.csv.gz',\n",
       " 'Data_2/final_tmdb_data_2013.csv.gz',\n",
       " 'Data_2/final_tmdb_data_2011.csv.gz',\n",
       " 'Data_2/final_tmdb_data_2003.csv.gz']"
      ]
     },
     "execution_count": 155,
     "metadata": {},
     "output_type": "execute_result"
    }
   ],
   "source": [
    "# Use glob.glob to get complete filepaths\n",
    "file_list = glob.glob(q)\n",
    "file_list"
   ]
  },
  {
   "cell_type": "code",
   "execution_count": 156,
   "id": "47301d42",
   "metadata": {},
   "outputs": [
    {
     "name": "stdout",
     "output_type": "stream",
     "text": [
      "Data_2/final_*.csv.gz\n"
     ]
    },
    {
     "data": {
      "text/plain": [
       "['Data_2/final_tmdb_data_2000.csv.gz',\n",
       " 'Data_2/final_tmdb_data_2001.csv.gz',\n",
       " 'Data_2/final_tmdb_data_2002.csv.gz',\n",
       " 'Data_2/final_tmdb_data_2003.csv.gz',\n",
       " 'Data_2/final_tmdb_data_2004.csv.gz',\n",
       " 'Data_2/final_tmdb_data_2005.csv.gz',\n",
       " 'Data_2/final_tmdb_data_2006.csv.gz',\n",
       " 'Data_2/final_tmdb_data_2007.csv.gz',\n",
       " 'Data_2/final_tmdb_data_2008.csv.gz',\n",
       " 'Data_2/final_tmdb_data_2009.csv.gz',\n",
       " 'Data_2/final_tmdb_data_2010.csv.gz',\n",
       " 'Data_2/final_tmdb_data_2011.csv.gz',\n",
       " 'Data_2/final_tmdb_data_2012.csv.gz',\n",
       " 'Data_2/final_tmdb_data_2013.csv.gz',\n",
       " 'Data_2/final_tmdb_data_2014.csv.gz',\n",
       " 'Data_2/final_tmdb_data_2015.csv.gz',\n",
       " 'Data_2/final_tmdb_data_2016.csv.gz',\n",
       " 'Data_2/final_tmdb_data_2017.csv.gz',\n",
       " 'Data_2/final_tmdb_data_2018.csv.gz',\n",
       " 'Data_2/final_tmdb_data_2019.csv.gz',\n",
       " 'Data_2/final_tmdb_data_2020.csv.gz',\n",
       " 'Data_2/final_tmdb_data_2021.csv.gz']"
      ]
     },
     "execution_count": 156,
     "metadata": {},
     "output_type": "execute_result"
    }
   ],
   "source": [
    "# Use glob.glo0b to get complete filepaths and sort\n",
    "q = FOLDER + \"final_*.csv.gz\"\n",
    "print(q)\n",
    "file_list = sorted(glob.glob(q))\n",
    "file_list"
   ]
  },
  {
   "cell_type": "code",
   "execution_count": 157,
   "id": "d92dfaba",
   "metadata": {},
   "outputs": [
    {
     "data": {
      "text/html": [
       "<div>\n",
       "<style scoped>\n",
       "    .dataframe tbody tr th:only-of-type {\n",
       "        vertical-align: middle;\n",
       "    }\n",
       "\n",
       "    .dataframe tbody tr th {\n",
       "        vertical-align: top;\n",
       "    }\n",
       "\n",
       "    .dataframe thead th {\n",
       "        text-align: right;\n",
       "    }\n",
       "</style>\n",
       "<table border=\"1\" class=\"dataframe\">\n",
       "  <thead>\n",
       "    <tr style=\"text-align: right;\">\n",
       "      <th></th>\n",
       "      <th>imdb_id</th>\n",
       "      <th>adult</th>\n",
       "      <th>backdrop_path</th>\n",
       "      <th>belongs_to_collection</th>\n",
       "      <th>budget</th>\n",
       "      <th>genres</th>\n",
       "      <th>homepage</th>\n",
       "      <th>id</th>\n",
       "      <th>original_language</th>\n",
       "      <th>original_title</th>\n",
       "      <th>...</th>\n",
       "      <th>revenue</th>\n",
       "      <th>runtime</th>\n",
       "      <th>spoken_languages</th>\n",
       "      <th>status</th>\n",
       "      <th>tagline</th>\n",
       "      <th>title</th>\n",
       "      <th>video</th>\n",
       "      <th>vote_average</th>\n",
       "      <th>vote_count</th>\n",
       "      <th>certification</th>\n",
       "    </tr>\n",
       "  </thead>\n",
       "  <tbody>\n",
       "    <tr>\n",
       "      <th>0</th>\n",
       "      <td>0</td>\n",
       "      <td>NaN</td>\n",
       "      <td>NaN</td>\n",
       "      <td>NaN</td>\n",
       "      <td>NaN</td>\n",
       "      <td>NaN</td>\n",
       "      <td>NaN</td>\n",
       "      <td>NaN</td>\n",
       "      <td>NaN</td>\n",
       "      <td>NaN</td>\n",
       "      <td>...</td>\n",
       "      <td>NaN</td>\n",
       "      <td>NaN</td>\n",
       "      <td>NaN</td>\n",
       "      <td>NaN</td>\n",
       "      <td>NaN</td>\n",
       "      <td>NaN</td>\n",
       "      <td>NaN</td>\n",
       "      <td>NaN</td>\n",
       "      <td>NaN</td>\n",
       "      <td>NaN</td>\n",
       "    </tr>\n",
       "    <tr>\n",
       "      <th>1</th>\n",
       "      <td>tt0113026</td>\n",
       "      <td>0.0</td>\n",
       "      <td>/vMFs7nw6P0bIV1jDsQpxAieAVnH.jpg</td>\n",
       "      <td>NaN</td>\n",
       "      <td>10000000.0</td>\n",
       "      <td>[{'id': 35, 'name': 'Comedy'}, {'id': 10402, '...</td>\n",
       "      <td>NaN</td>\n",
       "      <td>62127.0</td>\n",
       "      <td>en</td>\n",
       "      <td>The Fantasticks</td>\n",
       "      <td>...</td>\n",
       "      <td>0.0</td>\n",
       "      <td>86.0</td>\n",
       "      <td>[{'english_name': 'English', 'iso_639_1': 'en'...</td>\n",
       "      <td>Released</td>\n",
       "      <td>Try to remember the first time magic happened</td>\n",
       "      <td>The Fantasticks</td>\n",
       "      <td>0.0</td>\n",
       "      <td>5.4</td>\n",
       "      <td>21.0</td>\n",
       "      <td>NaN</td>\n",
       "    </tr>\n",
       "    <tr>\n",
       "      <th>2</th>\n",
       "      <td>tt0113092</td>\n",
       "      <td>0.0</td>\n",
       "      <td>NaN</td>\n",
       "      <td>NaN</td>\n",
       "      <td>0.0</td>\n",
       "      <td>[{'id': 878, 'name': 'Science Fiction'}]</td>\n",
       "      <td>NaN</td>\n",
       "      <td>110977.0</td>\n",
       "      <td>en</td>\n",
       "      <td>For the Cause</td>\n",
       "      <td>...</td>\n",
       "      <td>0.0</td>\n",
       "      <td>100.0</td>\n",
       "      <td>[{'english_name': 'English', 'iso_639_1': 'en'...</td>\n",
       "      <td>Released</td>\n",
       "      <td>The ultimate showdown on a forbidden planet.</td>\n",
       "      <td>For the Cause</td>\n",
       "      <td>0.0</td>\n",
       "      <td>4.4</td>\n",
       "      <td>7.0</td>\n",
       "      <td>NaN</td>\n",
       "    </tr>\n",
       "    <tr>\n",
       "      <th>3</th>\n",
       "      <td>tt0116391</td>\n",
       "      <td>0.0</td>\n",
       "      <td>NaN</td>\n",
       "      <td>NaN</td>\n",
       "      <td>0.0</td>\n",
       "      <td>[{'id': 18, 'name': 'Drama'}, {'id': 28, 'name...</td>\n",
       "      <td>NaN</td>\n",
       "      <td>442869.0</td>\n",
       "      <td>hi</td>\n",
       "      <td>Gang</td>\n",
       "      <td>...</td>\n",
       "      <td>0.0</td>\n",
       "      <td>152.0</td>\n",
       "      <td>[{'english_name': 'Hindi', 'iso_639_1': 'hi', ...</td>\n",
       "      <td>Released</td>\n",
       "      <td>NaN</td>\n",
       "      <td>Gang</td>\n",
       "      <td>0.0</td>\n",
       "      <td>0.0</td>\n",
       "      <td>0.0</td>\n",
       "      <td>NaN</td>\n",
       "    </tr>\n",
       "    <tr>\n",
       "      <th>4</th>\n",
       "      <td>tt0118694</td>\n",
       "      <td>0.0</td>\n",
       "      <td>/n4GJFGzsc7NinI1VeGDXIcQjtU2.jpg</td>\n",
       "      <td>NaN</td>\n",
       "      <td>150000.0</td>\n",
       "      <td>[{'id': 18, 'name': 'Drama'}, {'id': 10749, 'n...</td>\n",
       "      <td>http://www.wkw-inthemoodforlove.com/</td>\n",
       "      <td>843.0</td>\n",
       "      <td>cn</td>\n",
       "      <td>花樣年華</td>\n",
       "      <td>...</td>\n",
       "      <td>12854953.0</td>\n",
       "      <td>99.0</td>\n",
       "      <td>[{'english_name': 'Cantonese', 'iso_639_1': 'c...</td>\n",
       "      <td>Released</td>\n",
       "      <td>Feel the heat, keep the feeling burning, let t...</td>\n",
       "      <td>In the Mood for Love</td>\n",
       "      <td>0.0</td>\n",
       "      <td>8.1</td>\n",
       "      <td>1868.0</td>\n",
       "      <td>PG</td>\n",
       "    </tr>\n",
       "  </tbody>\n",
       "</table>\n",
       "<p>5 rows × 26 columns</p>\n",
       "</div>"
      ],
      "text/plain": [
       "     imdb_id  adult                     backdrop_path belongs_to_collection  \\\n",
       "0          0    NaN                               NaN                   NaN   \n",
       "1  tt0113026    0.0  /vMFs7nw6P0bIV1jDsQpxAieAVnH.jpg                   NaN   \n",
       "2  tt0113092    0.0                               NaN                   NaN   \n",
       "3  tt0116391    0.0                               NaN                   NaN   \n",
       "4  tt0118694    0.0  /n4GJFGzsc7NinI1VeGDXIcQjtU2.jpg                   NaN   \n",
       "\n",
       "       budget                                             genres  \\\n",
       "0         NaN                                                NaN   \n",
       "1  10000000.0  [{'id': 35, 'name': 'Comedy'}, {'id': 10402, '...   \n",
       "2         0.0           [{'id': 878, 'name': 'Science Fiction'}]   \n",
       "3         0.0  [{'id': 18, 'name': 'Drama'}, {'id': 28, 'name...   \n",
       "4    150000.0  [{'id': 18, 'name': 'Drama'}, {'id': 10749, 'n...   \n",
       "\n",
       "                               homepage        id original_language  \\\n",
       "0                                   NaN       NaN               NaN   \n",
       "1                                   NaN   62127.0                en   \n",
       "2                                   NaN  110977.0                en   \n",
       "3                                   NaN  442869.0                hi   \n",
       "4  http://www.wkw-inthemoodforlove.com/     843.0                cn   \n",
       "\n",
       "    original_title  ...     revenue  runtime  \\\n",
       "0              NaN  ...         NaN      NaN   \n",
       "1  The Fantasticks  ...         0.0     86.0   \n",
       "2    For the Cause  ...         0.0    100.0   \n",
       "3             Gang  ...         0.0    152.0   \n",
       "4             花樣年華  ...  12854953.0     99.0   \n",
       "\n",
       "                                    spoken_languages    status  \\\n",
       "0                                                NaN       NaN   \n",
       "1  [{'english_name': 'English', 'iso_639_1': 'en'...  Released   \n",
       "2  [{'english_name': 'English', 'iso_639_1': 'en'...  Released   \n",
       "3  [{'english_name': 'Hindi', 'iso_639_1': 'hi', ...  Released   \n",
       "4  [{'english_name': 'Cantonese', 'iso_639_1': 'c...  Released   \n",
       "\n",
       "                                             tagline                 title  \\\n",
       "0                                                NaN                   NaN   \n",
       "1      Try to remember the first time magic happened       The Fantasticks   \n",
       "2       The ultimate showdown on a forbidden planet.         For the Cause   \n",
       "3                                                NaN                  Gang   \n",
       "4  Feel the heat, keep the feeling burning, let t...  In the Mood for Love   \n",
       "\n",
       "   video  vote_average vote_count certification  \n",
       "0    NaN           NaN        NaN           NaN  \n",
       "1    0.0           5.4       21.0           NaN  \n",
       "2    0.0           4.4        7.0           NaN  \n",
       "3    0.0           0.0        0.0           NaN  \n",
       "4    0.0           8.1     1868.0            PG  \n",
       "\n",
       "[5 rows x 26 columns]"
      ]
     },
     "execution_count": 157,
     "metadata": {},
     "output_type": "execute_result"
    }
   ],
   "source": [
    "## Use list comprehension to load in all files into 1 dataframe\n",
    "df = pd.concat([pd.read_csv(f, lineterminator = '\\n') for f in file_list])\n",
    "df.head()"
   ]
  },
  {
   "cell_type": "code",
   "execution_count": 158,
   "id": "ccafd237",
   "metadata": {},
   "outputs": [
    {
     "name": "stdout",
     "output_type": "stream",
     "text": [
      "<class 'pandas.core.frame.DataFrame'>\n",
      "Int64Index: 60130 entries, 1 to 3532\n",
      "Data columns (total 26 columns):\n",
      " #   Column                 Non-Null Count  Dtype  \n",
      "---  ------                 --------------  -----  \n",
      " 0   imdb_id                60130 non-null  object \n",
      " 1   adult                  60130 non-null  float64\n",
      " 2   backdrop_path          36994 non-null  object \n",
      " 3   belongs_to_collection  3738 non-null   object \n",
      " 4   budget                 60130 non-null  float64\n",
      " 5   genres                 60130 non-null  object \n",
      " 6   homepage               14776 non-null  object \n",
      " 7   id                     60130 non-null  float64\n",
      " 8   original_language      60130 non-null  object \n",
      " 9   original_title         60130 non-null  object \n",
      " 10  overview               58761 non-null  object \n",
      " 11  popularity             60130 non-null  float64\n",
      " 12  poster_path            54382 non-null  object \n",
      " 13  production_companies   60130 non-null  object \n",
      " 14  production_countries   60130 non-null  object \n",
      " 15  release_date           59078 non-null  object \n",
      " 16  revenue                60130 non-null  float64\n",
      " 17  runtime                59298 non-null  float64\n",
      " 18  spoken_languages       60130 non-null  object \n",
      " 19  status                 60130 non-null  object \n",
      " 20  tagline                22079 non-null  object \n",
      " 21  title                  60130 non-null  object \n",
      " 22  video                  60130 non-null  float64\n",
      " 23  vote_average           60130 non-null  float64\n",
      " 24  vote_count             60130 non-null  float64\n",
      " 25  certification          14624 non-null  object \n",
      "dtypes: float64(9), object(17)\n",
      "memory usage: 12.4+ MB\n"
     ]
    },
    {
     "data": {
      "text/html": [
       "<div>\n",
       "<style scoped>\n",
       "    .dataframe tbody tr th:only-of-type {\n",
       "        vertical-align: middle;\n",
       "    }\n",
       "\n",
       "    .dataframe tbody tr th {\n",
       "        vertical-align: top;\n",
       "    }\n",
       "\n",
       "    .dataframe thead th {\n",
       "        text-align: right;\n",
       "    }\n",
       "</style>\n",
       "<table border=\"1\" class=\"dataframe\">\n",
       "  <thead>\n",
       "    <tr style=\"text-align: right;\">\n",
       "      <th></th>\n",
       "      <th>imdb_id</th>\n",
       "      <th>adult</th>\n",
       "      <th>backdrop_path</th>\n",
       "      <th>belongs_to_collection</th>\n",
       "      <th>budget</th>\n",
       "      <th>genres</th>\n",
       "      <th>homepage</th>\n",
       "      <th>id</th>\n",
       "      <th>original_language</th>\n",
       "      <th>original_title</th>\n",
       "      <th>...</th>\n",
       "      <th>revenue</th>\n",
       "      <th>runtime</th>\n",
       "      <th>spoken_languages</th>\n",
       "      <th>status</th>\n",
       "      <th>tagline</th>\n",
       "      <th>title</th>\n",
       "      <th>video</th>\n",
       "      <th>vote_average</th>\n",
       "      <th>vote_count</th>\n",
       "      <th>certification</th>\n",
       "    </tr>\n",
       "  </thead>\n",
       "  <tbody>\n",
       "    <tr>\n",
       "      <th>1</th>\n",
       "      <td>tt0113026</td>\n",
       "      <td>0.0</td>\n",
       "      <td>/vMFs7nw6P0bIV1jDsQpxAieAVnH.jpg</td>\n",
       "      <td>NaN</td>\n",
       "      <td>10000000.0</td>\n",
       "      <td>[{'id': 35, 'name': 'Comedy'}, {'id': 10402, '...</td>\n",
       "      <td>NaN</td>\n",
       "      <td>62127.0</td>\n",
       "      <td>en</td>\n",
       "      <td>The Fantasticks</td>\n",
       "      <td>...</td>\n",
       "      <td>0.0</td>\n",
       "      <td>86.0</td>\n",
       "      <td>[{'english_name': 'English', 'iso_639_1': 'en'...</td>\n",
       "      <td>Released</td>\n",
       "      <td>Try to remember the first time magic happened</td>\n",
       "      <td>The Fantasticks</td>\n",
       "      <td>0.0</td>\n",
       "      <td>5.4</td>\n",
       "      <td>21.0</td>\n",
       "      <td>NaN</td>\n",
       "    </tr>\n",
       "    <tr>\n",
       "      <th>2</th>\n",
       "      <td>tt0113092</td>\n",
       "      <td>0.0</td>\n",
       "      <td>NaN</td>\n",
       "      <td>NaN</td>\n",
       "      <td>0.0</td>\n",
       "      <td>[{'id': 878, 'name': 'Science Fiction'}]</td>\n",
       "      <td>NaN</td>\n",
       "      <td>110977.0</td>\n",
       "      <td>en</td>\n",
       "      <td>For the Cause</td>\n",
       "      <td>...</td>\n",
       "      <td>0.0</td>\n",
       "      <td>100.0</td>\n",
       "      <td>[{'english_name': 'English', 'iso_639_1': 'en'...</td>\n",
       "      <td>Released</td>\n",
       "      <td>The ultimate showdown on a forbidden planet.</td>\n",
       "      <td>For the Cause</td>\n",
       "      <td>0.0</td>\n",
       "      <td>4.4</td>\n",
       "      <td>7.0</td>\n",
       "      <td>NaN</td>\n",
       "    </tr>\n",
       "    <tr>\n",
       "      <th>3</th>\n",
       "      <td>tt0116391</td>\n",
       "      <td>0.0</td>\n",
       "      <td>NaN</td>\n",
       "      <td>NaN</td>\n",
       "      <td>0.0</td>\n",
       "      <td>[{'id': 18, 'name': 'Drama'}, {'id': 28, 'name...</td>\n",
       "      <td>NaN</td>\n",
       "      <td>442869.0</td>\n",
       "      <td>hi</td>\n",
       "      <td>Gang</td>\n",
       "      <td>...</td>\n",
       "      <td>0.0</td>\n",
       "      <td>152.0</td>\n",
       "      <td>[{'english_name': 'Hindi', 'iso_639_1': 'hi', ...</td>\n",
       "      <td>Released</td>\n",
       "      <td>NaN</td>\n",
       "      <td>Gang</td>\n",
       "      <td>0.0</td>\n",
       "      <td>0.0</td>\n",
       "      <td>0.0</td>\n",
       "      <td>NaN</td>\n",
       "    </tr>\n",
       "    <tr>\n",
       "      <th>4</th>\n",
       "      <td>tt0118694</td>\n",
       "      <td>0.0</td>\n",
       "      <td>/n4GJFGzsc7NinI1VeGDXIcQjtU2.jpg</td>\n",
       "      <td>NaN</td>\n",
       "      <td>150000.0</td>\n",
       "      <td>[{'id': 18, 'name': 'Drama'}, {'id': 10749, 'n...</td>\n",
       "      <td>http://www.wkw-inthemoodforlove.com/</td>\n",
       "      <td>843.0</td>\n",
       "      <td>cn</td>\n",
       "      <td>花樣年華</td>\n",
       "      <td>...</td>\n",
       "      <td>12854953.0</td>\n",
       "      <td>99.0</td>\n",
       "      <td>[{'english_name': 'Cantonese', 'iso_639_1': 'c...</td>\n",
       "      <td>Released</td>\n",
       "      <td>Feel the heat, keep the feeling burning, let t...</td>\n",
       "      <td>In the Mood for Love</td>\n",
       "      <td>0.0</td>\n",
       "      <td>8.1</td>\n",
       "      <td>1868.0</td>\n",
       "      <td>PG</td>\n",
       "    </tr>\n",
       "    <tr>\n",
       "      <th>5</th>\n",
       "      <td>tt0118852</td>\n",
       "      <td>0.0</td>\n",
       "      <td>NaN</td>\n",
       "      <td>NaN</td>\n",
       "      <td>0.0</td>\n",
       "      <td>[{'id': 18, 'name': 'Drama'}]</td>\n",
       "      <td>NaN</td>\n",
       "      <td>49511.0</td>\n",
       "      <td>en</td>\n",
       "      <td>Chinese Coffee</td>\n",
       "      <td>...</td>\n",
       "      <td>0.0</td>\n",
       "      <td>99.0</td>\n",
       "      <td>[{'english_name': 'English', 'iso_639_1': 'en'...</td>\n",
       "      <td>Released</td>\n",
       "      <td>There's a fine line between friendship and bet...</td>\n",
       "      <td>Chinese Coffee</td>\n",
       "      <td>0.0</td>\n",
       "      <td>6.9</td>\n",
       "      <td>46.0</td>\n",
       "      <td>R</td>\n",
       "    </tr>\n",
       "  </tbody>\n",
       "</table>\n",
       "<p>5 rows × 26 columns</p>\n",
       "</div>"
      ],
      "text/plain": [
       "     imdb_id  adult                     backdrop_path belongs_to_collection  \\\n",
       "1  tt0113026    0.0  /vMFs7nw6P0bIV1jDsQpxAieAVnH.jpg                   NaN   \n",
       "2  tt0113092    0.0                               NaN                   NaN   \n",
       "3  tt0116391    0.0                               NaN                   NaN   \n",
       "4  tt0118694    0.0  /n4GJFGzsc7NinI1VeGDXIcQjtU2.jpg                   NaN   \n",
       "5  tt0118852    0.0                               NaN                   NaN   \n",
       "\n",
       "       budget                                             genres  \\\n",
       "1  10000000.0  [{'id': 35, 'name': 'Comedy'}, {'id': 10402, '...   \n",
       "2         0.0           [{'id': 878, 'name': 'Science Fiction'}]   \n",
       "3         0.0  [{'id': 18, 'name': 'Drama'}, {'id': 28, 'name...   \n",
       "4    150000.0  [{'id': 18, 'name': 'Drama'}, {'id': 10749, 'n...   \n",
       "5         0.0                      [{'id': 18, 'name': 'Drama'}]   \n",
       "\n",
       "                               homepage        id original_language  \\\n",
       "1                                   NaN   62127.0                en   \n",
       "2                                   NaN  110977.0                en   \n",
       "3                                   NaN  442869.0                hi   \n",
       "4  http://www.wkw-inthemoodforlove.com/     843.0                cn   \n",
       "5                                   NaN   49511.0                en   \n",
       "\n",
       "    original_title  ...     revenue  runtime  \\\n",
       "1  The Fantasticks  ...         0.0     86.0   \n",
       "2    For the Cause  ...         0.0    100.0   \n",
       "3             Gang  ...         0.0    152.0   \n",
       "4             花樣年華  ...  12854953.0     99.0   \n",
       "5   Chinese Coffee  ...         0.0     99.0   \n",
       "\n",
       "                                    spoken_languages    status  \\\n",
       "1  [{'english_name': 'English', 'iso_639_1': 'en'...  Released   \n",
       "2  [{'english_name': 'English', 'iso_639_1': 'en'...  Released   \n",
       "3  [{'english_name': 'Hindi', 'iso_639_1': 'hi', ...  Released   \n",
       "4  [{'english_name': 'Cantonese', 'iso_639_1': 'c...  Released   \n",
       "5  [{'english_name': 'English', 'iso_639_1': 'en'...  Released   \n",
       "\n",
       "                                             tagline                 title  \\\n",
       "1      Try to remember the first time magic happened       The Fantasticks   \n",
       "2       The ultimate showdown on a forbidden planet.         For the Cause   \n",
       "3                                                NaN                  Gang   \n",
       "4  Feel the heat, keep the feeling burning, let t...  In the Mood for Love   \n",
       "5  There's a fine line between friendship and bet...        Chinese Coffee   \n",
       "\n",
       "   video  vote_average vote_count certification  \n",
       "1    0.0           5.4       21.0           NaN  \n",
       "2    0.0           4.4        7.0           NaN  \n",
       "3    0.0           0.0        0.0           NaN  \n",
       "4    0.0           8.1     1868.0            PG  \n",
       "5    0.0           6.9       46.0             R  \n",
       "\n",
       "[5 rows x 26 columns]"
      ]
     },
     "execution_count": 158,
     "metadata": {},
     "output_type": "execute_result"
    }
   ],
   "source": [
    "# remove ids that are 0 and then reset index\n",
    "df = df.loc[df['imdb_id']!= '0']\n",
    "df.info()\n",
    "df.head()"
   ]
  },
  {
   "cell_type": "code",
   "execution_count": 159,
   "id": "03921673",
   "metadata": {},
   "outputs": [],
   "source": [
    "# reset index and drop old index\n",
    "df = df.reset_index(drop = True)"
   ]
  },
  {
   "cell_type": "markdown",
   "id": "bdf14d0e",
   "metadata": {},
   "source": [
    "## 1st Hypothesis Test"
   ]
  },
  {
   "cell_type": "markdown",
   "id": "afdc2ea9",
   "metadata": {},
   "source": [
    "**Does the MPAA rating of a movie affect how much revenue the movie generates?**\n",
    "\n",
    "**Null Hypotheses:** \n",
    "* The certification of a move does not affect the revenue the movie generates.\n",
    "\n",
    "\n",
    "**Alternate Hypotheses:** \n",
    "* The certification creates a statistical difference in the revenue a movie generates\n",
    "\n",
    "\n",
    "**Test:** \n",
    "* ANOVA (multiple groups, numeric feature)\n",
    "\n",
    "**Assumptions:**\n",
    "* Normality\n",
    "* Equal variance\n",
    "* No significant outliers\n"
   ]
  },
  {
   "cell_type": "markdown",
   "id": "0402b208",
   "metadata": {},
   "source": [
    "**Features Editing**"
   ]
  },
  {
   "cell_type": "code",
   "execution_count": 160,
   "id": "dea63c25",
   "metadata": {},
   "outputs": [
    {
     "data": {
      "text/plain": [
       "R                                  6097\n",
       "NR                                 3261\n",
       "PG-13                              3224\n",
       "PG                                 1432\n",
       "G                                   442\n",
       "NC-17                               156\n",
       "Unrated                               5\n",
       "-                                     1\n",
       "UR                                    1\n",
       "Not Rated                             1\n",
       "ScreamFest Horror Film Festival       1\n",
       "R                                     1\n",
       "PG-13                                 1\n",
       "10                                    1\n",
       "Name: certification, dtype: int64"
      ]
     },
     "execution_count": 160,
     "metadata": {},
     "output_type": "execute_result"
    }
   ],
   "source": [
    "df['certification'].value_counts()"
   ]
  },
  {
   "cell_type": "code",
   "execution_count": 161,
   "id": "4f0c5052",
   "metadata": {},
   "outputs": [
    {
     "data": {
      "text/plain": [
       "R                                  6098\n",
       "NR                                 3268\n",
       "PG-13                              3225\n",
       "PG                                 1432\n",
       "G                                   442\n",
       "NC-17                               156\n",
       "-                                     1\n",
       "ScreamFest Horror Film Festival       1\n",
       "10                                    1\n",
       "Name: certification, dtype: int64"
      ]
     },
     "execution_count": 161,
     "metadata": {},
     "output_type": "execute_result"
    }
   ],
   "source": [
    "# Features editing for certification column\n",
    "cert_map = {'G': 'G',\n",
    "           'NC-17': 'NC-17', \n",
    "           'NR': 'NR',\n",
    "           'PG': 'PG', \n",
    "           'PG-13 ': 'PG-13',\n",
    "           'PG-13': 'PG-13',\n",
    "           'R ': 'R',\n",
    "           'R': 'R',\n",
    "           'Unrated': 'NR',\n",
    "           'UR': 'NR',\n",
    "           'Not Rated': 'NR'}\n",
    "\n",
    "df['certification'] = df['certification'].replace(cert_map)\n",
    "df['certification'].value_counts()"
   ]
  },
  {
   "cell_type": "code",
   "execution_count": 162,
   "id": "16592d8f",
   "metadata": {},
   "outputs": [
    {
     "data": {
      "text/plain": [
       "R        6098\n",
       "NR       3268\n",
       "PG-13    3225\n",
       "PG       1432\n",
       "G         442\n",
       "NC-17     156\n",
       "Name: certification, dtype: int64"
      ]
     },
     "execution_count": 162,
     "metadata": {},
     "output_type": "execute_result"
    }
   ],
   "source": [
    "# Dropping three columns that don't have proper certification\n",
    "df.drop(df[df['certification'] == '-'].index, inplace = True)\n",
    "df.drop(df[df['certification'] == 'ScreamFest Horror Film Festival'].index, inplace = True)\n",
    "df.drop(df[df['certification'] == '10'].index, inplace = True)\n",
    "df['certification'].value_counts()"
   ]
  },
  {
   "cell_type": "code",
   "execution_count": 163,
   "id": "bfff5976",
   "metadata": {},
   "outputs": [
    {
     "data": {
      "text/plain": [
       "False    52690\n",
       "True      7437\n",
       "Name: revenue, dtype: int64"
      ]
     },
     "execution_count": 163,
     "metadata": {},
     "output_type": "execute_result"
    }
   ],
   "source": [
    "# Filter movies with revenue\n",
    "filter_financial = (df['revenue'] >0)\n",
    "filter_financial.value_counts()"
   ]
  },
  {
   "cell_type": "code",
   "execution_count": 164,
   "id": "62d6f4f5",
   "metadata": {},
   "outputs": [],
   "source": [
    "explore_df = df[filter_financial].copy()"
   ]
  },
  {
   "cell_type": "code",
   "execution_count": 165,
   "id": "db702bad",
   "metadata": {},
   "outputs": [
    {
     "data": {
      "text/plain": [
       "certification\n",
       "G         127\n",
       "NC-17      22\n",
       "NR        271\n",
       "PG        630\n",
       "PG-13    1717\n",
       "R        2305\n",
       "Name: certification, dtype: int64"
      ]
     },
     "execution_count": 165,
     "metadata": {},
     "output_type": "execute_result"
    }
   ],
   "source": [
    "explore_df.groupby('certification')['certification'].count()"
   ]
  },
  {
   "cell_type": "markdown",
   "id": "0da4d15b",
   "metadata": {},
   "source": [
    "**Visualization**"
   ]
  },
  {
   "cell_type": "code",
   "execution_count": 166,
   "id": "263bee8e",
   "metadata": {},
   "outputs": [
    {
     "data": {
      "image/png": "[encoded data removed]",
      "text/plain": [
       "<Figure size 640x480 with 1 Axes>"
      ]
     },
     "metadata": {},
     "output_type": "display_data"
    }
   ],
   "source": [
    "sns.barplot(data = explore_df, x = 'certification', y = 'revenue');"
   ]
  },
  {
   "cell_type": "code",
   "execution_count": 167,
   "id": "1d1ffd67",
   "metadata": {},
   "outputs": [
    {
     "data": {
      "text/plain": [
       "2365"
      ]
     },
     "execution_count": 167,
     "metadata": {},
     "output_type": "execute_result"
    }
   ],
   "source": [
    "explore_df['certification'].isnull().sum()"
   ]
  },
  {
   "cell_type": "code",
   "execution_count": 168,
   "id": "6652f93c",
   "metadata": {},
   "outputs": [],
   "source": [
    "explore_df.dropna(subset = ['certification'], inplace=True)"
   ]
  },
  {
   "cell_type": "code",
   "execution_count": 169,
   "id": "6c38ba9f",
   "metadata": {},
   "outputs": [
    {
     "data": {
      "text/plain": [
       "0"
      ]
     },
     "execution_count": 169,
     "metadata": {},
     "output_type": "execute_result"
    }
   ],
   "source": [
    "explore_df['certification'].isnull().sum()"
   ]
  },
  {
   "cell_type": "code",
   "execution_count": 170,
   "id": "12f41499",
   "metadata": {},
   "outputs": [
    {
     "data": {
      "text/plain": [
       "dict_keys(['PG', 'R', 'G', 'PG-13', 'NR', 'NC-17'])"
      ]
     },
     "execution_count": 170,
     "metadata": {},
     "output_type": "execute_result"
    }
   ],
   "source": [
    "## Create groups dictionary. \n",
    "groups = {}\n",
    "\n",
    "## Loop through all unique categories\n",
    "for i in explore_df['certification'].unique():\n",
    "    ## Get series for group and rename\n",
    "    data = explore_df.loc[explore_df['certification']==i,'revenue'].copy()\n",
    "    \n",
    "    # save into the dictionary\n",
    "    groups[i] = data\n",
    "groups.keys()"
   ]
  },
  {
   "cell_type": "markdown",
   "id": "a8921580",
   "metadata": {},
   "source": [
    "**Normality**"
   ]
  },
  {
   "cell_type": "code",
   "execution_count": 171,
   "id": "b8fa80ec",
   "metadata": {},
   "outputs": [
    {
     "data": {
      "text/html": [
       "<div>\n",
       "<style scoped>\n",
       "    .dataframe tbody tr th:only-of-type {\n",
       "        vertical-align: middle;\n",
       "    }\n",
       "\n",
       "    .dataframe tbody tr th {\n",
       "        vertical-align: top;\n",
       "    }\n",
       "\n",
       "    .dataframe thead th {\n",
       "        text-align: right;\n",
       "    }\n",
       "</style>\n",
       "<table border=\"1\" class=\"dataframe\">\n",
       "  <thead>\n",
       "    <tr style=\"text-align: right;\">\n",
       "      <th></th>\n",
       "      <th>n</th>\n",
       "      <th>p</th>\n",
       "      <th>test stat</th>\n",
       "    </tr>\n",
       "  </thead>\n",
       "  <tbody>\n",
       "    <tr>\n",
       "      <th>PG</th>\n",
       "      <td>630.0</td>\n",
       "      <td>4.886246e-81</td>\n",
       "      <td>369.845936</td>\n",
       "    </tr>\n",
       "    <tr>\n",
       "      <th>R</th>\n",
       "      <td>2305.0</td>\n",
       "      <td>0.000000e+00</td>\n",
       "      <td>2081.603857</td>\n",
       "    </tr>\n",
       "    <tr>\n",
       "      <th>G</th>\n",
       "      <td>127.0</td>\n",
       "      <td>3.051788e-22</td>\n",
       "      <td>99.082289</td>\n",
       "    </tr>\n",
       "    <tr>\n",
       "      <th>PG-13</th>\n",
       "      <td>1717.0</td>\n",
       "      <td>0.000000e+00</td>\n",
       "      <td>1531.897339</td>\n",
       "    </tr>\n",
       "    <tr>\n",
       "      <th>NR</th>\n",
       "      <td>271.0</td>\n",
       "      <td>6.586489e-73</td>\n",
       "      <td>332.407383</td>\n",
       "    </tr>\n",
       "    <tr>\n",
       "      <th>NC-17</th>\n",
       "      <td>22.0</td>\n",
       "      <td>5.564241e-08</td>\n",
       "      <td>33.408640</td>\n",
       "    </tr>\n",
       "  </tbody>\n",
       "</table>\n",
       "</div>"
      ],
      "text/plain": [
       "            n             p    test stat\n",
       "PG      630.0  4.886246e-81   369.845936\n",
       "R      2305.0  0.000000e+00  2081.603857\n",
       "G       127.0  3.051788e-22    99.082289\n",
       "PG-13  1717.0  0.000000e+00  1531.897339\n",
       "NR      271.0  6.586489e-73   332.407383\n",
       "NC-17    22.0  5.564241e-08    33.408640"
      ]
     },
     "execution_count": 171,
     "metadata": {},
     "output_type": "execute_result"
    }
   ],
   "source": [
    "## Running normal test on each group and confirming there are >20 in each group\n",
    "norm_results = {}\n",
    "for i, data in groups.items():\n",
    "    stat, p = stats.normaltest(data)\n",
    "    ## save the p val, test statistic, and the size of the group\n",
    "    norm_results[i] = {'n': len(data),\n",
    "                             'p':p,\n",
    "                             'test stat':stat,}\n",
    "## convert to a dataframe\n",
    "norm_results_df = pd.DataFrame(norm_results).T\n",
    "norm_results_df"
   ]
  },
  {
   "cell_type": "code",
   "execution_count": 172,
   "id": "1b4557e3",
   "metadata": {},
   "outputs": [
    {
     "data": {
      "text/html": [
       "<div>\n",
       "<style scoped>\n",
       "    .dataframe tbody tr th:only-of-type {\n",
       "        vertical-align: middle;\n",
       "    }\n",
       "\n",
       "    .dataframe tbody tr th {\n",
       "        vertical-align: top;\n",
       "    }\n",
       "\n",
       "    .dataframe thead th {\n",
       "        text-align: right;\n",
       "    }\n",
       "</style>\n",
       "<table border=\"1\" class=\"dataframe\">\n",
       "  <thead>\n",
       "    <tr style=\"text-align: right;\">\n",
       "      <th></th>\n",
       "      <th>n</th>\n",
       "      <th>p</th>\n",
       "      <th>test stat</th>\n",
       "      <th>sig</th>\n",
       "    </tr>\n",
       "  </thead>\n",
       "  <tbody>\n",
       "    <tr>\n",
       "      <th>PG</th>\n",
       "      <td>630.0</td>\n",
       "      <td>4.886246e-81</td>\n",
       "      <td>369.845936</td>\n",
       "      <td>True</td>\n",
       "    </tr>\n",
       "    <tr>\n",
       "      <th>R</th>\n",
       "      <td>2305.0</td>\n",
       "      <td>0.000000e+00</td>\n",
       "      <td>2081.603857</td>\n",
       "      <td>True</td>\n",
       "    </tr>\n",
       "    <tr>\n",
       "      <th>G</th>\n",
       "      <td>127.0</td>\n",
       "      <td>3.051788e-22</td>\n",
       "      <td>99.082289</td>\n",
       "      <td>True</td>\n",
       "    </tr>\n",
       "    <tr>\n",
       "      <th>PG-13</th>\n",
       "      <td>1717.0</td>\n",
       "      <td>0.000000e+00</td>\n",
       "      <td>1531.897339</td>\n",
       "      <td>True</td>\n",
       "    </tr>\n",
       "    <tr>\n",
       "      <th>NR</th>\n",
       "      <td>271.0</td>\n",
       "      <td>6.586489e-73</td>\n",
       "      <td>332.407383</td>\n",
       "      <td>True</td>\n",
       "    </tr>\n",
       "    <tr>\n",
       "      <th>NC-17</th>\n",
       "      <td>22.0</td>\n",
       "      <td>5.564241e-08</td>\n",
       "      <td>33.408640</td>\n",
       "      <td>True</td>\n",
       "    </tr>\n",
       "  </tbody>\n",
       "</table>\n",
       "</div>"
      ],
      "text/plain": [
       "            n             p    test stat   sig\n",
       "PG      630.0  4.886246e-81   369.845936  True\n",
       "R      2305.0  0.000000e+00  2081.603857  True\n",
       "G       127.0  3.051788e-22    99.082289  True\n",
       "PG-13  1717.0  0.000000e+00  1531.897339  True\n",
       "NR      271.0  6.586489e-73   332.407383  True\n",
       "NC-17    22.0  5.564241e-08    33.408640  True"
      ]
     },
     "execution_count": 172,
     "metadata": {},
     "output_type": "execute_result"
    }
   ],
   "source": [
    "### checking sig with pandas \n",
    "norm_results_df['sig'] = norm_results_df['p'] < .05 \n",
    "norm_results_df"
   ]
  },
  {
   "cell_type": "markdown",
   "id": "f7f9564a",
   "metadata": {},
   "source": [
    "**Results:**\n",
    "\n",
    "* P values are less than .05 so each group does not have normal distribution but the sample sizes are >20 for each group. "
   ]
  },
  {
   "cell_type": "markdown",
   "id": "c5fce536",
   "metadata": {},
   "source": [
    "**Equal Variance**"
   ]
  },
  {
   "cell_type": "code",
   "execution_count": 173,
   "id": "fd69f9dc",
   "metadata": {},
   "outputs": [
    {
     "data": {
      "text/plain": [
       "LeveneResult(statistic=67.30318802322853, pvalue=2.6836090315468002e-68)"
      ]
     },
     "execution_count": 173,
     "metadata": {},
     "output_type": "execute_result"
    }
   ],
   "source": [
    "stats.levene(*groups.values())"
   ]
  },
  {
   "cell_type": "markdown",
   "id": "cd638139",
   "metadata": {},
   "source": [
    "**Results:**\n",
    "\n",
    "* Fails equal variance with p value less than .05. Will use kruskal wallis test."
   ]
  },
  {
   "cell_type": "markdown",
   "id": "baebc24b",
   "metadata": {},
   "source": [
    "**Kruskal Wallis Test**"
   ]
  },
  {
   "cell_type": "code",
   "execution_count": 174,
   "id": "bb8a1ca7",
   "metadata": {},
   "outputs": [
    {
     "data": {
      "text/plain": [
       "KruskalResult(statistic=752.383392562243, pvalue=2.307970727534749e-160)"
      ]
     },
     "execution_count": 174,
     "metadata": {},
     "output_type": "execute_result"
    }
   ],
   "source": [
    "kruskal_result = stats.kruskal(*groups.values())\n",
    "kruskal_result"
   ]
  },
  {
   "cell_type": "markdown",
   "id": "d459c7b5",
   "metadata": {},
   "source": [
    "**Results:**\n",
    "\n",
    "* P value is less than .05 so there is a significant difference. \n",
    "\n",
    "* Using Tukeys multiple comparison test to see between which groups there is a statistically significant difference."
   ]
  },
  {
   "cell_type": "markdown",
   "id": "cfa0fb95",
   "metadata": {},
   "source": [
    "**Tukeys Comparison Test**"
   ]
  },
  {
   "cell_type": "code",
   "execution_count": 175,
   "id": "d7ca802f",
   "metadata": {},
   "outputs": [],
   "source": [
    "from statsmodels.stats.multicomp import pairwise_tukeyhsd\n",
    "## save the values as kg_lost and the labels to the Diet\n",
    "values = explore_df['revenue']\n",
    "labels = explore_df['certification']"
   ]
  },
  {
   "cell_type": "code",
   "execution_count": 176,
   "id": "b2ad857b",
   "metadata": {},
   "outputs": [
    {
     "data": {
      "text/html": [
       "<table class=\"simpletable\">\n",
       "<caption>Multiple Comparison of Means - Tukey HSD, FWER=0.05</caption>\n",
       "<tr>\n",
       "  <th>group1</th> <th>group2</th>    <th>meandiff</th>      <th>p-adj</th>      <th>lower</th>           <th>upper</th>     <th>reject</th>\n",
       "</tr>\n",
       "<tr>\n",
       "     <td>G</td>    <td>NC-17</td> <td>-113347745.4875</td>  <td>0.072</td> <td>-232258832.811</td>   <td>5563341.8361</td>   <td>False</td>\n",
       "</tr>\n",
       "<tr>\n",
       "     <td>G</td>     <td>NR</td>   <td>-99001827.0088</td>    <td>0.0</td>  <td>-154374749.7122</td> <td>-43628904.3054</td>  <td>True</td> \n",
       "</tr>\n",
       "<tr>\n",
       "     <td>G</td>     <td>PG</td>    <td>33983249.9815</td>  <td>0.3812</td> <td>-16102965.9551</td>   <td>84069465.9181</td>  <td>False</td>\n",
       "</tr>\n",
       "<tr>\n",
       "     <td>G</td>    <td>PG-13</td>  <td>15502943.4245</td>   <td>0.938</td> <td>-31848788.3946</td>   <td>62854675.2436</td>  <td>False</td>\n",
       "</tr>\n",
       "<tr>\n",
       "     <td>G</td>      <td>R</td>   <td>-78528011.5921</td>    <td>0.0</td>  <td>-125461936.8042</td> <td>-31594086.3799</td>  <td>True</td> \n",
       "</tr>\n",
       "<tr>\n",
       "   <td>NC-17</td>   <td>NR</td>    <td>14345918.4787</td>  <td>0.9992</td> <td>-99805218.4433</td>  <td>128497055.4007</td>  <td>False</td>\n",
       "</tr>\n",
       "<tr>\n",
       "   <td>NC-17</td>   <td>PG</td>    <td>147330995.469</td>  <td>0.0024</td>  <td>35648631.0656</td>  <td>259013359.8723</td>  <td>True</td> \n",
       "</tr>\n",
       "<tr>\n",
       "   <td>NC-17</td>  <td>PG-13</td>  <td>128850688.912</td>  <td>0.0115</td>  <td>18367622.3445</td>  <td>239333755.4794</td>  <td>True</td> \n",
       "</tr>\n",
       "<tr>\n",
       "   <td>NC-17</td>    <td>R</td>    <td>34819733.8954</td>  <td>0.9466</td> <td>-75484911.6446</td>  <td>145124379.4354</td>  <td>False</td>\n",
       "</tr>\n",
       "<tr>\n",
       "    <td>NR</td>     <td>PG</td>   <td>132985076.9903</td>    <td>0.0</td>   <td>95578334.2964</td>  <td>170391819.6842</td>  <td>True</td> \n",
       "</tr>\n",
       "<tr>\n",
       "    <td>NR</td>    <td>PG-13</td> <td>114504770.4333</td>    <td>0.0</td>   <td>80847351.0671</td>  <td>148162189.7994</td>  <td>True</td> \n",
       "</tr>\n",
       "<tr>\n",
       "    <td>NR</td>      <td>R</td>    <td>20473815.4167</td>  <td>0.4886</td> <td>-12593218.1355</td>   <td>53540848.9689</td>  <td>False</td>\n",
       "</tr>\n",
       "<tr>\n",
       "    <td>PG</td>    <td>PG-13</td>  <td>-18480306.557</td>  <td>0.2394</td> <td>-42465517.3444</td>   <td>5504904.2304</td>   <td>False</td>\n",
       "</tr>\n",
       "<tr>\n",
       "    <td>PG</td>      <td>R</td>   <td>-112511261.5736</td>   <td>0.0</td>  <td>-135660714.3979</td> <td>-89361808.7492</td>  <td>True</td> \n",
       "</tr>\n",
       "<tr>\n",
       "   <td>PG-13</td>    <td>R</td>   <td>-94030955.0165</td>    <td>0.0</td>  <td>-110446028.7444</td> <td>-77615881.2887</td>  <td>True</td> \n",
       "</tr>\n",
       "</table>"
      ],
      "text/plain": [
       "<class 'statsmodels.iolib.table.SimpleTable'>"
      ]
     },
     "execution_count": 176,
     "metadata": {},
     "output_type": "execute_result"
    }
   ],
   "source": [
    "## perform tukey's multiple comparison test and display the summary\n",
    "tukeys_results = pairwise_tukeyhsd(values,labels)\n",
    "tukeys_results.summary()\n"
   ]
  },
  {
   "cell_type": "markdown",
   "id": "68407264",
   "metadata": {},
   "source": [
    "**FINAL CONCLUSION:**\n",
    "\n",
    "* There are 8 significant results where reject = True above. \n",
    "\n",
    "* Between G and NR, G & R, NC-17 and PG, NC-17 and PG-13, NR and PG, NR and PG, NR & PG-13, PG & R, PG-13 and R.  \n",
    "\n",
    "* We can reject the null hypotheses in support of the alternate that there is a statistically significant difference in revenue based on certification/ratings. "
   ]
  },
  {
   "cell_type": "markdown",
   "id": "24711ee0",
   "metadata": {},
   "source": [
    "## 2nd Hypothesis Test"
   ]
  },
  {
   "cell_type": "markdown",
   "id": "91f07c17",
   "metadata": {},
   "source": [
    "**Do movies that are over 2.5 hours long earn more revenue than movies that are less than 2.5 hours?**\n",
    "\n",
    "**NULL:**\n",
    "\n",
    "* There is no significant difference in revenue between movies that are more than 2.5 hours long and those that are 1.5 hours long or less. \n",
    "\n",
    "**ALTERNATE:**\n",
    "\n",
    "* There is a statistically significant difference in revenue between movies that are more than 2.5 hours long and those that are 1.5 hours long or less.  \n",
    "\n",
    "**TEST:**\n",
    "\n",
    "* 2Ttest\n",
    "\n",
    "**ASSUMPTIONS:**\n",
    "\n",
    "* Normality\n",
    "* Equal Variance\n",
    "* No outliers"
   ]
  },
  {
   "cell_type": "code",
   "execution_count": 177,
   "id": "b3b8b6f5",
   "metadata": {},
   "outputs": [
    {
     "data": {
      "text/plain": [
       "False    52690\n",
       "True      7437\n",
       "Name: revenue, dtype: int64"
      ]
     },
     "execution_count": 177,
     "metadata": {},
     "output_type": "execute_result"
    }
   ],
   "source": [
    "# Filter movies with revenue\n",
    "filter_financial2 = (df['revenue'] >0)\n",
    "filter_financial2.value_counts()"
   ]
  },
  {
   "cell_type": "code",
   "execution_count": 178,
   "id": "654af44e",
   "metadata": {},
   "outputs": [],
   "source": [
    "run_df = df[filter_financial2].copy()"
   ]
  },
  {
   "cell_type": "code",
   "execution_count": 179,
   "id": "148ab76f",
   "metadata": {},
   "outputs": [
    {
     "data": {
      "text/plain": [
       "90.0     267\n",
       "100.0    238\n",
       "97.0     209\n",
       "105.0    208\n",
       "95.0     207\n",
       "        ... \n",
       "213.0      1\n",
       "366.0      1\n",
       "216.0      1\n",
       "191.0      1\n",
       "49.0       1\n",
       "Name: runtime, Length: 152, dtype: int64"
      ]
     },
     "execution_count": 179,
     "metadata": {},
     "output_type": "execute_result"
    }
   ],
   "source": [
    "# column in minutes\n",
    "run_df['runtime'].value_counts()\n"
   ]
  },
  {
   "cell_type": "code",
   "execution_count": 180,
   "id": "dc02da12",
   "metadata": {},
   "outputs": [
    {
     "data": {
      "text/plain": [
       "3"
      ]
     },
     "execution_count": 180,
     "metadata": {},
     "output_type": "execute_result"
    }
   ],
   "source": [
    "#Checking for missing values, dropping and verifying drop\n",
    "run_df['runtime'].isna().sum()"
   ]
  },
  {
   "cell_type": "code",
   "execution_count": 181,
   "id": "38643efb",
   "metadata": {},
   "outputs": [],
   "source": [
    "run_df.dropna(subset = ['runtime'], inplace=True)"
   ]
  },
  {
   "cell_type": "code",
   "execution_count": 182,
   "id": "233afce7",
   "metadata": {},
   "outputs": [
    {
     "data": {
      "text/plain": [
       "0"
      ]
     },
     "execution_count": 182,
     "metadata": {},
     "output_type": "execute_result"
    }
   ],
   "source": [
    "run_df['runtime'].isna().sum()"
   ]
  },
  {
   "cell_type": "markdown",
   "id": "dbf38399",
   "metadata": {},
   "source": [
    "**Separating groups**"
   ]
  },
  {
   "cell_type": "code",
   "execution_count": 183,
   "id": "14264762",
   "metadata": {},
   "outputs": [
    {
     "data": {
      "text/html": [
       "<div>\n",
       "<style scoped>\n",
       "    .dataframe tbody tr th:only-of-type {\n",
       "        vertical-align: middle;\n",
       "    }\n",
       "\n",
       "    .dataframe tbody tr th {\n",
       "        vertical-align: top;\n",
       "    }\n",
       "\n",
       "    .dataframe thead th {\n",
       "        text-align: right;\n",
       "    }\n",
       "</style>\n",
       "<table border=\"1\" class=\"dataframe\">\n",
       "  <thead>\n",
       "    <tr style=\"text-align: right;\">\n",
       "      <th></th>\n",
       "      <th>imdb_id</th>\n",
       "      <th>adult</th>\n",
       "      <th>backdrop_path</th>\n",
       "      <th>belongs_to_collection</th>\n",
       "      <th>budget</th>\n",
       "      <th>genres</th>\n",
       "      <th>homepage</th>\n",
       "      <th>id</th>\n",
       "      <th>original_language</th>\n",
       "      <th>original_title</th>\n",
       "      <th>...</th>\n",
       "      <th>runtime</th>\n",
       "      <th>spoken_languages</th>\n",
       "      <th>status</th>\n",
       "      <th>tagline</th>\n",
       "      <th>title</th>\n",
       "      <th>video</th>\n",
       "      <th>vote_average</th>\n",
       "      <th>vote_count</th>\n",
       "      <th>certification</th>\n",
       "      <th>long_runtime</th>\n",
       "    </tr>\n",
       "  </thead>\n",
       "  <tbody>\n",
       "    <tr>\n",
       "      <th>3</th>\n",
       "      <td>tt0118694</td>\n",
       "      <td>0.0</td>\n",
       "      <td>/n4GJFGzsc7NinI1VeGDXIcQjtU2.jpg</td>\n",
       "      <td>NaN</td>\n",
       "      <td>150000.0</td>\n",
       "      <td>[{'id': 18, 'name': 'Drama'}, {'id': 10749, 'n...</td>\n",
       "      <td>http://www.wkw-inthemoodforlove.com/</td>\n",
       "      <td>843.0</td>\n",
       "      <td>cn</td>\n",
       "      <td>花樣年華</td>\n",
       "      <td>...</td>\n",
       "      <td>99.0</td>\n",
       "      <td>[{'english_name': 'Cantonese', 'iso_639_1': 'c...</td>\n",
       "      <td>Released</td>\n",
       "      <td>Feel the heat, keep the feeling burning, let t...</td>\n",
       "      <td>In the Mood for Love</td>\n",
       "      <td>0.0</td>\n",
       "      <td>8.1</td>\n",
       "      <td>1868.0</td>\n",
       "      <td>PG</td>\n",
       "      <td>False</td>\n",
       "    </tr>\n",
       "    <tr>\n",
       "      <th>9</th>\n",
       "      <td>tt0120263</td>\n",
       "      <td>0.0</td>\n",
       "      <td>/ynXVuylP8upazjz8lrqb1PEMkdR.jpg</td>\n",
       "      <td>NaN</td>\n",
       "      <td>0.0</td>\n",
       "      <td>[{'id': 18, 'name': 'Drama'}, {'id': 35, 'name...</td>\n",
       "      <td>NaN</td>\n",
       "      <td>34070.0</td>\n",
       "      <td>sv</td>\n",
       "      <td>Sånger från andra våningen</td>\n",
       "      <td>...</td>\n",
       "      <td>98.0</td>\n",
       "      <td>[{'english_name': 'Russian', 'iso_639_1': 'ru'...</td>\n",
       "      <td>Released</td>\n",
       "      <td>NaN</td>\n",
       "      <td>Songs from the Second Floor</td>\n",
       "      <td>0.0</td>\n",
       "      <td>7.2</td>\n",
       "      <td>205.0</td>\n",
       "      <td>NaN</td>\n",
       "      <td>False</td>\n",
       "    </tr>\n",
       "    <tr>\n",
       "      <th>10</th>\n",
       "      <td>tt0120467</td>\n",
       "      <td>0.0</td>\n",
       "      <td>NaN</td>\n",
       "      <td>NaN</td>\n",
       "      <td>120000.0</td>\n",
       "      <td>[{'id': 18, 'name': 'Drama'}, {'id': 27, 'name...</td>\n",
       "      <td>NaN</td>\n",
       "      <td>19085.0</td>\n",
       "      <td>en</td>\n",
       "      <td>Vulgar</td>\n",
       "      <td>...</td>\n",
       "      <td>87.0</td>\n",
       "      <td>[{'english_name': 'English', 'iso_639_1': 'en'...</td>\n",
       "      <td>Released</td>\n",
       "      <td>Everyone loves a clown... some more than others.</td>\n",
       "      <td>Vulgar</td>\n",
       "      <td>0.0</td>\n",
       "      <td>5.5</td>\n",
       "      <td>40.0</td>\n",
       "      <td>R</td>\n",
       "      <td>False</td>\n",
       "    </tr>\n",
       "    <tr>\n",
       "      <th>12</th>\n",
       "      <td>tt0120630</td>\n",
       "      <td>0.0</td>\n",
       "      <td>/t7aJ7hqsMLEoqBJk7yAXxcAVvcz.jpg</td>\n",
       "      <td>{'id': 718551, 'name': 'Chicken Run Collection...</td>\n",
       "      <td>45000000.0</td>\n",
       "      <td>[{'id': 16, 'name': 'Animation'}, {'id': 35, '...</td>\n",
       "      <td>NaN</td>\n",
       "      <td>7443.0</td>\n",
       "      <td>en</td>\n",
       "      <td>Chicken Run</td>\n",
       "      <td>...</td>\n",
       "      <td>84.0</td>\n",
       "      <td>[{'english_name': 'English', 'iso_639_1': 'en'...</td>\n",
       "      <td>Released</td>\n",
       "      <td>This ain't no chick flick. It's poultry in mot...</td>\n",
       "      <td>Chicken Run</td>\n",
       "      <td>0.0</td>\n",
       "      <td>6.7</td>\n",
       "      <td>3997.0</td>\n",
       "      <td>G</td>\n",
       "      <td>False</td>\n",
       "    </tr>\n",
       "    <tr>\n",
       "      <th>15</th>\n",
       "      <td>tt0120753</td>\n",
       "      <td>0.0</td>\n",
       "      <td>/cXXxi0j9sXFt7LbeajuFoKFqWMu.jpg</td>\n",
       "      <td>NaN</td>\n",
       "      <td>8000000.0</td>\n",
       "      <td>[{'id': 18, 'name': 'Drama'}, {'id': 53, 'name...</td>\n",
       "      <td>NaN</td>\n",
       "      <td>318.0</td>\n",
       "      <td>en</td>\n",
       "      <td>The Million Dollar Hotel</td>\n",
       "      <td>...</td>\n",
       "      <td>122.0</td>\n",
       "      <td>[{'english_name': 'English', 'iso_639_1': 'en'...</td>\n",
       "      <td>Released</td>\n",
       "      <td>Everyone has something to hide.</td>\n",
       "      <td>The Million Dollar Hotel</td>\n",
       "      <td>0.0</td>\n",
       "      <td>5.9</td>\n",
       "      <td>247.0</td>\n",
       "      <td>R</td>\n",
       "      <td>False</td>\n",
       "    </tr>\n",
       "  </tbody>\n",
       "</table>\n",
       "<p>5 rows × 27 columns</p>\n",
       "</div>"
      ],
      "text/plain": [
       "      imdb_id  adult                     backdrop_path  \\\n",
       "3   tt0118694    0.0  /n4GJFGzsc7NinI1VeGDXIcQjtU2.jpg   \n",
       "9   tt0120263    0.0  /ynXVuylP8upazjz8lrqb1PEMkdR.jpg   \n",
       "10  tt0120467    0.0                               NaN   \n",
       "12  tt0120630    0.0  /t7aJ7hqsMLEoqBJk7yAXxcAVvcz.jpg   \n",
       "15  tt0120753    0.0  /cXXxi0j9sXFt7LbeajuFoKFqWMu.jpg   \n",
       "\n",
       "                                belongs_to_collection      budget  \\\n",
       "3                                                 NaN    150000.0   \n",
       "9                                                 NaN         0.0   \n",
       "10                                                NaN    120000.0   \n",
       "12  {'id': 718551, 'name': 'Chicken Run Collection...  45000000.0   \n",
       "15                                                NaN   8000000.0   \n",
       "\n",
       "                                               genres  \\\n",
       "3   [{'id': 18, 'name': 'Drama'}, {'id': 10749, 'n...   \n",
       "9   [{'id': 18, 'name': 'Drama'}, {'id': 35, 'name...   \n",
       "10  [{'id': 18, 'name': 'Drama'}, {'id': 27, 'name...   \n",
       "12  [{'id': 16, 'name': 'Animation'}, {'id': 35, '...   \n",
       "15  [{'id': 18, 'name': 'Drama'}, {'id': 53, 'name...   \n",
       "\n",
       "                                homepage       id original_language  \\\n",
       "3   http://www.wkw-inthemoodforlove.com/    843.0                cn   \n",
       "9                                    NaN  34070.0                sv   \n",
       "10                                   NaN  19085.0                en   \n",
       "12                                   NaN   7443.0                en   \n",
       "15                                   NaN    318.0                en   \n",
       "\n",
       "                original_title  ... runtime  \\\n",
       "3                         花樣年華  ...    99.0   \n",
       "9   Sånger från andra våningen  ...    98.0   \n",
       "10                      Vulgar  ...    87.0   \n",
       "12                 Chicken Run  ...    84.0   \n",
       "15    The Million Dollar Hotel  ...   122.0   \n",
       "\n",
       "                                     spoken_languages    status  \\\n",
       "3   [{'english_name': 'Cantonese', 'iso_639_1': 'c...  Released   \n",
       "9   [{'english_name': 'Russian', 'iso_639_1': 'ru'...  Released   \n",
       "10  [{'english_name': 'English', 'iso_639_1': 'en'...  Released   \n",
       "12  [{'english_name': 'English', 'iso_639_1': 'en'...  Released   \n",
       "15  [{'english_name': 'English', 'iso_639_1': 'en'...  Released   \n",
       "\n",
       "                                              tagline  \\\n",
       "3   Feel the heat, keep the feeling burning, let t...   \n",
       "9                                                 NaN   \n",
       "10   Everyone loves a clown... some more than others.   \n",
       "12  This ain't no chick flick. It's poultry in mot...   \n",
       "15                    Everyone has something to hide.   \n",
       "\n",
       "                          title video  vote_average  vote_count certification  \\\n",
       "3          In the Mood for Love   0.0           8.1      1868.0            PG   \n",
       "9   Songs from the Second Floor   0.0           7.2       205.0           NaN   \n",
       "10                       Vulgar   0.0           5.5        40.0             R   \n",
       "12                  Chicken Run   0.0           6.7      3997.0             G   \n",
       "15     The Million Dollar Hotel   0.0           5.9       247.0             R   \n",
       "\n",
       "   long_runtime  \n",
       "3         False  \n",
       "9         False  \n",
       "10        False  \n",
       "12        False  \n",
       "15        False  \n",
       "\n",
       "[5 rows x 27 columns]"
      ]
     },
     "execution_count": 183,
     "metadata": {},
     "output_type": "execute_result"
    }
   ],
   "source": [
    "run_df['long_runtime'] = run_df['runtime'] >= 150\n",
    "run_df.head()"
   ]
  },
  {
   "cell_type": "code",
   "execution_count": 184,
   "id": "0b624272",
   "metadata": {},
   "outputs": [
    {
     "name": "stdout",
     "output_type": "stream",
     "text": [
      "There are 309 movies that were over 2.5 hours long.\n",
      " There are 7125 movies that were under 2.5 hours.\n"
     ]
    }
   ],
   "source": [
    "# Separate the column of interest based on groups\n",
    "long_df = run_df.loc[run_df['long_runtime'] ==True, ['revenue', 'long_runtime']]\n",
    "short_df = run_df.loc[run_df['long_runtime'] == False, ['revenue', 'long_runtime']]\n",
    "print(f'There are {len(long_df)} movies that were over 2.5 hours long.')\n",
    "print(f' There are {len(short_df)} movies that were under 2.5 hours.')"
   ]
  },
  {
   "cell_type": "markdown",
   "id": "45fdd959",
   "metadata": {},
   "source": [
    "**Visualize Group Means**"
   ]
  },
  {
   "cell_type": "code",
   "execution_count": 185,
   "id": "61c23ed5",
   "metadata": {},
   "outputs": [
    {
     "data": {
      "text/html": [
       "<div>\n",
       "<style scoped>\n",
       "    .dataframe tbody tr th:only-of-type {\n",
       "        vertical-align: middle;\n",
       "    }\n",
       "\n",
       "    .dataframe tbody tr th {\n",
       "        vertical-align: top;\n",
       "    }\n",
       "\n",
       "    .dataframe thead th {\n",
       "        text-align: right;\n",
       "    }\n",
       "</style>\n",
       "<table border=\"1\" class=\"dataframe\">\n",
       "  <thead>\n",
       "    <tr style=\"text-align: right;\">\n",
       "      <th></th>\n",
       "      <th>revenue</th>\n",
       "      <th>long_runtime</th>\n",
       "    </tr>\n",
       "  </thead>\n",
       "  <tbody>\n",
       "    <tr>\n",
       "      <th>61</th>\n",
       "      <td>15000000.0</td>\n",
       "      <td>True</td>\n",
       "    </tr>\n",
       "    <tr>\n",
       "      <th>158</th>\n",
       "      <td>465361176.0</td>\n",
       "      <td>True</td>\n",
       "    </tr>\n",
       "    <tr>\n",
       "      <th>240</th>\n",
       "      <td>215294342.0</td>\n",
       "      <td>True</td>\n",
       "    </tr>\n",
       "    <tr>\n",
       "      <th>584</th>\n",
       "      <td>4900000.0</td>\n",
       "      <td>True</td>\n",
       "    </tr>\n",
       "    <tr>\n",
       "      <th>749</th>\n",
       "      <td>500000.0</td>\n",
       "      <td>True</td>\n",
       "    </tr>\n",
       "    <tr>\n",
       "      <th>...</th>\n",
       "      <td>...</td>\n",
       "      <td>...</td>\n",
       "    </tr>\n",
       "    <tr>\n",
       "      <th>60086</th>\n",
       "      <td>8756.0</td>\n",
       "      <td>False</td>\n",
       "    </tr>\n",
       "    <tr>\n",
       "      <th>60094</th>\n",
       "      <td>6416063.0</td>\n",
       "      <td>False</td>\n",
       "    </tr>\n",
       "    <tr>\n",
       "      <th>60106</th>\n",
       "      <td>19002036.0</td>\n",
       "      <td>False</td>\n",
       "    </tr>\n",
       "    <tr>\n",
       "      <th>60107</th>\n",
       "      <td>44888959.0</td>\n",
       "      <td>False</td>\n",
       "    </tr>\n",
       "    <tr>\n",
       "      <th>60129</th>\n",
       "      <td>4588389.0</td>\n",
       "      <td>False</td>\n",
       "    </tr>\n",
       "  </tbody>\n",
       "</table>\n",
       "<p>7434 rows × 2 columns</p>\n",
       "</div>"
      ],
      "text/plain": [
       "           revenue  long_runtime\n",
       "61      15000000.0          True\n",
       "158    465361176.0          True\n",
       "240    215294342.0          True\n",
       "584      4900000.0          True\n",
       "749       500000.0          True\n",
       "...            ...           ...\n",
       "60086       8756.0         False\n",
       "60094    6416063.0         False\n",
       "60106   19002036.0         False\n",
       "60107   44888959.0         False\n",
       "60129    4588389.0         False\n",
       "\n",
       "[7434 rows x 2 columns]"
      ]
     },
     "execution_count": 185,
     "metadata": {},
     "output_type": "execute_result"
    }
   ],
   "source": [
    "plot_df = pd.concat([long_df, short_df], axis = 0)\n",
    "plot_df"
   ]
  },
  {
   "cell_type": "markdown",
   "id": "da1924c4",
   "metadata": {},
   "source": [
    "**Visualization**"
   ]
  },
  {
   "cell_type": "code",
   "execution_count": 186,
   "id": "9e726e75",
   "metadata": {},
   "outputs": [
    {
     "data": {
      "image/png": "[encoded data removed]",
      "text/plain": [
       "<Figure size 640x480 with 1 Axes>"
      ]
     },
     "metadata": {},
     "output_type": "display_data"
    }
   ],
   "source": [
    "# Visualize means\n",
    "ax = sns.barplot(data = plot_df, x = 'long_runtime', y = 'revenue');"
   ]
  },
  {
   "cell_type": "code",
   "execution_count": 187,
   "id": "f6364ea7",
   "metadata": {},
   "outputs": [
    {
     "data": {
      "text/plain": [
       "61      15000000.0\n",
       "158    465361176.0\n",
       "240    215294342.0\n",
       "584      4900000.0\n",
       "749       500000.0\n",
       "Name: revenue, dtype: float64"
      ]
     },
     "metadata": {},
     "output_type": "display_data"
    },
    {
     "data": {
      "text/plain": [
       "3      12854953.0\n",
       "9         80334.0\n",
       "10        14904.0\n",
       "12    224834564.0\n",
       "15       105983.0\n",
       "Name: revenue, dtype: float64"
      ]
     },
     "metadata": {},
     "output_type": "display_data"
    }
   ],
   "source": [
    "long_group = long_df['revenue']\n",
    "short_group = short_df['revenue']\n",
    "display(long_group.head(), short_group.head())"
   ]
  },
  {
   "cell_type": "markdown",
   "id": "b5ce792c",
   "metadata": {},
   "source": [
    "**Assumptions**"
   ]
  },
  {
   "cell_type": "markdown",
   "id": "e5670a95",
   "metadata": {},
   "source": [
    "**Checking for outliers**"
   ]
  },
  {
   "cell_type": "code",
   "execution_count": 188,
   "id": "4df8b3c0",
   "metadata": {},
   "outputs": [
    {
     "name": "stdout",
     "output_type": "stream",
     "text": [
      "There are 3 outliers in the longrun group out of 309\n"
     ]
    }
   ],
   "source": [
    "is_outlier_long = np.abs(stats.zscore(long_group)) >3\n",
    "print(f'There are {is_outlier_long.sum()} outliers in the longrun group out of {len(long_group)}')"
   ]
  },
  {
   "cell_type": "code",
   "execution_count": 189,
   "id": "0fbd9766",
   "metadata": {},
   "outputs": [
    {
     "data": {
      "text/html": [
       "<div>\n",
       "<style scoped>\n",
       "    .dataframe tbody tr th:only-of-type {\n",
       "        vertical-align: middle;\n",
       "    }\n",
       "\n",
       "    .dataframe tbody tr th {\n",
       "        vertical-align: top;\n",
       "    }\n",
       "\n",
       "    .dataframe thead th {\n",
       "        text-align: right;\n",
       "    }\n",
       "</style>\n",
       "<table border=\"1\" class=\"dataframe\">\n",
       "  <thead>\n",
       "    <tr style=\"text-align: right;\">\n",
       "      <th></th>\n",
       "      <th>revenue</th>\n",
       "      <th>long_runtime</th>\n",
       "    </tr>\n",
       "  </thead>\n",
       "  <tbody>\n",
       "    <tr>\n",
       "      <th>61</th>\n",
       "      <td>15000000.0</td>\n",
       "      <td>True</td>\n",
       "    </tr>\n",
       "    <tr>\n",
       "      <th>158</th>\n",
       "      <td>465361176.0</td>\n",
       "      <td>True</td>\n",
       "    </tr>\n",
       "    <tr>\n",
       "      <th>240</th>\n",
       "      <td>215294342.0</td>\n",
       "      <td>True</td>\n",
       "    </tr>\n",
       "    <tr>\n",
       "      <th>584</th>\n",
       "      <td>4900000.0</td>\n",
       "      <td>True</td>\n",
       "    </tr>\n",
       "    <tr>\n",
       "      <th>749</th>\n",
       "      <td>500000.0</td>\n",
       "      <td>True</td>\n",
       "    </tr>\n",
       "    <tr>\n",
       "      <th>...</th>\n",
       "      <td>...</td>\n",
       "      <td>...</td>\n",
       "    </tr>\n",
       "    <tr>\n",
       "      <th>59381</th>\n",
       "      <td>74530532.0</td>\n",
       "      <td>True</td>\n",
       "    </tr>\n",
       "    <tr>\n",
       "      <th>59422</th>\n",
       "      <td>27000000.0</td>\n",
       "      <td>True</td>\n",
       "    </tr>\n",
       "    <tr>\n",
       "      <th>59678</th>\n",
       "      <td>25452983.0</td>\n",
       "      <td>True</td>\n",
       "    </tr>\n",
       "    <tr>\n",
       "      <th>59707</th>\n",
       "      <td>39629195.0</td>\n",
       "      <td>True</td>\n",
       "    </tr>\n",
       "    <tr>\n",
       "      <th>59917</th>\n",
       "      <td>402027582.0</td>\n",
       "      <td>True</td>\n",
       "    </tr>\n",
       "  </tbody>\n",
       "</table>\n",
       "<p>306 rows × 2 columns</p>\n",
       "</div>"
      ],
      "text/plain": [
       "           revenue  long_runtime\n",
       "61      15000000.0          True\n",
       "158    465361176.0          True\n",
       "240    215294342.0          True\n",
       "584      4900000.0          True\n",
       "749       500000.0          True\n",
       "...            ...           ...\n",
       "59381   74530532.0          True\n",
       "59422   27000000.0          True\n",
       "59678   25452983.0          True\n",
       "59707   39629195.0          True\n",
       "59917  402027582.0          True\n",
       "\n",
       "[306 rows x 2 columns]"
      ]
     },
     "execution_count": 189,
     "metadata": {},
     "output_type": "execute_result"
    }
   ],
   "source": [
    "long_df.loc[~is_outlier_long]"
   ]
  },
  {
   "cell_type": "code",
   "execution_count": 190,
   "id": "db807190",
   "metadata": {},
   "outputs": [
    {
     "data": {
      "text/plain": [
       "61        15000000.0\n",
       "158      465361176.0\n",
       "240      215294342.0\n",
       "584        4900000.0\n",
       "749         500000.0\n",
       "            ...     \n",
       "59381     74530532.0\n",
       "59422     27000000.0\n",
       "59678     25452983.0\n",
       "59707     39629195.0\n",
       "59917    402027582.0\n",
       "Name: revenue, Length: 306, dtype: float64"
      ]
     },
     "execution_count": 190,
     "metadata": {},
     "output_type": "execute_result"
    }
   ],
   "source": [
    "# removing outliers\n",
    "long_group = long_group.loc[~is_outlier_long]\n",
    "long_group"
   ]
  },
  {
   "cell_type": "code",
   "execution_count": 191,
   "id": "264b6dfb",
   "metadata": {},
   "outputs": [
    {
     "name": "stdout",
     "output_type": "stream",
     "text": [
      "There are 170 outliers in the shortrun group out of 7125.\n"
     ]
    }
   ],
   "source": [
    "# Checking short run group for outliers\n",
    "is_outlier_short = np.abs(stats.zscore(short_group)) >3\n",
    "print(f\"There are {is_outlier_short.sum()} outliers in the shortrun group out of {len(short_group)}.\")\n"
   ]
  },
  {
   "cell_type": "code",
   "execution_count": 192,
   "id": "40f3aab9",
   "metadata": {},
   "outputs": [
    {
     "data": {
      "text/plain": [
       "3         12854953.0\n",
       "9            80334.0\n",
       "10           14904.0\n",
       "12       224834564.0\n",
       "15          105983.0\n",
       "            ...     \n",
       "60086         8756.0\n",
       "60094      6416063.0\n",
       "60106     19002036.0\n",
       "60107     44888959.0\n",
       "60129      4588389.0\n",
       "Name: revenue, Length: 6955, dtype: float64"
      ]
     },
     "execution_count": 192,
     "metadata": {},
     "output_type": "execute_result"
    }
   ],
   "source": [
    "short_group = short_group.loc[~is_outlier_short]\n",
    "short_group"
   ]
  },
  {
   "cell_type": "markdown",
   "id": "f8f8b116",
   "metadata": {},
   "source": [
    "**Normality:**\n",
    "\n",
    "* There are >20 in each group so we can proceed with the assumption that it is sufficient. "
   ]
  },
  {
   "cell_type": "markdown",
   "id": "61ae963d",
   "metadata": {},
   "source": [
    "**Equal Variance**"
   ]
  },
  {
   "cell_type": "code",
   "execution_count": 193,
   "id": "5466de46",
   "metadata": {},
   "outputs": [
    {
     "name": "stdout",
     "output_type": "stream",
     "text": [
      "LeveneResult(statistic=208.11752270339676, pvalue=1.5502965698796407e-46)\n",
      "True\n"
     ]
    }
   ],
   "source": [
    "run_result = stats.levene(long_group, short_group)\n",
    "print(run_result)\n",
    "print(run_result.pvalue<.05)"
   ]
  },
  {
   "cell_type": "markdown",
   "id": "e78fa08a",
   "metadata": {},
   "source": [
    "**Result:**\n",
    "\n",
    "* P value is < .05 so our groups do not have equal variance\n",
    "\n",
    "* Will use equal_var = False with test to compensate. "
   ]
  },
  {
   "cell_type": "markdown",
   "id": "2c69f94b",
   "metadata": {},
   "source": [
    "**T-test**"
   ]
  },
  {
   "cell_type": "code",
   "execution_count": 194,
   "id": "79c5de5f",
   "metadata": {},
   "outputs": [
    {
     "name": "stdout",
     "output_type": "stream",
     "text": [
      "Ttest_indResult(statistic=5.613373732415974, pvalue=4.4307015354185354e-08)\n",
      "True\n"
     ]
    }
   ],
   "source": [
    "result2 = stats.ttest_ind(long_group, short_group, equal_var = False)\n",
    "print(result2)\n",
    "print(result2.pvalue<.05)"
   ]
  },
  {
   "cell_type": "markdown",
   "id": "ef0a53e0",
   "metadata": {},
   "source": [
    "**FINAL CONCLUSIONS:** \n",
    "\n",
    "* Welch's ttest returned a P value less than .05 so we can reject the null hypotheses and support the alternate that there is a significant difference in revenue between movies greater than or equal to 2.5 hours and those less than 2.5 hours. \n",
    "\n",
    "* Based on the averages below we can see that movies over 2.5 hours had significantly higher revenue than those under 2.5 hours. "
   ]
  },
  {
   "cell_type": "code",
   "execution_count": 195,
   "id": "33479dcc",
   "metadata": {},
   "outputs": [
    {
     "name": "stdout",
     "output_type": "stream",
     "text": [
      " The average revenue for the longrun group was 126366406.14\n",
      " The average quantity for the shortrun group was 44991613.48\n"
     ]
    }
   ],
   "source": [
    "print(f\" The average revenue for the longrun group was {long_group.mean():.2f}\")\n",
    "print(f\" The average quantity for the shortrun group was {short_group.mean():.2f}\")"
   ]
  },
  {
   "cell_type": "markdown",
   "id": "d9058371",
   "metadata": {},
   "source": [
    "## 3rd Hypothesis Test"
   ]
  },
  {
   "cell_type": "markdown",
   "id": "2fede6f8",
   "metadata": {},
   "source": [
    "**???**\n",
    "\n",
    "**NULL:**\n",
    "\n",
    "**ALTERNATE:**\n",
    "\n",
    "**TEST:**\n",
    "\n",
    "**ASSUMPTIONS:**"
   ]
  },
  {
   "cell_type": "code",
   "execution_count": 196,
   "id": "d65c9e6a",
   "metadata": {},
   "outputs": [
    {
     "data": {
      "text/plain": [
       "[{'id': 18, 'name': 'Drama'}]                                                                                                                             10202\n",
       "[]                                                                                                                                                         6002\n",
       "[{'id': 35, 'name': 'Comedy'}]                                                                                                                             4061\n",
       "[{'id': 27, 'name': 'Horror'}]                                                                                                                             2974\n",
       "[{'id': 35, 'name': 'Comedy'}, {'id': 18, 'name': 'Drama'}]                                                                                                1842\n",
       "                                                                                                                                                          ...  \n",
       "[{'id': 28, 'name': 'Action'}, {'id': 10752, 'name': 'War'}, {'id': 14, 'name': 'Fantasy'}]                                                                   1\n",
       "[{'id': 80, 'name': 'Crime'}, {'id': 28, 'name': 'Action'}, {'id': 53, 'name': 'Thriller'}, {'id': 18, 'name': 'Drama'}, {'id': 10752, 'name': 'War'}]        1\n",
       "[{'id': 27, 'name': 'Horror'}, {'id': 18, 'name': 'Drama'}, {'id': 80, 'name': 'Crime'}]                                                                      1\n",
       "[{'id': 16, 'name': 'Animation'}, {'id': 53, 'name': 'Thriller'}, {'id': 18, 'name': 'Drama'}]                                                                1\n",
       "[{'id': 28, 'name': 'Action'}, {'id': 36, 'name': 'History'}, {'id': 37, 'name': 'Western'}]                                                                  1\n",
       "Name: genres, Length: 3766, dtype: int64"
      ]
     },
     "execution_count": 196,
     "metadata": {},
     "output_type": "execute_result"
    }
   ],
   "source": [
    "df['genres'].value_counts()"
   ]
  },
  {
   "cell_type": "code",
   "execution_count": 197,
   "id": "1b88d6ab",
   "metadata": {},
   "outputs": [
    {
     "name": "stdout",
     "output_type": "stream",
     "text": [
      "<class 'str'>\n"
     ]
    },
    {
     "data": {
      "text/plain": [
       "\"[{'id': 35, 'name': 'Comedy'}, {'id': 10402, 'name': 'Music'}, {'id': 10749, 'name': 'Romance'}]\""
      ]
     },
     "execution_count": 197,
     "metadata": {},
     "output_type": "execute_result"
    }
   ],
   "source": [
    "coord = df.loc[0, 'genres']\n",
    "print(type(coord))\n",
    "coord"
   ]
  },
  {
   "cell_type": "code",
   "execution_count": 198,
   "id": "b1d0188b",
   "metadata": {},
   "outputs": [
    {
     "data": {
      "text/plain": [
       "'[{\"id\": 35, \"name\": \"Comedy\"}, {\"id\": 10402, \"name\": \"Music\"}, {\"id\": 10749, \"name\": \"Romance\"}]'"
      ]
     },
     "execution_count": 198,
     "metadata": {},
     "output_type": "execute_result"
    }
   ],
   "source": [
    "# Replace single quotes\n",
    "coord = coord.replace(\"'\",'\"')\n",
    "coord"
   ]
  },
  {
   "cell_type": "code",
   "execution_count": 199,
   "id": "d8559b86",
   "metadata": {},
   "outputs": [
    {
     "name": "stdout",
     "output_type": "stream",
     "text": [
      "<class 'list'>\n"
     ]
    },
    {
     "data": {
      "text/plain": [
       "[{'id': 35, 'name': 'Comedy'},\n",
       " {'id': 10402, 'name': 'Music'},\n",
       " {'id': 10749, 'name': 'Romance'}]"
      ]
     },
     "execution_count": 199,
     "metadata": {},
     "output_type": "execute_result"
    }
   ],
   "source": [
    "# Use json.loads\n",
    "fixed_coord = json.loads(coord)\n",
    "print(type(fixed_coord))\n",
    "fixed_coord"
   ]
  },
  {
   "cell_type": "code",
   "execution_count": 206,
   "id": "337fc3c0",
   "metadata": {},
   "outputs": [
    {
     "ename": "ValueError",
     "evalue": "dictionary update sequence element #0 has length 1; 2 is required",
     "output_type": "error",
     "traceback": [
      "\u001b[0;31m---------------------------------------------------------------------------\u001b[0m",
      "\u001b[0;31mValueError\u001b[0m                                Traceback (most recent call last)",
      "Cell \u001b[0;32mIn [206], line 4\u001b[0m\n\u001b[1;32m      2\u001b[0m d1\u001b[38;5;241m=\u001b[39m{}\n\u001b[1;32m      3\u001b[0m \u001b[38;5;28;01mfor\u001b[39;00m i \u001b[38;5;129;01min\u001b[39;00m l1:\n\u001b[0;32m----> 4\u001b[0m     \u001b[43md1\u001b[49m\u001b[38;5;241;43m.\u001b[39;49m\u001b[43mupdate\u001b[49m\u001b[43m(\u001b[49m\u001b[43mi\u001b[49m\u001b[43m)\u001b[49m\n\u001b[1;32m      6\u001b[0m \u001b[38;5;28mprint\u001b[39m(d1)\n",
      "\u001b[0;31mValueError\u001b[0m: dictionary update sequence element #0 has length 1; 2 is required"
     ]
    }
   ],
   "source": []
  }
 ],
 "metadata": {
  "kernelspec": {
   "display_name": "Python (dojo-env)",
   "language": "python",
   "name": "dojo-env"
  },
  "language_info": {
   "codemirror_mode": {
    "name": "ipython",
    "version": 3
   },
   "file_extension": ".py",
   "mimetype": "text/x-python",
   "name": "python",
   "nbconvert_exporter": "python",
   "pygments_lexer": "ipython3",
   "version": "3.9.15"
  },
  "toc": {
   "base_numbering": 1,
   "nav_menu": {},
   "number_sections": false,
   "sideBar": true,
   "skip_h1_title": false,
   "title_cell": "Table of Contents",
   "title_sidebar": "Contents",
   "toc_cell": false,
   "toc_position": {},
   "toc_section_display": true,
   "toc_window_display": false
  }
 },
 "nbformat": 4,
 "nbformat_minor": 5
}
